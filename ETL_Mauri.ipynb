{
 "cells": [
  {
   "cell_type": "code",
   "execution_count": 9,
   "metadata": {},
   "outputs": [],
   "source": [
    "import os\n",
    "import pandas as pd\n",
    "import matplotlib.pyplot as plt\n",
    "import missingno as msno\n",
    "import seaborn as sns\n",
    "import numpy as np"
   ]
  },
  {
   "cell_type": "code",
   "execution_count": 10,
   "metadata": {},
   "outputs": [],
   "source": [
    "# Maenejo simplificado de archivos\n",
    "files = os.listdir('./Datasets/')\n",
    "files = [ file for file in files if not(file.endswith('.pdf'))  ]\n",
    "dict_files = {'df{}'.format(i+1): file for i, file in enumerate(files)}"
   ]
  },
  {
   "cell_type": "code",
   "execution_count": 2,
   "metadata": {},
   "outputs": [],
   "source": [
    "df = pd.read_csv(\"./Datasets_clean/taxi_zones.csv\")"
   ]
  },
  {
   "cell_type": "code",
   "execution_count": 3,
   "metadata": {},
   "outputs": [
    {
     "data": {
      "text/html": [
       "<div>\n",
       "<style scoped>\n",
       "    .dataframe tbody tr th:only-of-type {\n",
       "        vertical-align: middle;\n",
       "    }\n",
       "\n",
       "    .dataframe tbody tr th {\n",
       "        vertical-align: top;\n",
       "    }\n",
       "\n",
       "    .dataframe thead th {\n",
       "        text-align: right;\n",
       "    }\n",
       "</style>\n",
       "<table border=\"1\" class=\"dataframe\">\n",
       "  <thead>\n",
       "    <tr style=\"text-align: right;\">\n",
       "      <th></th>\n",
       "      <th>Unnamed: 0</th>\n",
       "      <th>OBJECTID,N,9,0</th>\n",
       "      <th>Shape_Leng,N,19,11</th>\n",
       "      <th>Shape_Area,N,19,11</th>\n",
       "      <th>zone,C,254</th>\n",
       "      <th>LocationID,N,4,0</th>\n",
       "      <th>borough,C,254</th>\n",
       "    </tr>\n",
       "  </thead>\n",
       "  <tbody>\n",
       "    <tr>\n",
       "      <th>0</th>\n",
       "      <td>0</td>\n",
       "      <td>1</td>\n",
       "      <td>0,116357453189</td>\n",
       "      <td>0,0007823067885</td>\n",
       "      <td>Newark Airport</td>\n",
       "      <td>1</td>\n",
       "      <td>EWR</td>\n",
       "    </tr>\n",
       "    <tr>\n",
       "      <th>1</th>\n",
       "      <td>1</td>\n",
       "      <td>2</td>\n",
       "      <td>0,43346966679</td>\n",
       "      <td>0,00486634037837</td>\n",
       "      <td>Jamaica Bay</td>\n",
       "      <td>2</td>\n",
       "      <td>Queens</td>\n",
       "    </tr>\n",
       "    <tr>\n",
       "      <th>2</th>\n",
       "      <td>2</td>\n",
       "      <td>3</td>\n",
       "      <td>0,0843411059012</td>\n",
       "      <td>0,000314414156821</td>\n",
       "      <td>Allerton/Pelham Gardens</td>\n",
       "      <td>3</td>\n",
       "      <td>Bronx</td>\n",
       "    </tr>\n",
       "    <tr>\n",
       "      <th>3</th>\n",
       "      <td>3</td>\n",
       "      <td>4</td>\n",
       "      <td>0,0435665270921</td>\n",
       "      <td>0,000111871946192</td>\n",
       "      <td>Alphabet City</td>\n",
       "      <td>4</td>\n",
       "      <td>Manhattan</td>\n",
       "    </tr>\n",
       "    <tr>\n",
       "      <th>4</th>\n",
       "      <td>4</td>\n",
       "      <td>5</td>\n",
       "      <td>0,0921464898574</td>\n",
       "      <td>0,000497957489363</td>\n",
       "      <td>Arden Heights</td>\n",
       "      <td>5</td>\n",
       "      <td>Staten Island</td>\n",
       "    </tr>\n",
       "  </tbody>\n",
       "</table>\n",
       "</div>"
      ],
      "text/plain": [
       "   Unnamed: 0  OBJECTID,N,9,0 Shape_Leng,N,19,11 Shape_Area,N,19,11  \\\n",
       "0           0               1     0,116357453189    0,0007823067885   \n",
       "1           1               2      0,43346966679   0,00486634037837   \n",
       "2           2               3    0,0843411059012  0,000314414156821   \n",
       "3           3               4    0,0435665270921  0,000111871946192   \n",
       "4           4               5    0,0921464898574  0,000497957489363   \n",
       "\n",
       "                zone,C,254  LocationID,N,4,0  borough,C,254  \n",
       "0           Newark Airport                 1            EWR  \n",
       "1              Jamaica Bay                 2         Queens  \n",
       "2  Allerton/Pelham Gardens                 3          Bronx  \n",
       "3            Alphabet City                 4      Manhattan  \n",
       "4            Arden Heights                 5  Staten Island  "
      ]
     },
     "execution_count": 3,
     "metadata": {},
     "output_type": "execute_result"
    }
   ],
   "source": [
    "df.head()"
   ]
  },
  {
   "cell_type": "code",
   "execution_count": 4,
   "metadata": {},
   "outputs": [
    {
     "data": {
      "text/plain": [
       "(263, 7)"
      ]
     },
     "execution_count": 4,
     "metadata": {},
     "output_type": "execute_result"
    }
   ],
   "source": [
    "df.shape"
   ]
  },
  {
   "cell_type": "code",
   "execution_count": 5,
   "metadata": {},
   "outputs": [
    {
     "name": "stdout",
     "output_type": "stream",
     "text": [
      "<class 'pandas.core.frame.DataFrame'>\n",
      "RangeIndex: 263 entries, 0 to 262\n",
      "Data columns (total 7 columns):\n",
      " #   Column              Non-Null Count  Dtype \n",
      "---  ------              --------------  ----- \n",
      " 0   Unnamed: 0          263 non-null    int64 \n",
      " 1   OBJECTID,N,9,0      263 non-null    int64 \n",
      " 2   Shape_Leng,N,19,11  263 non-null    object\n",
      " 3   Shape_Area,N,19,11  263 non-null    object\n",
      " 4   zone,C,254          263 non-null    object\n",
      " 5   LocationID,N,4,0    263 non-null    int64 \n",
      " 6   borough,C,254       263 non-null    object\n",
      "dtypes: int64(3), object(4)\n",
      "memory usage: 14.5+ KB\n"
     ]
    }
   ],
   "source": [
    "df.info()"
   ]
  },
  {
   "cell_type": "code",
   "execution_count": 6,
   "metadata": {},
   "outputs": [
    {
     "data": {
      "text/plain": [
       "Unnamed: 0            0\n",
       "OBJECTID,N,9,0        0\n",
       "Shape_Leng,N,19,11    0\n",
       "Shape_Area,N,19,11    0\n",
       "zone,C,254            0\n",
       "LocationID,N,4,0      0\n",
       "borough,C,254         0\n",
       "dtype: int64"
      ]
     },
     "execution_count": 6,
     "metadata": {},
     "output_type": "execute_result"
    }
   ],
   "source": [
    "df.isna().sum()"
   ]
  },
  {
   "cell_type": "code",
   "execution_count": 7,
   "metadata": {},
   "outputs": [
    {
     "data": {
      "text/plain": [
       "Index(['Unnamed: 0', 'OBJECTID,N,9,0', 'Shape_Leng,N,19,11',\n",
       "       'Shape_Area,N,19,11', 'zone,C,254', 'LocationID,N,4,0',\n",
       "       'borough,C,254'],\n",
       "      dtype='object')"
      ]
     },
     "execution_count": 7,
     "metadata": {},
     "output_type": "execute_result"
    }
   ],
   "source": [
    "df.columns"
   ]
  },
  {
   "cell_type": "code",
   "execution_count": 8,
   "metadata": {},
   "outputs": [],
   "source": [
    "df.to_csv('./Datasets_clean/taxi_zones.csv')"
   ]
  },
  {
   "cell_type": "markdown",
   "metadata": {},
   "source": [
    "ETL Inicial, archivo: Light Duty Vehicles.csv"
   ]
  },
  {
   "cell_type": "code",
   "execution_count": 12,
   "metadata": {},
   "outputs": [
    {
     "data": {
      "text/plain": [
       "'Light Duty Vehicles.csv'"
      ]
     },
     "execution_count": 12,
     "metadata": {},
     "output_type": "execute_result"
    }
   ],
   "source": [
    "dict_files['df5']"
   ]
  },
  {
   "cell_type": "code",
   "execution_count": 13,
   "metadata": {},
   "outputs": [
    {
     "data": {
      "text/html": [
       "<div>\n",
       "<style scoped>\n",
       "    .dataframe tbody tr th:only-of-type {\n",
       "        vertical-align: middle;\n",
       "    }\n",
       "\n",
       "    .dataframe tbody tr th {\n",
       "        vertical-align: top;\n",
       "    }\n",
       "\n",
       "    .dataframe thead th {\n",
       "        text-align: right;\n",
       "    }\n",
       "</style>\n",
       "<table border=\"1\" class=\"dataframe\">\n",
       "  <thead>\n",
       "    <tr style=\"text-align: right;\">\n",
       "      <th></th>\n",
       "      <th>Vehicle ID</th>\n",
       "      <th>Fuel ID</th>\n",
       "      <th>Fuel Configuration ID</th>\n",
       "      <th>Manufacturer ID</th>\n",
       "      <th>Category ID</th>\n",
       "      <th>Model</th>\n",
       "      <th>Model Year</th>\n",
       "      <th>Alternative Fuel Economy City</th>\n",
       "      <th>Alternative Fuel Economy Highway</th>\n",
       "      <th>Alternative Fuel Economy Combined</th>\n",
       "      <th>...</th>\n",
       "      <th>Manufacturer URL</th>\n",
       "      <th>Category</th>\n",
       "      <th>Fuel Code</th>\n",
       "      <th>Fuel</th>\n",
       "      <th>Fuel Configuration Name</th>\n",
       "      <th>Electric-Only Range</th>\n",
       "      <th>PHEV Total Range</th>\n",
       "      <th>PHEV Type</th>\n",
       "      <th>Notes</th>\n",
       "      <th>Drivetrain</th>\n",
       "    </tr>\n",
       "  </thead>\n",
       "  <tbody>\n",
       "    <tr>\n",
       "      <th>0</th>\n",
       "      <td>13044</td>\n",
       "      <td>45</td>\n",
       "      <td>9.0</td>\n",
       "      <td>365</td>\n",
       "      <td>27</td>\n",
       "      <td>NSX</td>\n",
       "      <td>2022</td>\n",
       "      <td>NaN</td>\n",
       "      <td>NaN</td>\n",
       "      <td>NaN</td>\n",
       "      <td>...</td>\n",
       "      <td>http://www.acura.com/</td>\n",
       "      <td>Sedan/Wagon</td>\n",
       "      <td>HYBR</td>\n",
       "      <td>Hybrid Electric</td>\n",
       "      <td>Hybrid Electric</td>\n",
       "      <td>NaN</td>\n",
       "      <td>NaN</td>\n",
       "      <td>NaN</td>\n",
       "      <td>NaN</td>\n",
       "      <td>AWD</td>\n",
       "    </tr>\n",
       "    <tr>\n",
       "      <th>1</th>\n",
       "      <td>12854</td>\n",
       "      <td>45</td>\n",
       "      <td>9.0</td>\n",
       "      <td>377</td>\n",
       "      <td>27</td>\n",
       "      <td>A3</td>\n",
       "      <td>2022</td>\n",
       "      <td>NaN</td>\n",
       "      <td>NaN</td>\n",
       "      <td>NaN</td>\n",
       "      <td>...</td>\n",
       "      <td>http://progress.audiusa.com/</td>\n",
       "      <td>Sedan/Wagon</td>\n",
       "      <td>HYBR</td>\n",
       "      <td>Hybrid Electric</td>\n",
       "      <td>Hybrid Electric</td>\n",
       "      <td>NaN</td>\n",
       "      <td>NaN</td>\n",
       "      <td>NaN</td>\n",
       "      <td>NaN</td>\n",
       "      <td>FWD</td>\n",
       "    </tr>\n",
       "    <tr>\n",
       "      <th>2</th>\n",
       "      <td>12842</td>\n",
       "      <td>45</td>\n",
       "      <td>9.0</td>\n",
       "      <td>377</td>\n",
       "      <td>27</td>\n",
       "      <td>A3 quattro</td>\n",
       "      <td>2022</td>\n",
       "      <td>NaN</td>\n",
       "      <td>NaN</td>\n",
       "      <td>NaN</td>\n",
       "      <td>...</td>\n",
       "      <td>http://progress.audiusa.com/</td>\n",
       "      <td>Sedan/Wagon</td>\n",
       "      <td>HYBR</td>\n",
       "      <td>Hybrid Electric</td>\n",
       "      <td>Hybrid Electric</td>\n",
       "      <td>NaN</td>\n",
       "      <td>NaN</td>\n",
       "      <td>NaN</td>\n",
       "      <td>NaN</td>\n",
       "      <td>AWD</td>\n",
       "    </tr>\n",
       "    <tr>\n",
       "      <th>3</th>\n",
       "      <td>12783</td>\n",
       "      <td>45</td>\n",
       "      <td>9.0</td>\n",
       "      <td>377</td>\n",
       "      <td>27</td>\n",
       "      <td>A4 allroad quattro</td>\n",
       "      <td>2022</td>\n",
       "      <td>NaN</td>\n",
       "      <td>NaN</td>\n",
       "      <td>NaN</td>\n",
       "      <td>...</td>\n",
       "      <td>http://progress.audiusa.com/</td>\n",
       "      <td>Sedan/Wagon</td>\n",
       "      <td>HYBR</td>\n",
       "      <td>Hybrid Electric</td>\n",
       "      <td>Hybrid Electric</td>\n",
       "      <td>NaN</td>\n",
       "      <td>NaN</td>\n",
       "      <td>NaN</td>\n",
       "      <td>NaN</td>\n",
       "      <td>AWD</td>\n",
       "    </tr>\n",
       "    <tr>\n",
       "      <th>4</th>\n",
       "      <td>12782</td>\n",
       "      <td>45</td>\n",
       "      <td>9.0</td>\n",
       "      <td>377</td>\n",
       "      <td>27</td>\n",
       "      <td>A4 quattro</td>\n",
       "      <td>2022</td>\n",
       "      <td>NaN</td>\n",
       "      <td>NaN</td>\n",
       "      <td>NaN</td>\n",
       "      <td>...</td>\n",
       "      <td>http://progress.audiusa.com/</td>\n",
       "      <td>Sedan/Wagon</td>\n",
       "      <td>HYBR</td>\n",
       "      <td>Hybrid Electric</td>\n",
       "      <td>Hybrid Electric</td>\n",
       "      <td>NaN</td>\n",
       "      <td>NaN</td>\n",
       "      <td>NaN</td>\n",
       "      <td>NaN</td>\n",
       "      <td>AWD</td>\n",
       "    </tr>\n",
       "  </tbody>\n",
       "</table>\n",
       "<p>5 rows × 29 columns</p>\n",
       "</div>"
      ],
      "text/plain": [
       "   Vehicle ID  Fuel ID  Fuel Configuration ID  Manufacturer ID  Category ID  \\\n",
       "0       13044       45                    9.0              365           27   \n",
       "1       12854       45                    9.0              377           27   \n",
       "2       12842       45                    9.0              377           27   \n",
       "3       12783       45                    9.0              377           27   \n",
       "4       12782       45                    9.0              377           27   \n",
       "\n",
       "                Model  Model Year  Alternative Fuel Economy City  \\\n",
       "0                 NSX        2022                            NaN   \n",
       "1                 A3         2022                            NaN   \n",
       "2          A3 quattro        2022                            NaN   \n",
       "3  A4 allroad quattro        2022                            NaN   \n",
       "4          A4 quattro        2022                            NaN   \n",
       "\n",
       "   Alternative Fuel Economy Highway  Alternative Fuel Economy Combined  ...  \\\n",
       "0                               NaN                                NaN  ...   \n",
       "1                               NaN                                NaN  ...   \n",
       "2                               NaN                                NaN  ...   \n",
       "3                               NaN                                NaN  ...   \n",
       "4                               NaN                                NaN  ...   \n",
       "\n",
       "               Manufacturer URL     Category  Fuel Code             Fuel  \\\n",
       "0         http://www.acura.com/  Sedan/Wagon       HYBR  Hybrid Electric   \n",
       "1  http://progress.audiusa.com/  Sedan/Wagon       HYBR  Hybrid Electric   \n",
       "2  http://progress.audiusa.com/  Sedan/Wagon       HYBR  Hybrid Electric   \n",
       "3  http://progress.audiusa.com/  Sedan/Wagon       HYBR  Hybrid Electric   \n",
       "4  http://progress.audiusa.com/  Sedan/Wagon       HYBR  Hybrid Electric   \n",
       "\n",
       "  Fuel Configuration Name Electric-Only Range  PHEV Total Range PHEV Type  \\\n",
       "0         Hybrid Electric                 NaN               NaN       NaN   \n",
       "1         Hybrid Electric                 NaN               NaN       NaN   \n",
       "2         Hybrid Electric                 NaN               NaN       NaN   \n",
       "3         Hybrid Electric                 NaN               NaN       NaN   \n",
       "4         Hybrid Electric                 NaN               NaN       NaN   \n",
       "\n",
       "  Notes Drivetrain  \n",
       "0   NaN        AWD  \n",
       "1   NaN        FWD  \n",
       "2   NaN        AWD  \n",
       "3   NaN        AWD  \n",
       "4   NaN        AWD  \n",
       "\n",
       "[5 rows x 29 columns]"
      ]
     },
     "execution_count": 13,
     "metadata": {},
     "output_type": "execute_result"
    }
   ],
   "source": [
    "df1 = pd.read_csv('./Datasets/' + dict_files['df5'])\n",
    "df1.head()"
   ]
  },
  {
   "cell_type": "code",
   "execution_count": 14,
   "metadata": {},
   "outputs": [
    {
     "name": "stdout",
     "output_type": "stream",
     "text": [
      "<class 'pandas.core.frame.DataFrame'>\n",
      "RangeIndex: 3008 entries, 0 to 3007\n",
      "Data columns (total 29 columns):\n",
      " #   Column                              Non-Null Count  Dtype  \n",
      "---  ------                              --------------  -----  \n",
      " 0   Vehicle ID                          3008 non-null   int64  \n",
      " 1   Fuel ID                             3008 non-null   int64  \n",
      " 2   Fuel Configuration ID               2973 non-null   float64\n",
      " 3   Manufacturer ID                     3008 non-null   int64  \n",
      " 4   Category ID                         3008 non-null   int64  \n",
      " 5   Model                               3008 non-null   object \n",
      " 6   Model Year                          3008 non-null   int64  \n",
      " 7   Alternative Fuel Economy City       1595 non-null   float64\n",
      " 8   Alternative Fuel Economy Highway    1505 non-null   float64\n",
      " 9   Alternative Fuel Economy Combined   467 non-null    float64\n",
      " 10  Conventional Fuel Economy City      2044 non-null   float64\n",
      " 11  Conventional Fuel Economy Highway   2046 non-null   float64\n",
      " 12  Conventional Fuel Economy Combined  763 non-null    float64\n",
      " 13  Transmission Type                   2922 non-null   object \n",
      " 14  Engine Type                         2211 non-null   object \n",
      " 15  Engine Size                         2874 non-null   object \n",
      " 16  Engine Cylinder Count               2443 non-null   float64\n",
      " 17  Engine Description                  1971 non-null   object \n",
      " 18  Manufacturer                        3008 non-null   object \n",
      " 19  Manufacturer URL                    2844 non-null   object \n",
      " 20  Category                            3008 non-null   object \n",
      " 21  Fuel Code                           3008 non-null   object \n",
      " 22  Fuel                                3008 non-null   object \n",
      " 23  Fuel Configuration Name             2973 non-null   object \n",
      " 24  Electric-Only Range                 374 non-null    float64\n",
      " 25  PHEV Total Range                    43 non-null     float64\n",
      " 26  PHEV Type                           176 non-null    object \n",
      " 27  Notes                               73 non-null     object \n",
      " 28  Drivetrain                          329 non-null    object \n",
      "dtypes: float64(10), int64(5), object(14)\n",
      "memory usage: 681.6+ KB\n"
     ]
    }
   ],
   "source": [
    "df1.info()"
   ]
  },
  {
   "cell_type": "code",
   "execution_count": 15,
   "metadata": {},
   "outputs": [
    {
     "data": {
      "text/plain": [
       "(3008, 29)"
      ]
     },
     "execution_count": 15,
     "metadata": {},
     "output_type": "execute_result"
    }
   ],
   "source": [
    "df1.shape\n",
    "# tiene 3008 regisros y 29 columnas"
   ]
  }
 ],
 "metadata": {
  "kernelspec": {
   "display_name": "Python 3",
   "language": "python",
   "name": "python3"
  },
  "language_info": {
   "codemirror_mode": {
    "name": "ipython",
    "version": 3
   },
   "file_extension": ".py",
   "mimetype": "text/x-python",
   "name": "python",
   "nbconvert_exporter": "python",
   "pygments_lexer": "ipython3",
   "version": "3.11.1"
  },
  "orig_nbformat": 4
 },
 "nbformat": 4,
 "nbformat_minor": 2
}
