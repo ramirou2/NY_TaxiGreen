{
 "cells": [
  {
   "cell_type": "code",
   "execution_count": 1172,
   "metadata": {},
   "outputs": [],
   "source": [
    "import pandas as pd\n",
    "import numpy as np\n",
    "import os\n",
    "import missingno as msno"
   ]
  },
  {
   "cell_type": "markdown",
   "metadata": {},
   "source": [
    "## Manejo de archivos simplificado"
   ]
  },
  {
   "cell_type": "code",
   "execution_count": 1173,
   "metadata": {},
   "outputs": [],
   "source": [
    "# Maenejo simplificado de archivos\n",
    "files = os.listdir('./Datasets_clean/')\n",
    "files = [ file for file in files if not(file.endswith('.pdf'))  ]\n",
    "dict_files = {'df{}'.format(i+1): file for i, file in enumerate(files)}"
   ]
  },
  {
   "cell_type": "code",
   "execution_count": 1174,
   "metadata": {},
   "outputs": [
    {
     "data": {
      "text/plain": [
       "{'df1': 'Alternative Fuel Vehicles US.csv',\n",
       " 'df2': 'ElectricCarData_Clean.csv',\n",
       " 'df3': 'Electric_and_Alternative_Fuel_Charging_Stations.csv',\n",
       " 'df4': 'Light Duty Vehicles.csv',\n",
       " 'df5': 'taxi+_zone_lookup.csv',\n",
       " 'df6': 'taxi_zones.csv',\n",
       " 'df7': 'Vehicle Fuel Economy Data.csv',\n",
       " 'df8': 'weather.csv'}"
      ]
     },
     "execution_count": 1174,
     "metadata": {},
     "output_type": "execute_result"
    }
   ],
   "source": [
    "dict_files"
   ]
  },
  {
   "cell_type": "markdown",
   "metadata": {},
   "source": [
    "# Se abrirán los archivos relacionados en tema vehiculos, según el der y se normalizaran datos y nombres de columnas, a modo de obtener los datos coherentes  y congruentes entres si."
   ]
  },
  {
   "cell_type": "markdown",
   "metadata": {},
   "source": [
    "### Archivo 'Light Duty Vehicles.csv'"
   ]
  },
  {
   "cell_type": "markdown",
   "metadata": {},
   "source": [
    "Este archivo aparenta ser el más completo, a su vez, podemos extraer las tablas de marcas por sus id, asi como las de fuel configuration, category, etc."
   ]
  },
  {
   "cell_type": "code",
   "execution_count": 1175,
   "metadata": {},
   "outputs": [
    {
     "data": {
      "text/plain": [
       "'Light Duty Vehicles.csv'"
      ]
     },
     "execution_count": 1175,
     "metadata": {},
     "output_type": "execute_result"
    }
   ],
   "source": [
    "dict_files['df4']"
   ]
  },
  {
   "cell_type": "code",
   "execution_count": 1176,
   "metadata": {},
   "outputs": [
    {
     "data": {
      "text/html": [
       "<div>\n",
       "<style scoped>\n",
       "    .dataframe tbody tr th:only-of-type {\n",
       "        vertical-align: middle;\n",
       "    }\n",
       "\n",
       "    .dataframe tbody tr th {\n",
       "        vertical-align: top;\n",
       "    }\n",
       "\n",
       "    .dataframe thead th {\n",
       "        text-align: right;\n",
       "    }\n",
       "</style>\n",
       "<table border=\"1\" class=\"dataframe\">\n",
       "  <thead>\n",
       "    <tr style=\"text-align: right;\">\n",
       "      <th></th>\n",
       "      <th>Vehicle ID</th>\n",
       "      <th>Fuel ID</th>\n",
       "      <th>Fuel Configuration ID</th>\n",
       "      <th>Manufacturer ID</th>\n",
       "      <th>Category ID</th>\n",
       "      <th>Model</th>\n",
       "      <th>Model Year</th>\n",
       "      <th>Alternative Fuel Economy City</th>\n",
       "      <th>Alternative Fuel Economy Highway</th>\n",
       "      <th>Conventional Fuel Economy City</th>\n",
       "      <th>...</th>\n",
       "      <th>Engine Size</th>\n",
       "      <th>Engine Description</th>\n",
       "      <th>Manufacturer</th>\n",
       "      <th>Category</th>\n",
       "      <th>Fuel Code</th>\n",
       "      <th>Fuel</th>\n",
       "      <th>Fuel Configuration Name</th>\n",
       "      <th>Electric-Only Range</th>\n",
       "      <th>PHEV Type</th>\n",
       "      <th>Drivetrain</th>\n",
       "    </tr>\n",
       "  </thead>\n",
       "  <tbody>\n",
       "    <tr>\n",
       "      <th>0</th>\n",
       "      <td>13044</td>\n",
       "      <td>45</td>\n",
       "      <td>9.0</td>\n",
       "      <td>365</td>\n",
       "      <td>27</td>\n",
       "      <td>NSX</td>\n",
       "      <td>2022</td>\n",
       "      <td>NaN</td>\n",
       "      <td>NaN</td>\n",
       "      <td>21.0</td>\n",
       "      <td>...</td>\n",
       "      <td>3.5L</td>\n",
       "      <td>3.5L V6</td>\n",
       "      <td>Acura</td>\n",
       "      <td>Sedan/Wagon</td>\n",
       "      <td>HYBR</td>\n",
       "      <td>Hybrid Electric</td>\n",
       "      <td>Hybrid Electric</td>\n",
       "      <td>NaN</td>\n",
       "      <td>NaN</td>\n",
       "      <td>AWD</td>\n",
       "    </tr>\n",
       "    <tr>\n",
       "      <th>1</th>\n",
       "      <td>12854</td>\n",
       "      <td>45</td>\n",
       "      <td>9.0</td>\n",
       "      <td>377</td>\n",
       "      <td>27</td>\n",
       "      <td>A3</td>\n",
       "      <td>2022</td>\n",
       "      <td>NaN</td>\n",
       "      <td>NaN</td>\n",
       "      <td>29.0</td>\n",
       "      <td>...</td>\n",
       "      <td>2.0L</td>\n",
       "      <td>2.0L I4</td>\n",
       "      <td>Audi</td>\n",
       "      <td>Sedan/Wagon</td>\n",
       "      <td>HYBR</td>\n",
       "      <td>Hybrid Electric</td>\n",
       "      <td>Hybrid Electric</td>\n",
       "      <td>NaN</td>\n",
       "      <td>NaN</td>\n",
       "      <td>FWD</td>\n",
       "    </tr>\n",
       "    <tr>\n",
       "      <th>2</th>\n",
       "      <td>12842</td>\n",
       "      <td>45</td>\n",
       "      <td>9.0</td>\n",
       "      <td>377</td>\n",
       "      <td>27</td>\n",
       "      <td>A3 quattro</td>\n",
       "      <td>2022</td>\n",
       "      <td>NaN</td>\n",
       "      <td>NaN</td>\n",
       "      <td>28.0</td>\n",
       "      <td>...</td>\n",
       "      <td>2.0L</td>\n",
       "      <td>2.0L I4</td>\n",
       "      <td>Audi</td>\n",
       "      <td>Sedan/Wagon</td>\n",
       "      <td>HYBR</td>\n",
       "      <td>Hybrid Electric</td>\n",
       "      <td>Hybrid Electric</td>\n",
       "      <td>NaN</td>\n",
       "      <td>NaN</td>\n",
       "      <td>AWD</td>\n",
       "    </tr>\n",
       "    <tr>\n",
       "      <th>3</th>\n",
       "      <td>12783</td>\n",
       "      <td>45</td>\n",
       "      <td>9.0</td>\n",
       "      <td>377</td>\n",
       "      <td>27</td>\n",
       "      <td>A4 allroad quattro</td>\n",
       "      <td>2022</td>\n",
       "      <td>NaN</td>\n",
       "      <td>NaN</td>\n",
       "      <td>24.0</td>\n",
       "      <td>...</td>\n",
       "      <td>2.0L</td>\n",
       "      <td>2.0L I4</td>\n",
       "      <td>Audi</td>\n",
       "      <td>Sedan/Wagon</td>\n",
       "      <td>HYBR</td>\n",
       "      <td>Hybrid Electric</td>\n",
       "      <td>Hybrid Electric</td>\n",
       "      <td>NaN</td>\n",
       "      <td>NaN</td>\n",
       "      <td>AWD</td>\n",
       "    </tr>\n",
       "    <tr>\n",
       "      <th>4</th>\n",
       "      <td>12782</td>\n",
       "      <td>45</td>\n",
       "      <td>9.0</td>\n",
       "      <td>377</td>\n",
       "      <td>27</td>\n",
       "      <td>A4 quattro</td>\n",
       "      <td>2022</td>\n",
       "      <td>NaN</td>\n",
       "      <td>NaN</td>\n",
       "      <td>26.0</td>\n",
       "      <td>...</td>\n",
       "      <td>2.0L</td>\n",
       "      <td>2.0L I4</td>\n",
       "      <td>Audi</td>\n",
       "      <td>Sedan/Wagon</td>\n",
       "      <td>HYBR</td>\n",
       "      <td>Hybrid Electric</td>\n",
       "      <td>Hybrid Electric</td>\n",
       "      <td>NaN</td>\n",
       "      <td>NaN</td>\n",
       "      <td>AWD</td>\n",
       "    </tr>\n",
       "  </tbody>\n",
       "</table>\n",
       "<p>5 rows × 24 columns</p>\n",
       "</div>"
      ],
      "text/plain": [
       "   Vehicle ID  Fuel ID  Fuel Configuration ID  Manufacturer ID  Category ID  \\\n",
       "0       13044       45                    9.0              365           27   \n",
       "1       12854       45                    9.0              377           27   \n",
       "2       12842       45                    9.0              377           27   \n",
       "3       12783       45                    9.0              377           27   \n",
       "4       12782       45                    9.0              377           27   \n",
       "\n",
       "                Model  Model Year  Alternative Fuel Economy City  \\\n",
       "0                 NSX        2022                            NaN   \n",
       "1                 A3         2022                            NaN   \n",
       "2          A3 quattro        2022                            NaN   \n",
       "3  A4 allroad quattro        2022                            NaN   \n",
       "4          A4 quattro        2022                            NaN   \n",
       "\n",
       "   Alternative Fuel Economy Highway  Conventional Fuel Economy City  ...  \\\n",
       "0                               NaN                            21.0  ...   \n",
       "1                               NaN                            29.0  ...   \n",
       "2                               NaN                            28.0  ...   \n",
       "3                               NaN                            24.0  ...   \n",
       "4                               NaN                            26.0  ...   \n",
       "\n",
       "   Engine Size  Engine Description Manufacturer     Category Fuel Code  \\\n",
       "0         3.5L             3.5L V6        Acura  Sedan/Wagon      HYBR   \n",
       "1         2.0L             2.0L I4         Audi  Sedan/Wagon      HYBR   \n",
       "2         2.0L             2.0L I4         Audi  Sedan/Wagon      HYBR   \n",
       "3         2.0L             2.0L I4         Audi  Sedan/Wagon      HYBR   \n",
       "4         2.0L             2.0L I4         Audi  Sedan/Wagon      HYBR   \n",
       "\n",
       "              Fuel Fuel Configuration Name Electric-Only Range PHEV Type  \\\n",
       "0  Hybrid Electric         Hybrid Electric                 NaN       NaN   \n",
       "1  Hybrid Electric         Hybrid Electric                 NaN       NaN   \n",
       "2  Hybrid Electric         Hybrid Electric                 NaN       NaN   \n",
       "3  Hybrid Electric         Hybrid Electric                 NaN       NaN   \n",
       "4  Hybrid Electric         Hybrid Electric                 NaN       NaN   \n",
       "\n",
       "  Drivetrain  \n",
       "0        AWD  \n",
       "1        FWD  \n",
       "2        AWD  \n",
       "3        AWD  \n",
       "4        AWD  \n",
       "\n",
       "[5 rows x 24 columns]"
      ]
     },
     "execution_count": 1176,
     "metadata": {},
     "output_type": "execute_result"
    }
   ],
   "source": [
    "df4 = pd.read_csv('./Datasets_clean/' + dict_files['df4']) \n",
    "df4.head()"
   ]
  },
  {
   "cell_type": "code",
   "execution_count": 1177,
   "metadata": {},
   "outputs": [
    {
     "data": {
      "text/plain": [
       "Index(['Vehicle ID', 'Fuel ID', 'Fuel Configuration ID', 'Manufacturer ID',\n",
       "       'Category ID', 'Model', 'Model Year', 'Alternative Fuel Economy City',\n",
       "       'Alternative Fuel Economy Highway', 'Conventional Fuel Economy City',\n",
       "       'Conventional Fuel Economy Highway',\n",
       "       'Conventional Fuel Economy Combined', 'Transmission Type',\n",
       "       'Engine Type', 'Engine Size', 'Engine Description', 'Manufacturer',\n",
       "       'Category', 'Fuel Code', 'Fuel', 'Fuel Configuration Name',\n",
       "       'Electric-Only Range', 'PHEV Type', 'Drivetrain'],\n",
       "      dtype='object')"
      ]
     },
     "execution_count": 1177,
     "metadata": {},
     "output_type": "execute_result"
    }
   ],
   "source": [
    "df4.columns"
   ]
  },
  {
   "cell_type": "code",
   "execution_count": 1178,
   "metadata": {},
   "outputs": [
    {
     "data": {
      "text/plain": [
       "<Axes: >"
      ]
     },
     "execution_count": 1178,
     "metadata": {},
     "output_type": "execute_result"
    },
    {
     "data": {
      "image/png": "[encoded data removed]",
      "text/plain": [
       "<Figure size 2500x1000 with 3 Axes>"
      ]
     },
     "metadata": {},
     "output_type": "display_data"
    }
   ],
   "source": [
    "msno.bar(df4)"
   ]
  },
  {
   "cell_type": "markdown",
   "metadata": {},
   "source": [
    "Para normalizar de manera correcta, me deshago de los campos Id que no posean valores, que son pocos. En este caso es solo Fuel Configuration ID. Además el Vehicle ID no aporta mucho y puede ser reemplazado posteriormente. "
   ]
  },
  {
   "cell_type": "code",
   "execution_count": 1179,
   "metadata": {},
   "outputs": [],
   "source": [
    "df4.dropna(subset=['Fuel Configuration ID', 'Vehicle ID'], inplace=True)"
   ]
  },
  {
   "cell_type": "markdown",
   "metadata": {},
   "source": [
    "#### Normalizar Fuel"
   ]
  },
  {
   "cell_type": "code",
   "execution_count": 1180,
   "metadata": {},
   "outputs": [
    {
     "data": {
      "text/html": [
       "<div>\n",
       "<style scoped>\n",
       "    .dataframe tbody tr th:only-of-type {\n",
       "        vertical-align: middle;\n",
       "    }\n",
       "\n",
       "    .dataframe tbody tr th {\n",
       "        vertical-align: top;\n",
       "    }\n",
       "\n",
       "    .dataframe thead th {\n",
       "        text-align: right;\n",
       "    }\n",
       "</style>\n",
       "<table border=\"1\" class=\"dataframe\">\n",
       "  <thead>\n",
       "    <tr style=\"text-align: right;\">\n",
       "      <th></th>\n",
       "      <th>Fuel ID</th>\n",
       "      <th>Fuel</th>\n",
       "      <th>Fuel Code</th>\n",
       "    </tr>\n",
       "  </thead>\n",
       "  <tbody>\n",
       "    <tr>\n",
       "      <th>0</th>\n",
       "      <td>45</td>\n",
       "      <td>Hybrid Electric</td>\n",
       "      <td>HYBR</td>\n",
       "    </tr>\n",
       "    <tr>\n",
       "      <th>1</th>\n",
       "      <td>57</td>\n",
       "      <td>Plug-in Hybrid Electric</td>\n",
       "      <td>PHEV</td>\n",
       "    </tr>\n",
       "    <tr>\n",
       "      <th>2</th>\n",
       "      <td>41</td>\n",
       "      <td>Electric</td>\n",
       "      <td>ELEC</td>\n",
       "    </tr>\n",
       "    <tr>\n",
       "      <th>3</th>\n",
       "      <td>35</td>\n",
       "      <td>Biodiesel (B20)</td>\n",
       "      <td>BD</td>\n",
       "    </tr>\n",
       "    <tr>\n",
       "      <th>4</th>\n",
       "      <td>11</td>\n",
       "      <td>Ethanol (E85)</td>\n",
       "      <td>E85_GSLN</td>\n",
       "    </tr>\n",
       "  </tbody>\n",
       "</table>\n",
       "</div>"
      ],
      "text/plain": [
       "   Fuel ID                     Fuel Fuel Code\n",
       "0       45          Hybrid Electric      HYBR\n",
       "1       57  Plug-in Hybrid Electric      PHEV\n",
       "2       41                 Electric      ELEC\n",
       "3       35          Biodiesel (B20)        BD\n",
       "4       11            Ethanol (E85)  E85_GSLN"
      ]
     },
     "execution_count": 1180,
     "metadata": {},
     "output_type": "execute_result"
    }
   ],
   "source": [
    "fuels = df4[['Fuel ID', 'Fuel', 'Fuel Code']].drop_duplicates().reset_index(drop=True)\n",
    "fuels.head()"
   ]
  },
  {
   "cell_type": "code",
   "execution_count": 1181,
   "metadata": {},
   "outputs": [],
   "source": [
    "df4.drop(columns=['Fuel', 'Fuel Code'], inplace=True)"
   ]
  },
  {
   "cell_type": "markdown",
   "metadata": {},
   "source": [
    "##### Normalizar Fuel Configuration"
   ]
  },
  {
   "cell_type": "code",
   "execution_count": 1182,
   "metadata": {},
   "outputs": [
    {
     "data": {
      "text/plain": [
       "Fuel Configuration ID      5\n",
       "Fuel Configuration Name    5\n",
       "dtype: int64"
      ]
     },
     "execution_count": 1182,
     "metadata": {},
     "output_type": "execute_result"
    }
   ],
   "source": [
    "fuel_configuration = df4[['Fuel Configuration ID', 'Fuel Configuration Name']].drop_duplicates().reset_index(drop=True)\n",
    "fuel_configuration.nunique()"
   ]
  },
  {
   "cell_type": "code",
   "execution_count": 1183,
   "metadata": {},
   "outputs": [],
   "source": [
    "df4.drop(columns=['Fuel Configuration Name'], inplace=True)"
   ]
  },
  {
   "cell_type": "markdown",
   "metadata": {},
   "source": [
    "#### Normalizar Manufacturer"
   ]
  },
  {
   "cell_type": "code",
   "execution_count": 1184,
   "metadata": {},
   "outputs": [
    {
     "data": {
      "text/plain": [
       "Manufacturer ID    55\n",
       "Manufacturer       55\n",
       "dtype: int64"
      ]
     },
     "execution_count": 1184,
     "metadata": {},
     "output_type": "execute_result"
    }
   ],
   "source": [
    "manufacturer = df4[['Manufacturer ID', 'Manufacturer']].drop_duplicates().reset_index(drop=True)\n",
    "manufacturer.nunique()"
   ]
  },
  {
   "cell_type": "code",
   "execution_count": 1185,
   "metadata": {},
   "outputs": [],
   "source": [
    "manufacturer['Manufacturer'] = manufacturer['Manufacturer'].apply(lambda x: x.strip().upper())"
   ]
  },
  {
   "cell_type": "code",
   "execution_count": 1186,
   "metadata": {},
   "outputs": [],
   "source": [
    "df4.drop(columns=['Manufacturer'], inplace=True)"
   ]
  },
  {
   "cell_type": "markdown",
   "metadata": {},
   "source": [
    "#### Normalizar Category"
   ]
  },
  {
   "cell_type": "code",
   "execution_count": 1187,
   "metadata": {},
   "outputs": [
    {
     "data": {
      "text/plain": [
       "Category ID    6\n",
       "Category       6\n",
       "dtype: int64"
      ]
     },
     "execution_count": 1187,
     "metadata": {},
     "output_type": "execute_result"
    }
   ],
   "source": [
    "category = df4[['Category ID', 'Category']].drop_duplicates().reset_index(drop=True)\n",
    "category.nunique()"
   ]
  },
  {
   "cell_type": "code",
   "execution_count": 1188,
   "metadata": {},
   "outputs": [],
   "source": [
    "df4.drop(columns=['Category'], inplace=True)"
   ]
  },
  {
   "cell_type": "markdown",
   "metadata": {},
   "source": [
    "**Se tiene un archivo bastante completo y normalizado en donde se puede. Se espera cruzar los datos con otras fuentes e ir mejorando la calidad del dato**"
   ]
  },
  {
   "cell_type": "markdown",
   "metadata": {},
   "source": [
    "#### Normalizamos Transmission type"
   ]
  },
  {
   "cell_type": "markdown",
   "metadata": {},
   "source": [
    "En terminos de coherencia y simpleza de los datos tendremos automatic y manual, si es compartida se mantendrá automatic. Dado que en esta data es engorroso, se descarta esta columna y se obtendrá de otras fuentes o tablas."
   ]
  },
  {
   "cell_type": "code",
   "execution_count": 1189,
   "metadata": {},
   "outputs": [
    {
     "data": {
      "text/plain": [
       "array(['Auto', nan, 'Manual', 'ECVT', 'Auto / Man', 'Automatic / 6 speed',\n",
       "       'Semi-Automatic', 'Automatic / 4 speed', 'Automatic',\n",
       "       'Automatic / 1 speed', 'Automatic / 5 speed', '6 speed Automatic',\n",
       "       'CVT', 'Manual / 6 speed', '3 mode / 1 speed',\n",
       "       'Automatic / 7 speed', 'ECVT / 8 speed', 'Automatic / Variable',\n",
       "       'Automatic / 8 speed', 'Manual / 5 speed', '5-Speed Automatic',\n",
       "       'V6, Hybrid, 3.5L', 'Automatic CVT', 'Continuously Variable',\n",
       "       '4-speed automatic', '6-speed automatic', 'Variable automatic',\n",
       "       '5-speed automatic', 'Automatic EVT', 'SOHC', 'Direct Drive',\n",
       "       '7-speed automatic', 'Multispeed automatic', '6-speed manual',\n",
       "       '4 speed automatic', '5 Speed Automatic', '4-speed automatic,',\n",
       "       'Manual 5-Speed or CVT', '5-speed auto with o/d',\n",
       "       'Automatic (CVT)', 'electronic, 4-speed automatic',\n",
       "       'electronic 4-speed automatic', '4-speed automatic, overdrive',\n",
       "       'Single-speed automatic', '4-speed auto or 5 speed manual',\n",
       "       'A/T 5 Speed overdrive', 'transaxle w/2-stage gear set',\n",
       "       'Single speed', 'manual', '4-speed automatic/5 spd manual',\n",
       "       'automatic', 'single-speed', '4-Speed Automatic',\n",
       "       'Automatic overdrive', 'Type Single-speed automatic',\n",
       "       'single speed', 'single speed w/dual reduction',\n",
       "       'Manual 5 or 6 Speed/Automatic', '4 Speed Automatic',\n",
       "       'single-speed, fixed ratio', '3-speed automatic',\n",
       "       '4-speed automatic w/overdrive', 'CD4E, 4-speed automatic',\n",
       "       'single-speed, reduction gear'], dtype=object)"
      ]
     },
     "execution_count": 1189,
     "metadata": {},
     "output_type": "execute_result"
    }
   ],
   "source": [
    "df4['Transmission Type'].unique()"
   ]
  },
  {
   "cell_type": "code",
   "execution_count": 1190,
   "metadata": {},
   "outputs": [],
   "source": [
    "# Definir una función para normalizar los valores específicos\n",
    "def normalize_transmission(transmission):\n",
    "    if pd.isna(transmission):\n",
    "        return np.nan\n",
    "    \n",
    "    transmission_lower = transmission.lower()\n",
    "    if any(keyword in transmission_lower for keyword in ['auto', 'automatic', 'cvt', 'direct', 'single', 'a/t']):\n",
    "        return 'Automatic'\n",
    "    elif any(keyword in transmission_lower for keyword in ['manual', 'man']):\n",
    "        return 'Manual'\n",
    "    else:\n",
    "        return np.nan"
   ]
  },
  {
   "cell_type": "code",
   "execution_count": 1191,
   "metadata": {},
   "outputs": [],
   "source": [
    "# Aplicar la función a la columna en cuestión\n",
    "df4['Transmission Type'] = df4['Transmission Type'].apply(normalize_transmission)"
   ]
  },
  {
   "cell_type": "code",
   "execution_count": 1192,
   "metadata": {},
   "outputs": [
    {
     "data": {
      "text/plain": [
       "array(['Automatic', nan, 'Manual'], dtype=object)"
      ]
     },
     "execution_count": 1192,
     "metadata": {},
     "output_type": "execute_result"
    }
   ],
   "source": [
    "df4['Transmission Type'].unique()"
   ]
  },
  {
   "cell_type": "code",
   "execution_count": null,
   "metadata": {},
   "outputs": [],
   "source": []
  },
  {
   "cell_type": "markdown",
   "metadata": {},
   "source": [
    "## Teniendo en cuenta este archivo, su nombre de columnas y campos, se manejaran el resto de archivos relacionados a vehiculos."
   ]
  },
  {
   "cell_type": "markdown",
   "metadata": {},
   "source": [
    "### Archivo 'Alternative Fuel Vehicles US.csv'"
   ]
  },
  {
   "cell_type": "code",
   "execution_count": 1193,
   "metadata": {},
   "outputs": [
    {
     "data": {
      "text/plain": [
       "'Alternative Fuel Vehicles US.csv'"
      ]
     },
     "execution_count": 1193,
     "metadata": {},
     "output_type": "execute_result"
    }
   ],
   "source": [
    "dict_files['df1']"
   ]
  },
  {
   "cell_type": "code",
   "execution_count": 1194,
   "metadata": {},
   "outputs": [
    {
     "data": {
      "text/html": [
       "<div>\n",
       "<style scoped>\n",
       "    .dataframe tbody tr th:only-of-type {\n",
       "        vertical-align: middle;\n",
       "    }\n",
       "\n",
       "    .dataframe tbody tr th {\n",
       "        vertical-align: top;\n",
       "    }\n",
       "\n",
       "    .dataframe thead th {\n",
       "        text-align: right;\n",
       "    }\n",
       "</style>\n",
       "<table border=\"1\" class=\"dataframe\">\n",
       "  <thead>\n",
       "    <tr style=\"text-align: right;\">\n",
       "      <th></th>\n",
       "      <th>Category</th>\n",
       "      <th>Model</th>\n",
       "      <th>Model Year</th>\n",
       "      <th>Manufacturer</th>\n",
       "      <th>Fuel</th>\n",
       "      <th>All-Electric Range</th>\n",
       "      <th>Alternative Fuel Economy Combined</th>\n",
       "      <th>Conventional Fuel Economy Combined</th>\n",
       "      <th>Transmission Type</th>\n",
       "      <th>Engine Size</th>\n",
       "    </tr>\n",
       "  </thead>\n",
       "  <tbody>\n",
       "    <tr>\n",
       "      <th>0</th>\n",
       "      <td>Sedan/Wagon</td>\n",
       "      <td>NSX</td>\n",
       "      <td>2022</td>\n",
       "      <td>Acura</td>\n",
       "      <td>Hybrid Electric</td>\n",
       "      <td>NaN</td>\n",
       "      <td>NaN</td>\n",
       "      <td>21.0</td>\n",
       "      <td>Automatic</td>\n",
       "      <td>3.5L</td>\n",
       "    </tr>\n",
       "    <tr>\n",
       "      <th>1</th>\n",
       "      <td>Sedan/Wagon</td>\n",
       "      <td>A3</td>\n",
       "      <td>2022</td>\n",
       "      <td>Audi</td>\n",
       "      <td>Hybrid Electric</td>\n",
       "      <td>NaN</td>\n",
       "      <td>NaN</td>\n",
       "      <td>32.0</td>\n",
       "      <td>Automatic</td>\n",
       "      <td>2.0L</td>\n",
       "    </tr>\n",
       "    <tr>\n",
       "      <th>2</th>\n",
       "      <td>Sedan/Wagon</td>\n",
       "      <td>A3 quattro</td>\n",
       "      <td>2022</td>\n",
       "      <td>Audi</td>\n",
       "      <td>Hybrid Electric</td>\n",
       "      <td>NaN</td>\n",
       "      <td>NaN</td>\n",
       "      <td>31.0</td>\n",
       "      <td>Automatic</td>\n",
       "      <td>2.0L</td>\n",
       "    </tr>\n",
       "    <tr>\n",
       "      <th>3</th>\n",
       "      <td>Sedan/Wagon</td>\n",
       "      <td>A4 allroad quattro</td>\n",
       "      <td>2022</td>\n",
       "      <td>Audi</td>\n",
       "      <td>Hybrid Electric</td>\n",
       "      <td>NaN</td>\n",
       "      <td>NaN</td>\n",
       "      <td>26.0</td>\n",
       "      <td>Automatic</td>\n",
       "      <td>2.0L</td>\n",
       "    </tr>\n",
       "    <tr>\n",
       "      <th>4</th>\n",
       "      <td>Sedan/Wagon</td>\n",
       "      <td>A4 quattro</td>\n",
       "      <td>2022</td>\n",
       "      <td>Audi</td>\n",
       "      <td>Hybrid Electric</td>\n",
       "      <td>NaN</td>\n",
       "      <td>NaN</td>\n",
       "      <td>29.0</td>\n",
       "      <td>Automatic</td>\n",
       "      <td>2.0L</td>\n",
       "    </tr>\n",
       "  </tbody>\n",
       "</table>\n",
       "</div>"
      ],
      "text/plain": [
       "      Category               Model  Model Year Manufacturer             Fuel  \\\n",
       "0  Sedan/Wagon                 NSX        2022        Acura  Hybrid Electric   \n",
       "1  Sedan/Wagon                 A3         2022         Audi  Hybrid Electric   \n",
       "2  Sedan/Wagon          A3 quattro        2022         Audi  Hybrid Electric   \n",
       "3  Sedan/Wagon  A4 allroad quattro        2022         Audi  Hybrid Electric   \n",
       "4  Sedan/Wagon          A4 quattro        2022         Audi  Hybrid Electric   \n",
       "\n",
       "   All-Electric Range  Alternative Fuel Economy Combined  \\\n",
       "0                 NaN                                NaN   \n",
       "1                 NaN                                NaN   \n",
       "2                 NaN                                NaN   \n",
       "3                 NaN                                NaN   \n",
       "4                 NaN                                NaN   \n",
       "\n",
       "   Conventional Fuel Economy Combined Transmission Type Engine Size  \n",
       "0                                21.0         Automatic        3.5L  \n",
       "1                                32.0         Automatic        2.0L  \n",
       "2                                31.0         Automatic        2.0L  \n",
       "3                                26.0         Automatic        2.0L  \n",
       "4                                29.0         Automatic        2.0L  "
      ]
     },
     "execution_count": 1194,
     "metadata": {},
     "output_type": "execute_result"
    }
   ],
   "source": [
    "df1 = pd.read_csv('./Datasets_clean/' + dict_files['df1']) \n",
    "df1.head()"
   ]
  },
  {
   "cell_type": "code",
   "execution_count": 1195,
   "metadata": {},
   "outputs": [
    {
     "data": {
      "text/plain": [
       "Index(['Vehicle ID', 'Fuel ID', 'Fuel Configuration ID', 'Manufacturer ID',\n",
       "       'Category ID', 'Model', 'Model Year', 'Alternative Fuel Economy City',\n",
       "       'Alternative Fuel Economy Highway', 'Conventional Fuel Economy City',\n",
       "       'Conventional Fuel Economy Highway',\n",
       "       'Conventional Fuel Economy Combined', 'Transmission Type',\n",
       "       'Engine Type', 'Engine Size', 'Engine Description',\n",
       "       'Electric-Only Range', 'PHEV Type', 'Drivetrain'],\n",
       "      dtype='object')"
      ]
     },
     "execution_count": 1195,
     "metadata": {},
     "output_type": "execute_result"
    }
   ],
   "source": [
    "df4.columns"
   ]
  },
  {
   "cell_type": "markdown",
   "metadata": {},
   "source": [
    "#### Normalizamos Manufacturer, ahora se tiene la tabla Manufacturer de la tabla anterior"
   ]
  },
  {
   "cell_type": "code",
   "execution_count": 1196,
   "metadata": {},
   "outputs": [],
   "source": [
    "df1['Manufacturer'] = df1['Manufacturer'].apply(lambda x: x.strip().upper())"
   ]
  },
  {
   "cell_type": "code",
   "execution_count": 1197,
   "metadata": {},
   "outputs": [],
   "source": [
    "# Crear un diccionario de mapeo de Manufacturer ID a Manufacturer\n",
    "manufacturer_mapping = manufacturer.set_index('Manufacturer')['Manufacturer ID'].to_dict()\n",
    "\n",
    "# Mapear los Manufacturer ID a los nombres de fabricantes en el DataFrame original\n",
    "df1['Manufacturer ID'] = df1['Manufacturer'].map(manufacturer_mapping)"
   ]
  },
  {
   "cell_type": "code",
   "execution_count": 1198,
   "metadata": {},
   "outputs": [
    {
     "data": {
      "text/plain": [
       "array([365, 377, 355, 211, 231, 215, 223, 409, 219, 213, 209, 351, 385,\n",
       "       275, 361, 387, 243, 227, 469, 229, 239, 425, 263, 217, 462, 391,\n",
       "       349, 470, 237, 221, 347, 395, 466, 424, 383], dtype=int64)"
      ]
     },
     "execution_count": 1198,
     "metadata": {},
     "output_type": "execute_result"
    }
   ],
   "source": [
    "df1['Manufacturer ID'].unique()"
   ]
  },
  {
   "cell_type": "markdown",
   "metadata": {},
   "source": [
    "Quedo perfecto, descartamos la columna Manufacturer"
   ]
  },
  {
   "cell_type": "code",
   "execution_count": 1199,
   "metadata": {},
   "outputs": [],
   "source": [
    "df1.drop(columns=['Manufacturer'], inplace=True)"
   ]
  },
  {
   "cell_type": "markdown",
   "metadata": {},
   "source": [
    "#### Normalizamos Category, ahora se tiene la tabla Category de la tabla anterior"
   ]
  },
  {
   "cell_type": "code",
   "execution_count": 1200,
   "metadata": {},
   "outputs": [],
   "source": [
    "# Crear un diccionario de mapeo de Manufacturer ID a Manufacturer\n",
    "category_mapping = category.set_index('Category')['Category ID'].to_dict()\n",
    "\n",
    "# Mapear los Manufacturer ID a los nombres de fabricantes en el DataFrame original\n",
    "df1['Category ID'] = df1['Category'].map(category_mapping)"
   ]
  },
  {
   "cell_type": "code",
   "execution_count": 1201,
   "metadata": {},
   "outputs": [
    {
     "data": {
      "text/plain": [
       "array([27, 29, 25,  9,  3], dtype=int64)"
      ]
     },
     "execution_count": 1201,
     "metadata": {},
     "output_type": "execute_result"
    }
   ],
   "source": [
    "df1['Category ID'].unique()"
   ]
  },
  {
   "cell_type": "markdown",
   "metadata": {},
   "source": [
    "Quedo perfecto, descartamos la columna category"
   ]
  },
  {
   "cell_type": "code",
   "execution_count": 1202,
   "metadata": {},
   "outputs": [],
   "source": [
    "df1.drop(columns=['Category'], inplace=True)"
   ]
  },
  {
   "cell_type": "markdown",
   "metadata": {},
   "source": [
    "#### Normalizamos Fuel, ahora se tiene la tabla fuel de la tabla anterior"
   ]
  },
  {
   "cell_type": "code",
   "execution_count": 1203,
   "metadata": {},
   "outputs": [],
   "source": [
    "# Crear un diccionario de mapeo de Manufacturer ID a Manufacturer\n",
    "fuel_mapping = fuels.set_index('Fuel')['Fuel ID'].to_dict()\n",
    "\n",
    "# Mapear los Manufacturer ID a los nombres de fabricantes en el DataFrame original\n",
    "df1['Fuel ID'] = df1['Fuel'].map(fuel_mapping)"
   ]
  },
  {
   "cell_type": "code",
   "execution_count": 1204,
   "metadata": {},
   "outputs": [
    {
     "data": {
      "text/plain": [
       "array([45, 57, 41, 35, 11,  9], dtype=int64)"
      ]
     },
     "execution_count": 1204,
     "metadata": {},
     "output_type": "execute_result"
    }
   ],
   "source": [
    "df1['Fuel ID'].unique()"
   ]
  },
  {
   "cell_type": "markdown",
   "metadata": {},
   "source": [
    "Quedo perfecto, descartamos la columna Fuel"
   ]
  },
  {
   "cell_type": "code",
   "execution_count": 1205,
   "metadata": {},
   "outputs": [],
   "source": [
    "df1.drop(columns=['Fuel'], inplace=True)"
   ]
  },
  {
   "cell_type": "markdown",
   "metadata": {},
   "source": [
    "#### Normalizamos Transmission Type"
   ]
  },
  {
   "cell_type": "code",
   "execution_count": 1206,
   "metadata": {},
   "outputs": [
    {
     "data": {
      "text/plain": [
       "array(['Automatic', nan], dtype=object)"
      ]
     },
     "execution_count": 1206,
     "metadata": {},
     "output_type": "execute_result"
    }
   ],
   "source": [
    "df1['Transmission Type'].unique()"
   ]
  },
  {
   "cell_type": "markdown",
   "metadata": {},
   "source": [
    "Se mantiene correcto en termino de lo anterior, posteriormente se cruzaran con más tablas de ser necesarios."
   ]
  },
  {
   "cell_type": "markdown",
   "metadata": {},
   "source": [
    "### Archivo 'ElectricCarData_Clean.csv'"
   ]
  },
  {
   "cell_type": "code",
   "execution_count": 1207,
   "metadata": {},
   "outputs": [
    {
     "data": {
      "text/plain": [
       "'ElectricCarData_Clean.csv'"
      ]
     },
     "execution_count": 1207,
     "metadata": {},
     "output_type": "execute_result"
    }
   ],
   "source": [
    "dict_files['df2']"
   ]
  },
  {
   "cell_type": "code",
   "execution_count": 1208,
   "metadata": {},
   "outputs": [
    {
     "data": {
      "text/html": [
       "<div>\n",
       "<style scoped>\n",
       "    .dataframe tbody tr th:only-of-type {\n",
       "        vertical-align: middle;\n",
       "    }\n",
       "\n",
       "    .dataframe tbody tr th {\n",
       "        vertical-align: top;\n",
       "    }\n",
       "\n",
       "    .dataframe thead th {\n",
       "        text-align: right;\n",
       "    }\n",
       "</style>\n",
       "<table border=\"1\" class=\"dataframe\">\n",
       "  <thead>\n",
       "    <tr style=\"text-align: right;\">\n",
       "      <th></th>\n",
       "      <th>Brand</th>\n",
       "      <th>Model</th>\n",
       "      <th>AccelSec</th>\n",
       "      <th>TopSpeed_KmH</th>\n",
       "      <th>Range_Km</th>\n",
       "      <th>Efficiency_WhKm</th>\n",
       "      <th>FastCharge_KmH</th>\n",
       "      <th>RapidCharge</th>\n",
       "      <th>PowerTrain</th>\n",
       "      <th>PlugType</th>\n",
       "      <th>BodyStyle</th>\n",
       "      <th>Segment</th>\n",
       "      <th>Seats</th>\n",
       "      <th>PriceEuro</th>\n",
       "    </tr>\n",
       "  </thead>\n",
       "  <tbody>\n",
       "    <tr>\n",
       "      <th>0</th>\n",
       "      <td>Tesla</td>\n",
       "      <td>Model 3 Long Range Dual Motor</td>\n",
       "      <td>4.6</td>\n",
       "      <td>233</td>\n",
       "      <td>450</td>\n",
       "      <td>161</td>\n",
       "      <td>940</td>\n",
       "      <td>Yes</td>\n",
       "      <td>AWD</td>\n",
       "      <td>Type 2 CCS</td>\n",
       "      <td>Sedan</td>\n",
       "      <td>D</td>\n",
       "      <td>5</td>\n",
       "      <td>55480</td>\n",
       "    </tr>\n",
       "    <tr>\n",
       "      <th>1</th>\n",
       "      <td>Volkswagen</td>\n",
       "      <td>ID.3 Pure</td>\n",
       "      <td>10.0</td>\n",
       "      <td>160</td>\n",
       "      <td>270</td>\n",
       "      <td>167</td>\n",
       "      <td>250</td>\n",
       "      <td>Yes</td>\n",
       "      <td>RWD</td>\n",
       "      <td>Type 2 CCS</td>\n",
       "      <td>Hatchback</td>\n",
       "      <td>C</td>\n",
       "      <td>5</td>\n",
       "      <td>30000</td>\n",
       "    </tr>\n",
       "    <tr>\n",
       "      <th>2</th>\n",
       "      <td>Polestar</td>\n",
       "      <td>2</td>\n",
       "      <td>4.7</td>\n",
       "      <td>210</td>\n",
       "      <td>400</td>\n",
       "      <td>181</td>\n",
       "      <td>620</td>\n",
       "      <td>Yes</td>\n",
       "      <td>AWD</td>\n",
       "      <td>Type 2 CCS</td>\n",
       "      <td>Liftback</td>\n",
       "      <td>D</td>\n",
       "      <td>5</td>\n",
       "      <td>56440</td>\n",
       "    </tr>\n",
       "    <tr>\n",
       "      <th>3</th>\n",
       "      <td>BMW</td>\n",
       "      <td>iX3</td>\n",
       "      <td>6.8</td>\n",
       "      <td>180</td>\n",
       "      <td>360</td>\n",
       "      <td>206</td>\n",
       "      <td>560</td>\n",
       "      <td>Yes</td>\n",
       "      <td>RWD</td>\n",
       "      <td>Type 2 CCS</td>\n",
       "      <td>SUV</td>\n",
       "      <td>D</td>\n",
       "      <td>5</td>\n",
       "      <td>68040</td>\n",
       "    </tr>\n",
       "    <tr>\n",
       "      <th>4</th>\n",
       "      <td>Honda</td>\n",
       "      <td>e</td>\n",
       "      <td>9.5</td>\n",
       "      <td>145</td>\n",
       "      <td>170</td>\n",
       "      <td>168</td>\n",
       "      <td>190</td>\n",
       "      <td>Yes</td>\n",
       "      <td>RWD</td>\n",
       "      <td>Type 2 CCS</td>\n",
       "      <td>Hatchback</td>\n",
       "      <td>B</td>\n",
       "      <td>4</td>\n",
       "      <td>32997</td>\n",
       "    </tr>\n",
       "  </tbody>\n",
       "</table>\n",
       "</div>"
      ],
      "text/plain": [
       "         Brand                          Model  AccelSec  TopSpeed_KmH  \\\n",
       "0       Tesla   Model 3 Long Range Dual Motor       4.6           233   \n",
       "1  Volkswagen                       ID.3 Pure      10.0           160   \n",
       "2    Polestar                               2       4.7           210   \n",
       "3         BMW                            iX3        6.8           180   \n",
       "4       Honda                              e        9.5           145   \n",
       "\n",
       "   Range_Km  Efficiency_WhKm  FastCharge_KmH RapidCharge PowerTrain  \\\n",
       "0       450              161             940         Yes        AWD   \n",
       "1       270              167             250         Yes        RWD   \n",
       "2       400              181             620         Yes        AWD   \n",
       "3       360              206             560         Yes        RWD   \n",
       "4       170              168             190         Yes        RWD   \n",
       "\n",
       "     PlugType  BodyStyle Segment  Seats  PriceEuro  \n",
       "0  Type 2 CCS      Sedan       D      5      55480  \n",
       "1  Type 2 CCS  Hatchback       C      5      30000  \n",
       "2  Type 2 CCS   Liftback       D      5      56440  \n",
       "3  Type 2 CCS        SUV       D      5      68040  \n",
       "4  Type 2 CCS  Hatchback       B      4      32997  "
      ]
     },
     "execution_count": 1208,
     "metadata": {},
     "output_type": "execute_result"
    }
   ],
   "source": [
    "df2 = pd.read_csv('./Datasets_clean/' + dict_files['df2']) \n",
    "df2.head()"
   ]
  },
  {
   "cell_type": "markdown",
   "metadata": {},
   "source": [
    "Primero cambiamos los nombres de las columnas previo a trabajarlas."
   ]
  },
  {
   "cell_type": "code",
   "execution_count": 1209,
   "metadata": {},
   "outputs": [],
   "source": [
    "df2.rename(columns={'Brand': 'Manufacturer'}, inplace=True)"
   ]
  },
  {
   "cell_type": "code",
   "execution_count": 1210,
   "metadata": {},
   "outputs": [],
   "source": [
    "df2.rename(columns={'PowerTrain': 'Drivetrain'}, inplace=True)"
   ]
  },
  {
   "cell_type": "code",
   "execution_count": 1211,
   "metadata": {},
   "outputs": [],
   "source": [
    "df2.rename(columns={'BodyStyle': 'Category'}, inplace=True)"
   ]
  },
  {
   "cell_type": "code",
   "execution_count": 1212,
   "metadata": {},
   "outputs": [
    {
     "data": {
      "text/plain": [
       "array(['Sedan', 'Hatchback', 'Liftback', 'SUV', 'Pickup', 'MPV', 'Cabrio',\n",
       "       'SPV', 'Station'], dtype=object)"
      ]
     },
     "execution_count": 1212,
     "metadata": {},
     "output_type": "execute_result"
    }
   ],
   "source": [
    "df2.Category.unique()"
   ]
  },
  {
   "cell_type": "code",
   "execution_count": 1213,
   "metadata": {},
   "outputs": [
    {
     "data": {
      "text/plain": [
       "array(['Sedan/Wagon', 'SUV', 'Pickup', 'Van', 'Passenger Van/Shuttle Bus',\n",
       "       'Vocational/Cab Chassis'], dtype=object)"
      ]
     },
     "execution_count": 1213,
     "metadata": {},
     "output_type": "execute_result"
    }
   ],
   "source": [
    "category['Category'].unique()"
   ]
  },
  {
   "cell_type": "markdown",
   "metadata": {},
   "source": [
    "#### Mapeamos a la tabla category que esta más reducido en variables, y no afecta al desarrollo del proceso."
   ]
  },
  {
   "cell_type": "code",
   "execution_count": 1214,
   "metadata": {},
   "outputs": [],
   "source": [
    "df4_merged = df4.merge(manufacturer, on='Manufacturer ID', how='left') #Obtengo nuevamente el manufacturer en la tabla\n",
    "\n",
    "# Realizar un merge para cruzar los valores \n",
    "result_df = df4_merged.merge(df2[['Manufacturer', 'Model', 'Category']], on=['Manufacturer', 'Model'], how='left')\n",
    "\n",
    "# crear la category id\n",
    "df2['Category ID'] = result_df['Category ID']"
   ]
  },
  {
   "cell_type": "code",
   "execution_count": 1215,
   "metadata": {},
   "outputs": [
    {
     "data": {
      "text/plain": [
       "array([27, 29, 25,  9], dtype=int64)"
      ]
     },
     "execution_count": 1215,
     "metadata": {},
     "output_type": "execute_result"
    }
   ],
   "source": [
    "df2['Category ID'].unique()"
   ]
  },
  {
   "cell_type": "code",
   "execution_count": 1216,
   "metadata": {},
   "outputs": [],
   "source": [
    "df2.drop(columns=['Category'], inplace=True)"
   ]
  },
  {
   "cell_type": "markdown",
   "metadata": {},
   "source": [
    "#### Normalizamos Manufacturer empleando la tabla Manufacturer"
   ]
  },
  {
   "cell_type": "code",
   "execution_count": 1217,
   "metadata": {},
   "outputs": [],
   "source": [
    "df2['Manufacturer'] = df2['Manufacturer'].apply(lambda x: x.strip().upper())"
   ]
  },
  {
   "cell_type": "code",
   "execution_count": 1218,
   "metadata": {},
   "outputs": [
    {
     "data": {
      "text/plain": [
       "array(['TESLA', 'VOLKSWAGEN', 'POLESTAR', 'BMW', 'HONDA', 'LUCID',\n",
       "       'PEUGEOT', 'AUDI', 'MERCEDES', 'NISSAN', 'HYUNDAI', 'PORSCHE',\n",
       "       'MG', 'MINI', 'OPEL', 'SKODA', 'VOLVO', 'KIA', 'RENAULT', 'MAZDA',\n",
       "       'LEXUS', 'CUPRA', 'SEAT', 'LIGHTYEAR', 'AIWAYS', 'DS', 'CITROEN',\n",
       "       'JAGUAR', 'FORD', 'BYTON', 'SONO', 'SMART', 'FIAT'], dtype=object)"
      ]
     },
     "execution_count": 1218,
     "metadata": {},
     "output_type": "execute_result"
    }
   ],
   "source": [
    "df2.Manufacturer.unique()"
   ]
  },
  {
   "cell_type": "code",
   "execution_count": 1219,
   "metadata": {},
   "outputs": [
    {
     "data": {
      "text/plain": [
       "array(['ACURA', 'AUDI', 'BENTLEY MOTORS', 'BMW', 'BUICK', 'BYD MOTORS',\n",
       "       'CADILLAC', 'CHEVROLET', 'CHRYSLER', 'CODA AUTOMOTIVE', 'DODGE',\n",
       "       'FERRARI', 'FIAT', 'FISKER AUTOMOTIVE', 'FORD',\n",
       "       'GENERAL MOTORS EV', 'GMC', 'HONDA', 'HUMMER', 'HYUNDAI',\n",
       "       'INFINITI', 'JAGUAR', 'JEEP', 'KANDI', 'KARMA', 'KIA',\n",
       "       'LAND ROVER', 'LEXUS', 'LINCOLN', 'LUCID USA, INC.', 'MAZDA',\n",
       "       'MCLAREN', 'MERCEDES-BENZ', 'MERCURY', 'MINI', 'MITSUBISHI',\n",
       "       'NISSAN', 'PLYMOUTH', 'POLESTAR AUTOMOTIVE USA', 'PORSCHE',\n",
       "       'QUANTUM-PROCON', 'RAM', 'RIVIAN', 'SAAB', 'SATURN', 'SCION',\n",
       "       'SMART', 'SOLECTRIA', 'SUBARU', 'TESLA', 'TOYOTA',\n",
       "       'VEHICLE PRODUCTION GROUP', 'VOLKSWAGEN', 'VOLVO',\n",
       "       'WHEEGO ELECTRIC CARS, INC.'], dtype=object)"
      ]
     },
     "execution_count": 1219,
     "metadata": {},
     "output_type": "execute_result"
    }
   ],
   "source": [
    "manufacturer.Manufacturer.sort_values().unique()"
   ]
  },
  {
   "cell_type": "code",
   "execution_count": 1220,
   "metadata": {},
   "outputs": [],
   "source": [
    "df2['Manufacturer'] = df2['Manufacturer'].apply( lambda x: 'MERCEDES-BENZ' if str(x) == 'MERCEDES' else x )\n",
    "df2['Manufacturer'] = df2['Manufacturer'].apply( lambda x: 'POLESTAR AUTOMOTIVE USA' if str(x) == 'POLESTAR' else x )\n",
    "df2['Manufacturer'] = df2['Manufacturer'].apply( lambda x: 'LUCID USA, INC.' if str(x) == 'LUCID' else x )"
   ]
  },
  {
   "cell_type": "code",
   "execution_count": 1221,
   "metadata": {},
   "outputs": [],
   "source": [
    "# Crear un diccionario de mapeo de Manufacturer ID a Manufacturer\n",
    "manufacturer_mapping = manufacturer.set_index('Manufacturer')['Manufacturer ID'].to_dict()\n",
    "# Mapear los Manufacturer ID a los nombres de fabricantes en el DataFrame original\n",
    "df2['Manufacturer ID'] = df2['Manufacturer'].map(manufacturer_mapping)"
   ]
  },
  {
   "cell_type": "code",
   "execution_count": 1222,
   "metadata": {},
   "outputs": [
    {
     "data": {
      "text/plain": [
       "array(['PEUGEOT', 'MG', 'OPEL', 'SKODA', 'RENAULT', 'CUPRA', 'SEAT',\n",
       "       'LIGHTYEAR', 'AIWAYS', 'DS', 'CITROEN', 'BYTON', 'SONO'],\n",
       "      dtype=object)"
      ]
     },
     "execution_count": 1222,
     "metadata": {},
     "output_type": "execute_result"
    }
   ],
   "source": [
    "df2[df2['Manufacturer ID'].isna()]['Manufacturer'].unique()"
   ]
  },
  {
   "cell_type": "code",
   "execution_count": 1223,
   "metadata": {},
   "outputs": [
    {
     "data": {
      "text/plain": [
       "array([209, 211, 213, 215, 217, 219, 221, 223, 225, 227, 229, 231, 233,\n",
       "       235, 237, 239, 241, 243, 247, 263, 271, 273, 275, 315, 317, 319,\n",
       "       341, 347, 349, 351, 353, 355, 359, 361, 363, 365, 367, 371, 377,\n",
       "       379, 381, 383, 385, 387, 389, 391, 395, 409, 410, 424, 425, 462,\n",
       "       466, 469, 470], dtype=int64)"
      ]
     },
     "execution_count": 1223,
     "metadata": {},
     "output_type": "execute_result"
    }
   ],
   "source": [
    "manufacturer['Manufacturer ID'].sort_values().unique()"
   ]
  },
  {
   "cell_type": "code",
   "execution_count": 1224,
   "metadata": {},
   "outputs": [],
   "source": [
    "# ultimo_manufacturer_id = manufacturer['Manufacturer ID'].max()\n",
    "\n",
    "# # Calcular los nuevos Manufacturer IDs para las marcas a agregar\n",
    "# nuevos_manufacturer_ids = list(range(ultimo_manufacturer_id + 1, ultimo_manufacturer_id + 1 + len(nuevas_marcas)))\n",
    "\n",
    "# # Crear un DataFrame para las nuevas marcas y sus IDs\n",
    "# nuevas_marcas_df = pd.DataFrame({'Manufacturer': nuevas_marcas, 'Manufacturer ID': nuevos_manufacturer_ids})\n",
    "\n",
    "# # Concatenar el DataFrame de las nuevas marcas con el DataFrame original\n",
    "# aux = pd.concat([manufacturer, nuevas_marcas_df], ignore_index=True)\n"
   ]
  },
  {
   "cell_type": "code",
   "execution_count": 1225,
   "metadata": {},
   "outputs": [],
   "source": [
    "marcas_a_agregar = df2[df2['Manufacturer ID'].isna()]['Manufacturer'].unique().tolist()\n",
    "\n",
    "ultimo_valor = manufacturer['Manufacturer ID'].max()\n",
    "inicio_valor = ultimo_valor + 1\n",
    "\n",
    "for marca in marcas_a_agregar:\n",
    "    manufacturer_mapping[marca] = inicio_valor\n",
    "    inicio_valor += 1"
   ]
  },
  {
   "cell_type": "code",
   "execution_count": 1226,
   "metadata": {},
   "outputs": [],
   "source": [
    "df2['Manufacturer ID'] = df2['Manufacturer'].map(manufacturer_mapping)"
   ]
  },
  {
   "cell_type": "code",
   "execution_count": 1227,
   "metadata": {},
   "outputs": [
    {
     "data": {
      "text/plain": [
       "array([237, 347, 462, 211, 209, 469, 471, 377, 239, 217, 351, 391, 472,\n",
       "       425, 473, 474, 395, 361, 475, 229, 243, 476, 477, 478, 479, 480,\n",
       "       481, 385, 219, 482, 483, 381, 379], dtype=int64)"
      ]
     },
     "execution_count": 1227,
     "metadata": {},
     "output_type": "execute_result"
    }
   ],
   "source": [
    "df2['Manufacturer ID'].unique()"
   ]
  },
  {
   "cell_type": "code",
   "execution_count": 1228,
   "metadata": {},
   "outputs": [
    {
     "data": {
      "text/plain": [
       "68"
      ]
     },
     "execution_count": 1228,
     "metadata": {},
     "output_type": "execute_result"
    }
   ],
   "source": [
    "len(manufacturer_mapping) # había 55 asique se sumaron las 14, reemplzadamos el df manufacturer para que quede completo"
   ]
  },
  {
   "cell_type": "code",
   "execution_count": 1229,
   "metadata": {},
   "outputs": [],
   "source": [
    "manufacturer = pd.DataFrame(list(manufacturer_mapping.items()), columns=['Manufacturer', 'Manufacturer ID'])\n",
    "manufacturer = manufacturer[['Manufacturer ID', 'Manufacturer']]\n"
   ]
  },
  {
   "cell_type": "markdown",
   "metadata": {},
   "source": [
    "Quedo perfecto, descartamos la columna manufacturer"
   ]
  },
  {
   "cell_type": "code",
   "execution_count": 1230,
   "metadata": {},
   "outputs": [],
   "source": [
    "df2.drop(columns=['Manufacturer'], inplace=True)"
   ]
  },
  {
   "cell_type": "markdown",
   "metadata": {},
   "source": [
    "### Archivo 'Vehicle Fuel Economy Data.csv'"
   ]
  },
  {
   "cell_type": "code",
   "execution_count": 1231,
   "metadata": {},
   "outputs": [
    {
     "data": {
      "text/plain": [
       "'Vehicle Fuel Economy Data.csv'"
      ]
     },
     "execution_count": 1231,
     "metadata": {},
     "output_type": "execute_result"
    }
   ],
   "source": [
    "dict_files['df7']"
   ]
  },
  {
   "cell_type": "code",
   "execution_count": 1232,
   "metadata": {},
   "outputs": [
    {
     "data": {
      "text/html": [
       "<div>\n",
       "<style scoped>\n",
       "    .dataframe tbody tr th:only-of-type {\n",
       "        vertical-align: middle;\n",
       "    }\n",
       "\n",
       "    .dataframe tbody tr th {\n",
       "        vertical-align: top;\n",
       "    }\n",
       "\n",
       "    .dataframe thead th {\n",
       "        text-align: right;\n",
       "    }\n",
       "</style>\n",
       "<table border=\"1\" class=\"dataframe\">\n",
       "  <thead>\n",
       "    <tr style=\"text-align: right;\">\n",
       "      <th></th>\n",
       "      <th>Year</th>\n",
       "      <th>Manufacturer</th>\n",
       "      <th>Model</th>\n",
       "      <th>co2TailpipeGpm</th>\n",
       "      <th>city08</th>\n",
       "      <th>highway08</th>\n",
       "      <th>fuelType1</th>\n",
       "      <th>ghgScore</th>\n",
       "      <th>VClass</th>\n",
       "      <th>drive</th>\n",
       "      <th>fuelCost08</th>\n",
       "      <th>fuelCostA08</th>\n",
       "    </tr>\n",
       "  </thead>\n",
       "  <tbody>\n",
       "    <tr>\n",
       "      <th>0</th>\n",
       "      <td>2017</td>\n",
       "      <td>BMW</td>\n",
       "      <td>M6 Coupe</td>\n",
       "      <td>519.0</td>\n",
       "      <td>15.0</td>\n",
       "      <td>22.0</td>\n",
       "      <td>Premium Gasoline</td>\n",
       "      <td>3.0</td>\n",
       "      <td>Subcompact Cars</td>\n",
       "      <td>2-Wheel Drive</td>\n",
       "      <td>3850.0</td>\n",
       "      <td>0.0</td>\n",
       "    </tr>\n",
       "    <tr>\n",
       "      <th>1</th>\n",
       "      <td>2017</td>\n",
       "      <td>BMW</td>\n",
       "      <td>X3 sDrive28i</td>\n",
       "      <td>374.0</td>\n",
       "      <td>21.0</td>\n",
       "      <td>28.0</td>\n",
       "      <td>Premium Gasoline</td>\n",
       "      <td>5.0</td>\n",
       "      <td>Small Sport Utility Vehicle</td>\n",
       "      <td>2-Wheel Drive</td>\n",
       "      <td>2700.0</td>\n",
       "      <td>0.0</td>\n",
       "    </tr>\n",
       "    <tr>\n",
       "      <th>2</th>\n",
       "      <td>2016</td>\n",
       "      <td>Infiniti</td>\n",
       "      <td>Q50S Red Sport</td>\n",
       "      <td>402.0</td>\n",
       "      <td>20.0</td>\n",
       "      <td>26.0</td>\n",
       "      <td>Premium Gasoline</td>\n",
       "      <td>5.0</td>\n",
       "      <td>Midsize Cars</td>\n",
       "      <td>2-Wheel Drive</td>\n",
       "      <td>2950.0</td>\n",
       "      <td>0.0</td>\n",
       "    </tr>\n",
       "    <tr>\n",
       "      <th>3</th>\n",
       "      <td>2017</td>\n",
       "      <td>MINI</td>\n",
       "      <td>John Cooper Works Convertible</td>\n",
       "      <td>327.0</td>\n",
       "      <td>24.0</td>\n",
       "      <td>32.0</td>\n",
       "      <td>Premium Gasoline</td>\n",
       "      <td>6.0</td>\n",
       "      <td>Minicompact Cars</td>\n",
       "      <td>2-Wheel Drive</td>\n",
       "      <td>2400.0</td>\n",
       "      <td>0.0</td>\n",
       "    </tr>\n",
       "    <tr>\n",
       "      <th>4</th>\n",
       "      <td>2017</td>\n",
       "      <td>Kia</td>\n",
       "      <td>Sedona SX</td>\n",
       "      <td>433.0</td>\n",
       "      <td>18.0</td>\n",
       "      <td>25.0</td>\n",
       "      <td>Regular Gasoline</td>\n",
       "      <td>4.0</td>\n",
       "      <td>Minivan</td>\n",
       "      <td>2-Wheel Drive</td>\n",
       "      <td>2550.0</td>\n",
       "      <td>0.0</td>\n",
       "    </tr>\n",
       "  </tbody>\n",
       "</table>\n",
       "</div>"
      ],
      "text/plain": [
       "   Year Manufacturer                          Model  co2TailpipeGpm  city08  \\\n",
       "0  2017          BMW                       M6 Coupe           519.0    15.0   \n",
       "1  2017          BMW                   X3 sDrive28i           374.0    21.0   \n",
       "2  2016     Infiniti                 Q50S Red Sport           402.0    20.0   \n",
       "3  2017         MINI  John Cooper Works Convertible           327.0    24.0   \n",
       "4  2017          Kia                      Sedona SX           433.0    18.0   \n",
       "\n",
       "   highway08         fuelType1  ghgScore                       VClass  \\\n",
       "0       22.0  Premium Gasoline       3.0              Subcompact Cars   \n",
       "1       28.0  Premium Gasoline       5.0  Small Sport Utility Vehicle   \n",
       "2       26.0  Premium Gasoline       5.0                 Midsize Cars   \n",
       "3       32.0  Premium Gasoline       6.0             Minicompact Cars   \n",
       "4       25.0  Regular Gasoline       4.0                      Minivan   \n",
       "\n",
       "           drive  fuelCost08  fuelCostA08  \n",
       "0  2-Wheel Drive      3850.0          0.0  \n",
       "1  2-Wheel Drive      2700.0          0.0  \n",
       "2  2-Wheel Drive      2950.0          0.0  \n",
       "3  2-Wheel Drive      2400.0          0.0  \n",
       "4  2-Wheel Drive      2550.0          0.0  "
      ]
     },
     "execution_count": 1232,
     "metadata": {},
     "output_type": "execute_result"
    }
   ],
   "source": [
    "df7 = pd.read_csv('./Datasets_clean/' + dict_files['df7']) \n",
    "df7.head()"
   ]
  },
  {
   "cell_type": "code",
   "execution_count": 1233,
   "metadata": {},
   "outputs": [],
   "source": [
    "df7.rename(columns={'drive': 'Drivetrain'}, inplace=True)"
   ]
  },
  {
   "cell_type": "code",
   "execution_count": 1234,
   "metadata": {},
   "outputs": [],
   "source": [
    "df7.rename(columns={'Year': 'Model Year'}, inplace=True)"
   ]
  },
  {
   "cell_type": "code",
   "execution_count": 1235,
   "metadata": {},
   "outputs": [
    {
     "data": {
      "text/plain": [
       "array(['2-Wheel Drive', '4-Wheel Drive', 'Part-time 4-Wheel Drive', nan],\n",
       "      dtype=object)"
      ]
     },
     "execution_count": 1235,
     "metadata": {},
     "output_type": "execute_result"
    }
   ],
   "source": [
    "df7['Drivetrain'].unique()"
   ]
  },
  {
   "cell_type": "code",
   "execution_count": 1236,
   "metadata": {},
   "outputs": [
    {
     "data": {
      "text/plain": [
       "array(['AWD', 'FWD', nan, 'RWD', '4WD', 'Part-Time 4WD'], dtype=object)"
      ]
     },
     "execution_count": 1236,
     "metadata": {},
     "output_type": "execute_result"
    }
   ],
   "source": [
    "df4['Drivetrain'].unique()"
   ]
  },
  {
   "cell_type": "code",
   "execution_count": 1237,
   "metadata": {},
   "outputs": [],
   "source": [
    "# Diccionario de mapeo\n",
    "drivetrain_mapping = {\n",
    "    '2-Wheel Drive': 'FWD',\n",
    "    '4-Wheel Drive': '4WD',\n",
    "    'Part-time 4-Wheel Drive': 'Part-Time 4WD',\n",
    "    # Agrega más entradas según sea necesario\n",
    "}\n",
    "\n",
    "# Aplicar el mapeo a la columna 'Drivetrain' utilizando .replace()\n",
    "df7['Drivetrain'] = df7['Drivetrain'].replace(drivetrain_mapping)"
   ]
  },
  {
   "cell_type": "markdown",
   "metadata": {},
   "source": [
    "#### Normalizamos Manufacturer"
   ]
  },
  {
   "cell_type": "code",
   "execution_count": 1238,
   "metadata": {},
   "outputs": [],
   "source": [
    "df7['Manufacturer'] = df7['Manufacturer'].apply(lambda x: str(x).strip().upper())"
   ]
  },
  {
   "cell_type": "code",
   "execution_count": 1239,
   "metadata": {},
   "outputs": [
    {
     "data": {
      "text/plain": [
       "array(['ACURA', 'AIWAYS', 'AUDI', 'BENTLEY MOTORS', 'BMW', 'BUICK',\n",
       "       'BYD MOTORS', 'BYTON', 'CADILLAC', 'CHEVROLET', 'CHRYSLER',\n",
       "       'CITROEN', 'CODA AUTOMOTIVE', 'CUPRA', 'DODGE', 'DS', 'FERRARI',\n",
       "       'FIAT', 'FISKER AUTOMOTIVE', 'FORD', 'GENERAL MOTORS EV', 'GMC',\n",
       "       'HONDA', 'HUMMER', 'HYUNDAI', 'INFINITI', 'JAGUAR', 'JEEP',\n",
       "       'KANDI', 'KARMA', 'KIA', 'LAND ROVER', 'LEXUS', 'LIGHTYEAR',\n",
       "       'LINCOLN', 'LUCID USA, INC.', 'MAZDA', 'MCLAREN', 'MERCEDES-BENZ',\n",
       "       'MERCURY', 'MG', 'MINI', 'MITSUBISHI', 'NISSAN', 'OPEL', 'PEUGEOT',\n",
       "       'PLYMOUTH', 'POLESTAR AUTOMOTIVE USA', 'PORSCHE', 'QUANTUM-PROCON',\n",
       "       'RAM', 'RENAULT', 'RIVIAN', 'SAAB', 'SATURN', 'SCION', 'SEAT',\n",
       "       'SKODA', 'SMART', 'SOLECTRIA', 'SONO', 'SUBARU', 'TESLA', 'TOYOTA',\n",
       "       'VEHICLE PRODUCTION GROUP', 'VOLKSWAGEN', 'VOLVO',\n",
       "       'WHEEGO ELECTRIC CARS, INC.'], dtype=object)"
      ]
     },
     "execution_count": 1239,
     "metadata": {},
     "output_type": "execute_result"
    }
   ],
   "source": [
    "manufacturer['Manufacturer'].sort_values().unique()"
   ]
  },
  {
   "cell_type": "code",
   "execution_count": 1240,
   "metadata": {},
   "outputs": [],
   "source": [
    "df7['Manufacturer'] = df7['Manufacturer'].apply(lambda x: 'BYD MOTORS' if x == 'BYD' else x)\n",
    "df7['Manufacturer'] = df7['Manufacturer'].apply(lambda x: 'LUCID USA, INC.' if x == 'LUCID' else x)\n",
    "df7['Manufacturer'] = df7['Manufacturer'].apply(lambda x: 'RUF AUTOMOBILE GMBH' if x == 'RUF AUTOMOBILE' else x)\n",
    "df7['Manufacturer'] = df7['Manufacturer'].apply(lambda x: 'SALEEN PERFORMANCE' if x == 'SALEEN' else x)\n",
    "df7['Manufacturer'] = df7['Manufacturer'].apply(lambda x: 'BENTLEY MOTORS' if x == 'BENTLEY' else x)\n",
    "df7['Manufacturer'] = df7['Manufacturer'].apply(lambda x: 'FISKER AUTOMOTIVE' if x == 'FISKER' else x)\n",
    "df7['Manufacturer'] = df7['Manufacturer'].apply(lambda x: 'GRUMMAN OLSON' if x == 'GRUMMAN ALLIED INDUSTRIES' else x)\n",
    "df7['Manufacturer'] = df7['Manufacturer'].apply(lambda x: 'LONDON COACH CO INC' if x == 'LONDON TAXI' else x)\n",
    "df7['Manufacturer'] = df7['Manufacturer'].apply(lambda x: 'PANOZ AUTO-DEVELOPMENT' if x == 'PANOS' else x)\n",
    "df7['Manufacturer'] = df7['Manufacturer'].apply(lambda x: 'MCLAREN' if x == 'MCLAREN AUTOMOTIVE' else x)\n",
    "df7['Manufacturer'] = df7['Manufacturer'].apply(lambda x: 'POLESTAR AUTOMOTIVE USA' if x == 'POLESTAR' else x)"
   ]
  },
  {
   "cell_type": "code",
   "execution_count": 1241,
   "metadata": {},
   "outputs": [],
   "source": [
    "manufacturer_mapping = manufacturer.set_index('Manufacturer')['Manufacturer ID'].to_dict()\n",
    "\n",
    "df7['Manufacturer ID'] = df7['Manufacturer'].map(manufacturer_mapping)"
   ]
  },
  {
   "cell_type": "code",
   "execution_count": 1242,
   "metadata": {},
   "outputs": [
    {
     "data": {
      "text/plain": [
       "array(['ACURA', 'AIWAYS', 'AUDI', 'BENTLEY MOTORS', 'BMW', 'BUICK',\n",
       "       'BYD MOTORS', 'BYTON', 'CADILLAC', 'CHEVROLET', 'CHRYSLER',\n",
       "       'CITROEN', 'CODA AUTOMOTIVE', 'CUPRA', 'DODGE', 'DS', 'FERRARI',\n",
       "       'FIAT', 'FISKER AUTOMOTIVE', 'FORD', 'GENERAL MOTORS EV', 'GMC',\n",
       "       'HONDA', 'HUMMER', 'HYUNDAI', 'INFINITI', 'JAGUAR', 'JEEP',\n",
       "       'KANDI', 'KARMA', 'KIA', 'LAND ROVER', 'LEXUS', 'LIGHTYEAR',\n",
       "       'LINCOLN', 'LUCID USA, INC.', 'MAZDA', 'MCLAREN', 'MERCEDES-BENZ',\n",
       "       'MERCURY', 'MG', 'MINI', 'MITSUBISHI', 'NISSAN', 'OPEL', 'PEUGEOT',\n",
       "       'PLYMOUTH', 'POLESTAR AUTOMOTIVE USA', 'PORSCHE', 'QUANTUM-PROCON',\n",
       "       'RAM', 'RENAULT', 'RIVIAN', 'SAAB', 'SATURN', 'SCION', 'SEAT',\n",
       "       'SKODA', 'SMART', 'SOLECTRIA', 'SONO', 'SUBARU', 'TESLA', 'TOYOTA',\n",
       "       'VEHICLE PRODUCTION GROUP', 'VOLKSWAGEN', 'VOLVO',\n",
       "       'WHEEGO ELECTRIC CARS, INC.'], dtype=object)"
      ]
     },
     "execution_count": 1242,
     "metadata": {},
     "output_type": "execute_result"
    }
   ],
   "source": [
    "manufacturer['Manufacturer'].sort_values().unique()"
   ]
  },
  {
   "cell_type": "code",
   "execution_count": 1243,
   "metadata": {},
   "outputs": [],
   "source": [
    "nuevas_marcas = df7[df7['Manufacturer ID'].isna()]['Manufacturer'].sort_values().unique().tolist()"
   ]
  },
  {
   "cell_type": "code",
   "execution_count": 1244,
   "metadata": {},
   "outputs": [
    {
     "data": {
      "text/plain": [
       "81"
      ]
     },
     "execution_count": 1244,
     "metadata": {},
     "output_type": "execute_result"
    }
   ],
   "source": [
    "len(nuevas_marcas)"
   ]
  },
  {
   "cell_type": "code",
   "execution_count": 1245,
   "metadata": {},
   "outputs": [],
   "source": [
    "ultimo_manufacturer_id = manufacturer['Manufacturer ID'].max()\n",
    "\n",
    " # Calcular los nuevos Manufacturer IDs para las marcas a agregar\n",
    "nuevos_manufacturer_ids = list(range(ultimo_manufacturer_id + 1, ultimo_manufacturer_id + 1 + len(nuevas_marcas)))\n",
    "\n",
    "# Crear un DataFrame para las nuevas marcas y sus IDs\n",
    "nuevas_marcas_df = pd.DataFrame({'Manufacturer': nuevas_marcas, 'Manufacturer ID': nuevos_manufacturer_ids})\n",
    "\n",
    "# Concatenar el DataFrame de las nuevas marcas con el DataFrame original\n",
    "manufacturer = pd.concat([manufacturer, nuevas_marcas_df], ignore_index=True)\n"
   ]
  },
  {
   "cell_type": "code",
   "execution_count": 1246,
   "metadata": {},
   "outputs": [
    {
     "data": {
      "text/plain": [
       "(149, 2)"
      ]
     },
     "execution_count": 1246,
     "metadata": {},
     "output_type": "execute_result"
    }
   ],
   "source": [
    "manufacturer.shape"
   ]
  },
  {
   "cell_type": "markdown",
   "metadata": {},
   "source": [
    "# Los siguientes archivos se relacionan entre si, por eso van en conjunto"
   ]
  },
  {
   "cell_type": "markdown",
   "metadata": {},
   "source": [
    "### Archivo 'Electric_and_Alternative_Fuel_Charging_Stations.csv'"
   ]
  },
  {
   "cell_type": "code",
   "execution_count": 1247,
   "metadata": {},
   "outputs": [
    {
     "data": {
      "text/plain": [
       "'Electric_and_Alternative_Fuel_Charging_Stations.csv'"
      ]
     },
     "execution_count": 1247,
     "metadata": {},
     "output_type": "execute_result"
    }
   ],
   "source": [
    "dict_files['df3']"
   ]
  },
  {
   "cell_type": "code",
   "execution_count": 1248,
   "metadata": {},
   "outputs": [
    {
     "data": {
      "text/html": [
       "<div>\n",
       "<style scoped>\n",
       "    .dataframe tbody tr th:only-of-type {\n",
       "        vertical-align: middle;\n",
       "    }\n",
       "\n",
       "    .dataframe tbody tr th {\n",
       "        vertical-align: top;\n",
       "    }\n",
       "\n",
       "    .dataframe thead th {\n",
       "        text-align: right;\n",
       "    }\n",
       "</style>\n",
       "<table border=\"1\" class=\"dataframe\">\n",
       "  <thead>\n",
       "    <tr style=\"text-align: right;\">\n",
       "      <th></th>\n",
       "      <th>Fuel Type Code</th>\n",
       "      <th>Station Name</th>\n",
       "      <th>Street Address</th>\n",
       "      <th>City</th>\n",
       "      <th>State</th>\n",
       "      <th>ZIP</th>\n",
       "      <th>Station Phone</th>\n",
       "      <th>Status Code</th>\n",
       "      <th>Groups With Access Code</th>\n",
       "      <th>Access Days Time</th>\n",
       "      <th>...</th>\n",
       "      <th>Geocode Status</th>\n",
       "      <th>Latitude</th>\n",
       "      <th>Longitude</th>\n",
       "      <th>Date Last Confirmed</th>\n",
       "      <th>ID</th>\n",
       "      <th>Updated At</th>\n",
       "      <th>Open Date</th>\n",
       "      <th>EV Connector Types</th>\n",
       "      <th>Country</th>\n",
       "      <th>Access Code</th>\n",
       "    </tr>\n",
       "  </thead>\n",
       "  <tbody>\n",
       "    <tr>\n",
       "      <th>0</th>\n",
       "      <td>CNG</td>\n",
       "      <td>Spire - Montgomery Operations Center</td>\n",
       "      <td>2951 Chestnut St</td>\n",
       "      <td>Montgomery</td>\n",
       "      <td>AL</td>\n",
       "      <td>36107</td>\n",
       "      <td>NaN</td>\n",
       "      <td>E</td>\n",
       "      <td>Private</td>\n",
       "      <td>NaN</td>\n",
       "      <td>...</td>\n",
       "      <td>200-9</td>\n",
       "      <td>32.367916</td>\n",
       "      <td>-86.267021</td>\n",
       "      <td>2022-06-14</td>\n",
       "      <td>17</td>\n",
       "      <td>2022-06-14 16:22:47 UTC</td>\n",
       "      <td>2010-12-01</td>\n",
       "      <td>NaN</td>\n",
       "      <td>US</td>\n",
       "      <td>private</td>\n",
       "    </tr>\n",
       "    <tr>\n",
       "      <th>1</th>\n",
       "      <td>CNG</td>\n",
       "      <td>PS Energy - Atlanta</td>\n",
       "      <td>340 Whitehall St</td>\n",
       "      <td>Atlanta</td>\n",
       "      <td>GA</td>\n",
       "      <td>30303</td>\n",
       "      <td>770-350-3000</td>\n",
       "      <td>E</td>\n",
       "      <td>Public - Card key at all times</td>\n",
       "      <td>24 hours daily</td>\n",
       "      <td>...</td>\n",
       "      <td>200-8</td>\n",
       "      <td>33.745843</td>\n",
       "      <td>-84.398837</td>\n",
       "      <td>2021-08-04</td>\n",
       "      <td>42</td>\n",
       "      <td>2022-02-10 19:42:29 UTC</td>\n",
       "      <td>1994-07-15</td>\n",
       "      <td>NaN</td>\n",
       "      <td>US</td>\n",
       "      <td>public</td>\n",
       "    </tr>\n",
       "    <tr>\n",
       "      <th>2</th>\n",
       "      <td>CNG</td>\n",
       "      <td>Metropolitan Atlanta Rapid Transit Authority</td>\n",
       "      <td>2424 Piedmont Rd NE</td>\n",
       "      <td>Atlanta</td>\n",
       "      <td>GA</td>\n",
       "      <td>30324</td>\n",
       "      <td>NaN</td>\n",
       "      <td>E</td>\n",
       "      <td>Private - Government only</td>\n",
       "      <td>NaN</td>\n",
       "      <td>...</td>\n",
       "      <td>200-8</td>\n",
       "      <td>33.821911</td>\n",
       "      <td>-84.367461</td>\n",
       "      <td>2021-08-04</td>\n",
       "      <td>45</td>\n",
       "      <td>2022-02-10 19:42:29 UTC</td>\n",
       "      <td>1996-12-15</td>\n",
       "      <td>NaN</td>\n",
       "      <td>US</td>\n",
       "      <td>private</td>\n",
       "    </tr>\n",
       "    <tr>\n",
       "      <th>3</th>\n",
       "      <td>CNG</td>\n",
       "      <td>United Parcel Service</td>\n",
       "      <td>270 Marvin Miller Dr</td>\n",
       "      <td>Atlanta</td>\n",
       "      <td>GA</td>\n",
       "      <td>30336</td>\n",
       "      <td>NaN</td>\n",
       "      <td>E</td>\n",
       "      <td>Private</td>\n",
       "      <td>NaN</td>\n",
       "      <td>...</td>\n",
       "      <td>200-9</td>\n",
       "      <td>33.760256</td>\n",
       "      <td>-84.543822</td>\n",
       "      <td>2022-06-14</td>\n",
       "      <td>64</td>\n",
       "      <td>2022-06-14 16:22:47 UTC</td>\n",
       "      <td>1997-01-01</td>\n",
       "      <td>NaN</td>\n",
       "      <td>US</td>\n",
       "      <td>private</td>\n",
       "    </tr>\n",
       "    <tr>\n",
       "      <th>4</th>\n",
       "      <td>CNG</td>\n",
       "      <td>Arkansas Oklahoma Gas Corp</td>\n",
       "      <td>2100 S Waldron Rd</td>\n",
       "      <td>Fort Smith</td>\n",
       "      <td>AR</td>\n",
       "      <td>72903</td>\n",
       "      <td>479-783-3188</td>\n",
       "      <td>E</td>\n",
       "      <td>Public - Credit card at all times</td>\n",
       "      <td>24 hours daily</td>\n",
       "      <td>...</td>\n",
       "      <td>200-9</td>\n",
       "      <td>35.362213</td>\n",
       "      <td>-94.375338</td>\n",
       "      <td>2022-06-14</td>\n",
       "      <td>73</td>\n",
       "      <td>2022-06-14 16:22:47 UTC</td>\n",
       "      <td>1997-01-01</td>\n",
       "      <td>NaN</td>\n",
       "      <td>US</td>\n",
       "      <td>public</td>\n",
       "    </tr>\n",
       "  </tbody>\n",
       "</table>\n",
       "<p>5 rows × 23 columns</p>\n",
       "</div>"
      ],
      "text/plain": [
       "  Fuel Type Code                                  Station Name  \\\n",
       "0            CNG          Spire - Montgomery Operations Center   \n",
       "1            CNG                           PS Energy - Atlanta   \n",
       "2            CNG  Metropolitan Atlanta Rapid Transit Authority   \n",
       "3            CNG                         United Parcel Service   \n",
       "4            CNG                    Arkansas Oklahoma Gas Corp   \n",
       "\n",
       "         Street Address        City State    ZIP Station Phone Status Code  \\\n",
       "0      2951 Chestnut St  Montgomery    AL  36107           NaN           E   \n",
       "1      340 Whitehall St     Atlanta    GA  30303  770-350-3000           E   \n",
       "2   2424 Piedmont Rd NE     Atlanta    GA  30324           NaN           E   \n",
       "3  270 Marvin Miller Dr     Atlanta    GA  30336           NaN           E   \n",
       "4     2100 S Waldron Rd  Fort Smith    AR  72903  479-783-3188           E   \n",
       "\n",
       "             Groups With Access Code Access Days Time  ...  Geocode Status  \\\n",
       "0                            Private              NaN  ...           200-9   \n",
       "1     Public - Card key at all times   24 hours daily  ...           200-8   \n",
       "2          Private - Government only              NaN  ...           200-8   \n",
       "3                            Private              NaN  ...           200-9   \n",
       "4  Public - Credit card at all times   24 hours daily  ...           200-9   \n",
       "\n",
       "    Latitude  Longitude Date Last Confirmed  ID               Updated At  \\\n",
       "0  32.367916 -86.267021          2022-06-14  17  2022-06-14 16:22:47 UTC   \n",
       "1  33.745843 -84.398837          2021-08-04  42  2022-02-10 19:42:29 UTC   \n",
       "2  33.821911 -84.367461          2021-08-04  45  2022-02-10 19:42:29 UTC   \n",
       "3  33.760256 -84.543822          2022-06-14  64  2022-06-14 16:22:47 UTC   \n",
       "4  35.362213 -94.375338          2022-06-14  73  2022-06-14 16:22:47 UTC   \n",
       "\n",
       "    Open Date  EV Connector Types Country Access Code  \n",
       "0  2010-12-01                 NaN      US     private  \n",
       "1  1994-07-15                 NaN      US      public  \n",
       "2  1996-12-15                 NaN      US     private  \n",
       "3  1997-01-01                 NaN      US     private  \n",
       "4  1997-01-01                 NaN      US      public  \n",
       "\n",
       "[5 rows x 23 columns]"
      ]
     },
     "execution_count": 1248,
     "metadata": {},
     "output_type": "execute_result"
    }
   ],
   "source": [
    "df3 = pd.read_csv('./Datasets_clean/' + dict_files['df3']) \n",
    "df3.head()"
   ]
  },
  {
   "cell_type": "code",
   "execution_count": 1249,
   "metadata": {},
   "outputs": [
    {
     "data": {
      "text/plain": [
       "Index(['Fuel Type Code', 'Station Name', 'Street Address', 'City', 'State',\n",
       "       'ZIP', 'Station Phone', 'Status Code', 'Groups With Access Code',\n",
       "       'Access Days Time', 'EV Level2 EVSE Num', 'EV Network',\n",
       "       'EV Network Web', 'Geocode Status', 'Latitude', 'Longitude',\n",
       "       'Date Last Confirmed', 'ID', 'Updated At', 'Open Date',\n",
       "       'EV Connector Types', 'Country', 'Access Code'],\n",
       "      dtype='object')"
      ]
     },
     "execution_count": 1249,
     "metadata": {},
     "output_type": "execute_result"
    }
   ],
   "source": [
    "df3.columns"
   ]
  },
  {
   "cell_type": "markdown",
   "metadata": {},
   "source": [
    "### Archivo 'taxi+_zone_lookup.csv'"
   ]
  },
  {
   "cell_type": "code",
   "execution_count": 1250,
   "metadata": {},
   "outputs": [
    {
     "data": {
      "text/plain": [
       "'taxi+_zone_lookup.csv'"
      ]
     },
     "execution_count": 1250,
     "metadata": {},
     "output_type": "execute_result"
    }
   ],
   "source": [
    "dict_files['df5']"
   ]
  },
  {
   "cell_type": "code",
   "execution_count": 1251,
   "metadata": {},
   "outputs": [
    {
     "data": {
      "text/html": [
       "<div>\n",
       "<style scoped>\n",
       "    .dataframe tbody tr th:only-of-type {\n",
       "        vertical-align: middle;\n",
       "    }\n",
       "\n",
       "    .dataframe tbody tr th {\n",
       "        vertical-align: top;\n",
       "    }\n",
       "\n",
       "    .dataframe thead th {\n",
       "        text-align: right;\n",
       "    }\n",
       "</style>\n",
       "<table border=\"1\" class=\"dataframe\">\n",
       "  <thead>\n",
       "    <tr style=\"text-align: right;\">\n",
       "      <th></th>\n",
       "      <th>LocationID</th>\n",
       "      <th>Borough</th>\n",
       "      <th>Zone</th>\n",
       "      <th>service_zone</th>\n",
       "    </tr>\n",
       "  </thead>\n",
       "  <tbody>\n",
       "    <tr>\n",
       "      <th>0</th>\n",
       "      <td>1</td>\n",
       "      <td>EWR</td>\n",
       "      <td>Newark Airport</td>\n",
       "      <td>EWR</td>\n",
       "    </tr>\n",
       "    <tr>\n",
       "      <th>1</th>\n",
       "      <td>2</td>\n",
       "      <td>Queens</td>\n",
       "      <td>Jamaica Bay</td>\n",
       "      <td>Boro Zone</td>\n",
       "    </tr>\n",
       "    <tr>\n",
       "      <th>2</th>\n",
       "      <td>3</td>\n",
       "      <td>Bronx</td>\n",
       "      <td>Allerton/Pelham Gardens</td>\n",
       "      <td>Boro Zone</td>\n",
       "    </tr>\n",
       "    <tr>\n",
       "      <th>3</th>\n",
       "      <td>4</td>\n",
       "      <td>Manhattan</td>\n",
       "      <td>Alphabet City</td>\n",
       "      <td>Yellow Zone</td>\n",
       "    </tr>\n",
       "    <tr>\n",
       "      <th>4</th>\n",
       "      <td>5</td>\n",
       "      <td>Staten Island</td>\n",
       "      <td>Arden Heights</td>\n",
       "      <td>Boro Zone</td>\n",
       "    </tr>\n",
       "  </tbody>\n",
       "</table>\n",
       "</div>"
      ],
      "text/plain": [
       "   LocationID        Borough                     Zone service_zone\n",
       "0           1            EWR           Newark Airport          EWR\n",
       "1           2         Queens              Jamaica Bay    Boro Zone\n",
       "2           3          Bronx  Allerton/Pelham Gardens    Boro Zone\n",
       "3           4      Manhattan            Alphabet City  Yellow Zone\n",
       "4           5  Staten Island            Arden Heights    Boro Zone"
      ]
     },
     "execution_count": 1251,
     "metadata": {},
     "output_type": "execute_result"
    }
   ],
   "source": [
    "dict_files['df5']\n",
    "df5 = pd.read_csv('./Datasets_clean/' + dict_files['df5']) \n",
    "df5.head()"
   ]
  },
  {
   "cell_type": "markdown",
   "metadata": {},
   "source": [
    "### Archivo 'taxi_zones.csv'"
   ]
  },
  {
   "cell_type": "code",
   "execution_count": 1252,
   "metadata": {},
   "outputs": [
    {
     "data": {
      "text/plain": [
       "'taxi_zones.csv'"
      ]
     },
     "execution_count": 1252,
     "metadata": {},
     "output_type": "execute_result"
    }
   ],
   "source": [
    "dict_files['df6']"
   ]
  },
  {
   "cell_type": "code",
   "execution_count": 1253,
   "metadata": {},
   "outputs": [
    {
     "data": {
      "text/html": [
       "<div>\n",
       "<style scoped>\n",
       "    .dataframe tbody tr th:only-of-type {\n",
       "        vertical-align: middle;\n",
       "    }\n",
       "\n",
       "    .dataframe tbody tr th {\n",
       "        vertical-align: top;\n",
       "    }\n",
       "\n",
       "    .dataframe thead th {\n",
       "        text-align: right;\n",
       "    }\n",
       "</style>\n",
       "<table border=\"1\" class=\"dataframe\">\n",
       "  <thead>\n",
       "    <tr style=\"text-align: right;\">\n",
       "      <th></th>\n",
       "      <th>Shape_Leng</th>\n",
       "      <th>Shape_Area</th>\n",
       "      <th>Zone</th>\n",
       "      <th>LocationID</th>\n",
       "      <th>Borough</th>\n",
       "    </tr>\n",
       "  </thead>\n",
       "  <tbody>\n",
       "    <tr>\n",
       "      <th>0</th>\n",
       "      <td>0.116357</td>\n",
       "      <td>0.000782</td>\n",
       "      <td>Newark Airport</td>\n",
       "      <td>1</td>\n",
       "      <td>EWR</td>\n",
       "    </tr>\n",
       "    <tr>\n",
       "      <th>1</th>\n",
       "      <td>0.433470</td>\n",
       "      <td>0.004866</td>\n",
       "      <td>Jamaica Bay</td>\n",
       "      <td>2</td>\n",
       "      <td>Queens</td>\n",
       "    </tr>\n",
       "    <tr>\n",
       "      <th>2</th>\n",
       "      <td>0.084341</td>\n",
       "      <td>0.000314</td>\n",
       "      <td>Allerton/Pelham Gardens</td>\n",
       "      <td>3</td>\n",
       "      <td>Bronx</td>\n",
       "    </tr>\n",
       "    <tr>\n",
       "      <th>3</th>\n",
       "      <td>0.043567</td>\n",
       "      <td>0.000112</td>\n",
       "      <td>Alphabet City</td>\n",
       "      <td>4</td>\n",
       "      <td>Manhattan</td>\n",
       "    </tr>\n",
       "    <tr>\n",
       "      <th>4</th>\n",
       "      <td>0.092146</td>\n",
       "      <td>0.000498</td>\n",
       "      <td>Arden Heights</td>\n",
       "      <td>5</td>\n",
       "      <td>Staten Island</td>\n",
       "    </tr>\n",
       "  </tbody>\n",
       "</table>\n",
       "</div>"
      ],
      "text/plain": [
       "   Shape_Leng  Shape_Area                     Zone  LocationID        Borough\n",
       "0    0.116357    0.000782           Newark Airport           1            EWR\n",
       "1    0.433470    0.004866              Jamaica Bay           2         Queens\n",
       "2    0.084341    0.000314  Allerton/Pelham Gardens           3          Bronx\n",
       "3    0.043567    0.000112            Alphabet City           4      Manhattan\n",
       "4    0.092146    0.000498            Arden Heights           5  Staten Island"
      ]
     },
     "execution_count": 1253,
     "metadata": {},
     "output_type": "execute_result"
    }
   ],
   "source": [
    "dict_files['df6']\n",
    "df6 = pd.read_csv('./Datasets_clean/' + dict_files['df6']) \n",
    "df6.head()"
   ]
  },
  {
   "cell_type": "code",
   "execution_count": null,
   "metadata": {},
   "outputs": [],
   "source": []
  }
 ],
 "metadata": {
  "kernelspec": {
   "display_name": "taxiGreen_venv",
   "language": "python",
   "name": "python3"
  },
  "language_info": {
   "codemirror_mode": {
    "name": "ipython",
    "version": 3
   },
   "file_extension": ".py",
   "mimetype": "text/x-python",
   "name": "python",
   "nbconvert_exporter": "python",
   "pygments_lexer": "ipython3",
   "version": "3.9.7"
  },
  "orig_nbformat": 4
 },
 "nbformat": 4,
 "nbformat_minor": 2
}
