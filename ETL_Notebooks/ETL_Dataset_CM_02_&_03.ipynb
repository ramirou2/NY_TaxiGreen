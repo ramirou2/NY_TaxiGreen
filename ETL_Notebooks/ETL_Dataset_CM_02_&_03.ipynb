{
 "cells": [
  {
   "cell_type": "markdown",
   "metadata": {},
   "source": [
    "# ETL - ARCHIVOS COMPLEMENTARIOS"
   ]
  },
  {
   "cell_type": "markdown",
   "metadata": {},
   "source": [
    "### Archivos complementarios --> Historical Weather API "
   ]
  },
  {
   "cell_type": "code",
   "execution_count": 1,
   "metadata": {},
   "outputs": [
    {
     "name": "stdout",
     "output_type": "stream",
     "text": [
      "Solicitud completada, datos climaticos obtenidos\n"
     ]
    }
   ],
   "source": [
    "import requests\n",
    "import pandas as pd\n",
    "\n",
    "base_url = 'https://archive-api.open-meteo.com/v1/archive?'\n",
    "#Parametros de datos, DEFINIR RANGO TEMPORAL\n",
    "params = {\n",
    "    'latitude'  : '40.7143',\n",
    "    'longitude' : '74.006',\n",
    "    'start_date': '2013-01-01',\n",
    "    'end_date'  : '2023-07-31',\n",
    "    'daily'     : 'temperature_2m_max,temperature_2m_min,apparent_temperature_max,apparent_temperature_min,precipitation_sum',\n",
    "    'timezone' :  'auto'\n",
    "}\n",
    "\n",
    "response = requests.get(base_url, params=params)\n",
    "\n",
    "if response.status_code == 200:\n",
    "    data_json = response.json()\n",
    "    print('Solicitud completada, datos climaticos obtenidos')\n",
    "else:\n",
    "    print('Error al realizar la solicitud:', response.status_code)"
   ]
  },
  {
   "cell_type": "code",
   "execution_count": 2,
   "metadata": {},
   "outputs": [],
   "source": [
    "daily_df = pd.DataFrame(data_json[\"daily\"])"
   ]
  },
  {
   "cell_type": "code",
   "execution_count": 3,
   "metadata": {},
   "outputs": [],
   "source": [
    "daily_df['time'] = pd.to_datetime(daily_df['time'])"
   ]
  },
  {
   "cell_type": "code",
   "execution_count": 65,
   "metadata": {},
   "outputs": [],
   "source": [
    "#daily_df['time'] = daily_df['time'].apply( lambda x: x.strftime(\"%d-%m-%Y\"))\n"
   ]
  },
  {
   "cell_type": "code",
   "execution_count": 4,
   "metadata": {},
   "outputs": [],
   "source": [
    "daily_df.to_csv('./Complementary//weather.csv', index=False)"
   ]
  },
  {
   "cell_type": "markdown",
   "metadata": {},
   "source": [
    "### Archivos complementarios --> Taxi trip yellow"
   ]
  },
  {
   "cell_type": "code",
   "execution_count": 45,
   "metadata": {},
   "outputs": [],
   "source": [
    "# import webdriver\n",
    "from selenium import webdriver\n",
    "from selenium.webdriver.common.by import By\n",
    "\n",
    "# Inicializa el navegador web (puede requerir la descarga de un controlador específico, como chromedriver)\n",
    "driver = webdriver.Chrome()\n",
    "\n",
    "# URL de la página web\n",
    "url = \"https://www.nyc.gov/site/tlc/about/tlc-trip-record-data.page\"\n",
    "driver.get(url)\n",
    "\n",
    "# Expando lista de archivos parquet\n",
    "expand_link = driver.find_element( By.XPATH , '/html/body/div[1]/div/div/div[1]/div/div[2]/div/div[1]/div/div[2]/div/div/div/div[2]/div/div/div[1]/div/a[1]')\n",
    "expand_link.click()\n",
    "\n",
    "# Espera a que se cargue el contenido después del clic\n",
    "driver.implicitly_wait(1)\n",
    "\n",
    "# Encuentra todos los elementos <a> con la clase \"exitlink\"\n",
    "exit_links = driver.find_elements(By.CLASS_NAME, 'exitlink')\n",
    "\n",
    "# Itera sobre los elementos y extrae los enlaces\n",
    "yellow_taxis = []\n",
    "green_taxis = []\n",
    "for link in exit_links:\n",
    "    file_url = link.get_attribute(\"href\")\n",
    "    file_title = link.get_attribute(\"title\")\n",
    "\n",
    "    if file_title == 'Yellow Taxi Trip Records':\n",
    "        yellow_taxis.append(file_url)\n",
    "    elif file_title == 'Green Taxi Trip Records':\n",
    "        green_taxis.append(file_url)\n",
    "\n",
    "driver.quit()"
   ]
  },
  {
   "cell_type": "markdown",
   "metadata": {},
   "source": [
    "Se redujo el tamaño temporal, que es el último año. Por tamaño de archivos se reverá cargar y eliminar a la par los archivos."
   ]
  },
  {
   "cell_type": "code",
   "execution_count": 43,
   "metadata": {},
   "outputs": [],
   "source": [
    "import re\n",
    "import os\n",
    "import requests\n",
    "from urllib.request import urlretrieve\n",
    "\n",
    "\n",
    "regex = r\"(\\d{4})-(\\d{2})\\.parquet$\" #Expresión regular para extrer el año\n",
    "\n",
    "path_yellow = './Complementary/yellow_taxis'\n",
    "if not os.path.exists(path_yellow):\n",
    "    os.makedirs(path_yellow)\n",
    "\n",
    "# Filtra los archivos por el año en el rango deseado, en este caso del ultimo año, mayo a mayo\n",
    "for archivo in yellow_taxis:\n",
    "    match = re.search(regex, archivo)\n",
    "    if match:\n",
    "        year = int(match.group(1))\n",
    "        month = int(match.group(2))\n",
    "        if (year == 2022 and month >= 5) or (year == 2023 and month <= 5):\n",
    "            name_file = os.path.basename(archivo)\n",
    "            path = os.path.join(path_yellow, name_file)\n",
    "            urlretrieve(archivo, path)"
   ]
  },
  {
   "cell_type": "markdown",
   "metadata": {},
   "source": [
    "Esto se redujo el tiempo "
   ]
  },
  {
   "cell_type": "code",
   "execution_count": 35,
   "metadata": {},
   "outputs": [
    {
     "data": {
      "text/plain": [
       "77"
      ]
     },
     "execution_count": 35,
     "metadata": {},
     "output_type": "execute_result"
    }
   ],
   "source": [
    "path_green = './Complementary/green_taxis'\n",
    "if not os.path.exists(path_green):\n",
    "    os.makedirs(path_green)\n",
    "\n",
    "for archivo in green_taxis:\n",
    "    match = re.search(regex, archivo)\n",
    "    if match:\n",
    "        year = int(match.group(1))\n",
    "        month = int(match.group(2))\n",
    "        if (year == 2022 and month >= 5) or (year == 2023 and month <= 5):\n",
    "            name_file = os.path.basename(archivo)\n",
    "            path = os.path.join(path_yellow, name_file)\n",
    "            urlretrieve(archivo, path)"
   ]
  },
  {
   "cell_type": "markdown",
   "metadata": {},
   "source": [
    "Trabajando ahora con los archivos. Todo esto podemos juntarlo en un script para que trabaje de manera automatica, evitando consumir almacenamiento de repo y local, se procesa y se sube al dw"
   ]
  },
  {
   "cell_type": "code",
   "execution_count": null,
   "metadata": {},
   "outputs": [],
   "source": [
    "import pyarrow.parquet as pq\n",
    "\n",
    "yellow_taxis = os.listdir(path_yellow)\n",
    "for file in yellow_taxis:\n",
    "    table = pq.read_table(path_yellow + '/' + file)\n",
    "    # Convierte la tabla a un DataFrame de pandas si lo deseas\n",
    "    df = table.to_pandas()\n",
    "    # Trabajando con la data\n",
    "\n",
    "    #Manoseo de archivos si fuese necesario"
   ]
  },
  {
   "cell_type": "markdown",
   "metadata": {},
   "source": [
    "### Archivos complementarios --> Car Noise"
   ]
  },
  {
   "cell_type": "markdown",
   "metadata": {},
   "source": [
    "Se extraen datos de ruidos de autos que podrían resultar útiles para las propuestas presentadas"
   ]
  },
  {
   "cell_type": "code",
   "execution_count": 1,
   "metadata": {},
   "outputs": [],
   "source": [
    "import pandas as pd\n",
    "from selenium import webdriver\n",
    "from selenium.webdriver.common.by import By"
   ]
  },
  {
   "cell_type": "code",
   "execution_count": 2,
   "metadata": {},
   "outputs": [],
   "source": [
    "# controlador\n",
    "driver = webdriver.Chrome() \n",
    "\n",
    "url = 'https://www.auto-decibel-db.com/desktop.html'\n",
    "driver.get(url)\n",
    "\n",
    "# Encontrar la tabla que contiene los datos\n",
    "table = driver.find_element(By.ID, \"resultTable\")\n",
    "\n",
    "# Obtener todas las filas de la tabla (excepto la primera que contiene encabezados)\n",
    "rows = table.find_elements(By.TAG_NAME, \"tr\")[1:]\n",
    "\n",
    "# Inicializar listas para almacenar los datos\n",
    "data = []\n",
    "\n",
    "# Iterar a través de las filas y extraer los datos de cada celda\n",
    "for row in rows:\n",
    "    cells = row.find_elements(By.TAG_NAME, \"td\")\n",
    "    row_data = [cell.text for cell in cells]\n",
    "    data.append(row_data)\n",
    "\n",
    "driver.quit()\n"
   ]
  },
  {
   "cell_type": "code",
   "execution_count": 5,
   "metadata": {},
   "outputs": [
    {
     "data": {
      "text/html": [
       "<div>\n",
       "<style scoped>\n",
       "    .dataframe tbody tr th:only-of-type {\n",
       "        vertical-align: middle;\n",
       "    }\n",
       "\n",
       "    .dataframe tbody tr th {\n",
       "        vertical-align: top;\n",
       "    }\n",
       "\n",
       "    .dataframe thead th {\n",
       "        text-align: right;\n",
       "    }\n",
       "</style>\n",
       "<table border=\"1\" class=\"dataframe\">\n",
       "  <thead>\n",
       "    <tr style=\"text-align: right;\">\n",
       "      <th></th>\n",
       "      <th>Brand</th>\n",
       "      <th>Model</th>\n",
       "      <th>Spec</th>\n",
       "      <th>Year</th>\n",
       "      <th>dB at idle</th>\n",
       "      <th>dB at 55 mph</th>\n",
       "      <th>dB at 65 mph</th>\n",
       "      <th>dB at 70 mph</th>\n",
       "      <th>dB at 75 mph</th>\n",
       "      <th>dB at 85 mph</th>\n",
       "    </tr>\n",
       "  </thead>\n",
       "  <tbody>\n",
       "    <tr>\n",
       "      <th>0</th>\n",
       "      <td>None</td>\n",
       "      <td>None</td>\n",
       "      <td>None</td>\n",
       "      <td>None</td>\n",
       "      <td>None</td>\n",
       "      <td>None</td>\n",
       "      <td>None</td>\n",
       "      <td>None</td>\n",
       "      <td>None</td>\n",
       "      <td>None</td>\n",
       "    </tr>\n",
       "    <tr>\n",
       "      <th>1</th>\n",
       "      <td>Abarth</td>\n",
       "      <td>500</td>\n",
       "      <td>1.4 16v T-Jet</td>\n",
       "      <td>2008</td>\n",
       "      <td>47.3</td>\n",
       "      <td>67.3</td>\n",
       "      <td>70.2</td>\n",
       "      <td>70.4</td>\n",
       "      <td>72.9</td>\n",
       "      <td>75.6</td>\n",
       "    </tr>\n",
       "    <tr>\n",
       "      <th>2</th>\n",
       "      <td>Abarth</td>\n",
       "      <td>595</td>\n",
       "      <td>Competizione</td>\n",
       "      <td>2017</td>\n",
       "      <td>49.9</td>\n",
       "      <td>69.1</td>\n",
       "      <td>72.5</td>\n",
       "      <td>72.8</td>\n",
       "      <td>72.2</td>\n",
       "      <td>75.8</td>\n",
       "    </tr>\n",
       "    <tr>\n",
       "      <th>3</th>\n",
       "      <td>Acura</td>\n",
       "      <td>MDX</td>\n",
       "      <td>3.5 V6</td>\n",
       "      <td>2013</td>\n",
       "      <td>41.7</td>\n",
       "      <td>59.0</td>\n",
       "      <td>62.0</td>\n",
       "      <td>62.2</td>\n",
       "      <td>64.9</td>\n",
       "      <td>65.9</td>\n",
       "    </tr>\n",
       "    <tr>\n",
       "      <th>4</th>\n",
       "      <td>Acura</td>\n",
       "      <td>RDX</td>\n",
       "      <td>3.5 V6</td>\n",
       "      <td>2012</td>\n",
       "      <td>43.0</td>\n",
       "      <td>62.7</td>\n",
       "      <td>66.1</td>\n",
       "      <td>66.3</td>\n",
       "      <td>68.4</td>\n",
       "      <td>69.1</td>\n",
       "    </tr>\n",
       "  </tbody>\n",
       "</table>\n",
       "</div>"
      ],
      "text/plain": [
       "    Brand Model           Spec  Year dB at idle dB at 55 mph dB at 65 mph  \\\n",
       "0    None  None           None  None       None         None         None   \n",
       "1  Abarth   500  1.4 16v T-Jet  2008       47.3         67.3         70.2   \n",
       "2  Abarth   595   Competizione  2017       49.9         69.1         72.5   \n",
       "3   Acura   MDX         3.5 V6  2013       41.7         59.0         62.0   \n",
       "4   Acura   RDX         3.5 V6  2012       43.0         62.7         66.1   \n",
       "\n",
       "  dB at 70 mph dB at 75 mph dB at 85 mph  \n",
       "0         None         None         None  \n",
       "1         70.4         72.9         75.6  \n",
       "2         72.8         72.2         75.8  \n",
       "3         62.2         64.9         65.9  \n",
       "4         66.3         68.4         69.1  "
      ]
     },
     "execution_count": 5,
     "metadata": {},
     "output_type": "execute_result"
    }
   ],
   "source": [
    "# Definir los encabezados de las columnas\n",
    "columns = [\"Brand\", \"Model\", \"Spec\", \"Year\", \"dB at idle\", \"dB at 55 mph\", \"dB at 65 mph\", \"dB at 70 mph\", \"dB at 75 mph\", \"dB at 85 mph\"]\n",
    "\n",
    "df = pd.DataFrame(data, columns=columns)\n",
    "df.head()"
   ]
  },
  {
   "cell_type": "code",
   "execution_count": 9,
   "metadata": {},
   "outputs": [],
   "source": [
    "df.drop(index=[0], inplace=True)"
   ]
  },
  {
   "cell_type": "code",
   "execution_count": 13,
   "metadata": {},
   "outputs": [
    {
     "data": {
      "text/plain": [
       "(1894, 10)"
      ]
     },
     "execution_count": 13,
     "metadata": {},
     "output_type": "execute_result"
    }
   ],
   "source": [
    "df.shape"
   ]
  },
  {
   "cell_type": "code",
   "execution_count": 14,
   "metadata": {},
   "outputs": [],
   "source": [
    "df.to_csv('./Complementary/car_noise.csv', index=False)"
   ]
  }
 ],
 "metadata": {
  "kernelspec": {
   "display_name": "taxiGreen_venv",
   "language": "python",
   "name": "python3"
  },
  "language_info": {
   "codemirror_mode": {
    "name": "ipython",
    "version": 3
   },
   "file_extension": ".py",
   "mimetype": "text/x-python",
   "name": "python",
   "nbconvert_exporter": "python",
   "pygments_lexer": "ipython3",
   "version": "3.9.7"
  },
  "orig_nbformat": 4
 },
 "nbformat": 4,
 "nbformat_minor": 2
}
