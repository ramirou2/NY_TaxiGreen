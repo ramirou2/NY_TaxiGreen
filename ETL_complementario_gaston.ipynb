{
 "cells": [
  {
   "cell_type": "markdown",
   "metadata": {},
   "source": [
    "# ETL - ARCHIVOS COMPLEMENTARIOS"
   ]
  },
  {
   "cell_type": "markdown",
   "metadata": {},
   "source": [
    "### Archivos complementarios --> Historical Weather API "
   ]
  },
  {
   "cell_type": "code",
   "execution_count": 74,
   "metadata": {},
   "outputs": [
    {
     "name": "stdout",
     "output_type": "stream",
     "text": [
      "Solicitud completada, datos climaticos obtenidos\n"
     ]
    }
   ],
   "source": [
    "import requests\n",
    "import pandas as pd\n",
    "\n",
    "base_url = 'https://archive-api.open-meteo.com/v1/archive?'\n",
    "#Parametros de datos, DEFINIR RANGO TEMPORAL\n",
    "params = {\n",
    "    'latitude'  : '40.7143',\n",
    "    'longitude' : '74.006',\n",
    "    'start_date': '2013-01-01',\n",
    "    'end_date'  : '2023-07-31',\n",
    "    'daily'     : 'temperature_2m_max,temperature_2m_min,apparent_temperature_max,apparent_temperature_min,precipitation_sum',\n",
    "    'timezone' :  'auto'\n",
    "}\n",
    "\n",
    "response = requests.get(base_url, params=params)\n",
    "\n",
    "if response.status_code == 200:\n",
    "    data_json = response.json()\n",
    "    print('Solicitud completada, datos climaticos obtenidos')\n",
    "else:\n",
    "    print('Error al realizar la solicitud:', response.status_code)"
   ]
  },
  {
   "cell_type": "code",
   "execution_count": 75,
   "metadata": {},
   "outputs": [],
   "source": [
    "daily_df = pd.DataFrame(data_json[\"daily\"])"
   ]
  },
  {
   "cell_type": "code",
   "execution_count": 76,
   "metadata": {},
   "outputs": [],
   "source": [
    "daily_df['time'] = pd.to_datetime(daily_df['time'])"
   ]
  },
  {
   "cell_type": "code",
   "execution_count": 65,
   "metadata": {},
   "outputs": [],
   "source": [
    "#daily_df['time'] = daily_df['time'].apply( lambda x: x.strftime(\"%d-%m-%Y\"))\n"
   ]
  },
  {
   "cell_type": "code",
   "execution_count": 77,
   "metadata": {},
   "outputs": [],
   "source": [
    "daily_df.to_csv('./Datasets_clean/weather.csv', index=False)"
   ]
  },
  {
   "cell_type": "markdown",
   "metadata": {},
   "source": [
    "### Archivos complementarios --> Taxi trip yellow"
   ]
  },
  {
   "cell_type": "code",
   "execution_count": 45,
   "metadata": {},
   "outputs": [],
   "source": [
    "# import webdriver\n",
    "from selenium import webdriver\n",
    "from selenium.webdriver.common.by import By\n",
    "\n",
    "# Inicializa el navegador web (puede requerir la descarga de un controlador específico, como chromedriver)\n",
    "driver = webdriver.Chrome()\n",
    "\n",
    "# URL de la página web\n",
    "url = \"https://www.nyc.gov/site/tlc/about/tlc-trip-record-data.page\"\n",
    "driver.get(url)\n",
    "\n",
    "# Expando lista de archivos parquet\n",
    "expand_link = driver.find_element( By.XPATH , '/html/body/div[1]/div/div/div[1]/div/div[2]/div/div[1]/div/div[2]/div/div/div/div[2]/div/div/div[1]/div/a[1]')\n",
    "expand_link.click()\n",
    "\n",
    "# Espera a que se cargue el contenido después del clic\n",
    "driver.implicitly_wait(1)\n",
    "\n",
    "# Encuentra todos los elementos <a> con la clase \"exitlink\"\n",
    "exit_links = driver.find_elements(By.CLASS_NAME, 'exitlink')\n",
    "\n",
    "# Itera sobre los elementos y extrae los enlaces\n",
    "yellow_taxis = []\n",
    "green_taxis = []\n",
    "for link in exit_links:\n",
    "    file_url = link.get_attribute(\"href\")\n",
    "    file_title = link.get_attribute(\"title\")\n",
    "\n",
    "    if file_title == 'Yellow Taxi Trip Records':\n",
    "        yellow_taxis.append(file_url)\n",
    "    elif file_title == 'Green Taxi Trip Records':\n",
    "        green_taxis.append(file_url)\n",
    "\n",
    "driver.quit()"
   ]
  },
  {
   "cell_type": "markdown",
   "metadata": {},
   "source": [
    "Se redujo el tamaño temporal, que es el último año. Por tamaño de archivos se reverá cargar y eliminar a la par los archivos."
   ]
  },
  {
   "cell_type": "code",
   "execution_count": 43,
   "metadata": {},
   "outputs": [],
   "source": [
    "import re\n",
    "import os\n",
    "import requests\n",
    "from urllib.request import urlretrieve\n",
    "\n",
    "\n",
    "regex = r\"(\\d{4})-(\\d{2})\\.parquet$\" #Expresión regular para extrer el año\n",
    "\n",
    "path_yellow = './Complementary/yellow_taxis'\n",
    "if not os.path.exists(path_yellow):\n",
    "    os.makedirs(path_yellow)\n",
    "\n",
    "# Filtra los archivos por el año en el rango deseado, en este caso del ultimo año, mayo a mayo\n",
    "for archivo in yellow_taxis:\n",
    "    match = re.search(regex, archivo)\n",
    "    if match:\n",
    "        year = int(match.group(1))\n",
    "        month = int(match.group(2))\n",
    "        if (year == 2022 and month >= 5) or (year == 2023 and month <= 5):\n",
    "            name_file = os.path.basename(archivo)\n",
    "            path = os.path.join(path_yellow, name_file)\n",
    "            urlretrieve(archivo, path)"
   ]
  },
  {
   "cell_type": "markdown",
   "metadata": {},
   "source": [
    "Esto se redujo el tiempo "
   ]
  },
  {
   "cell_type": "code",
   "execution_count": 35,
   "metadata": {},
   "outputs": [
    {
     "data": {
      "text/plain": [
       "77"
      ]
     },
     "execution_count": 35,
     "metadata": {},
     "output_type": "execute_result"
    }
   ],
   "source": [
    "path_green = './Complementary/green_taxis'\n",
    "if not os.path.exists(path_green):\n",
    "    os.makedirs(path_green)\n",
    "\n",
    "for archivo in green_taxis:\n",
    "    match = re.search(regex, archivo)\n",
    "    if match:\n",
    "        year = int(match.group(1))\n",
    "        month = int(match.group(2))\n",
    "        if (year == 2022 and month >= 5) or (year == 2023 and month <= 5):\n",
    "            name_file = os.path.basename(archivo)\n",
    "            path = os.path.join(path_yellow, name_file)\n",
    "            urlretrieve(archivo, path)"
   ]
  },
  {
   "cell_type": "markdown",
   "metadata": {},
   "source": [
    "Trabajando ahora con los archivos. Todo esto podemos juntarlo en un script para que trabaje de manera automatica, evitando consumir almacenamiento de repo y local, se procesa y se sube al dw"
   ]
  },
  {
   "cell_type": "code",
   "execution_count": null,
   "metadata": {},
   "outputs": [],
   "source": [
    "import pyarrow.parquet as pq\n",
    "\n",
    "yellow_taxis = os.listdir(path_yellow)\n",
    "for file in yellow_taxis:\n",
    "    table = pq.read_table(path_yellow + '/' + file)\n",
    "    # Convierte la tabla a un DataFrame de pandas si lo deseas\n",
    "    df = table.to_pandas()\n",
    "    # Trabajando con la data\n",
    "\n",
    "    #Manoseo de archivos si fuese necesario"
   ]
  }
 ],
 "metadata": {
  "kernelspec": {
   "display_name": "taxiGreen_venv",
   "language": "python",
   "name": "python3"
  },
  "language_info": {
   "codemirror_mode": {
    "name": "ipython",
    "version": 3
   },
   "file_extension": ".py",
   "mimetype": "text/x-python",
   "name": "python",
   "nbconvert_exporter": "python",
   "pygments_lexer": "ipython3",
   "version": "3.9.7"
  },
  "orig_nbformat": 4
 },
 "nbformat": 4,
 "nbformat_minor": 2
}
