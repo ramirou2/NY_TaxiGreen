{
 "cells": [
  {
   "cell_type": "markdown",
   "metadata": {},
   "source": [
    "ETL's Fernando **********************************"
   ]
  },
  {
   "cell_type": "markdown",
   "metadata": {},
   "source": [
    "### MY2012-2023_Battery_Electric_Vehicles.csv"
   ]
  },
  {
   "cell_type": "code",
   "execution_count": 52,
   "metadata": {},
   "outputs": [],
   "source": [
    "import pandas as pd \n",
    "import numpy as np\n",
    "import os\n",
    "import matplotlib.pyplot as plt"
   ]
  },
  {
   "cell_type": "markdown",
   "metadata": {},
   "source": [
    "Note: Vehicle manufacturers now use the 5-cycle testing procedure, introduced for model year 2015, to determine the \n",
    "fuel consumption ratings of new light-duty vehicles. 5-cycle testing produces fuel consumption ratings\n",
    "\n",
    "\n",
    "Understanding the table,,,,,,,,,,,,,,,,,,,,,,,,,,,,,\n",
    "Transmission,A = automatic => 1 / 10 = number of gears,,,,,,,,,,,,,,,,,,,,,,,,,,,,\n",
    "Fuel type,B = electricity,,,,,,,,,,,,,,,,,,,,,,,,,,,\n",
    "Consumption,The combined fuel consumption rating reflects 55% city and 45% highway driving. ,,,,,,,,,,,,,,,,,,,,,,,,\n",
    "Le is gasoline litre equivalent. One litre of gasoline contains the energy equivalent to 8.9 kWh of electricity.,,,\n",
    "CO2 emissions,the tailpipe emissions of carbon dioxide (in grams per kilometre) for combined city and highway driving.,,,\n",
    "CO2 rating,the tailpipe emissions of carbon dioxide rated on a scale from 1 (worst) to 10 (best).,,,,,,,,,,,,,,,,,,,,,,,,\n",
    "Smog rating,the tailpipe emissions of smog-forming pollutants rated on a scale from 1 (worst) to 10 (best),,,,,,,,,,,,,,,\n",
    "Range,the estimated driving distance (in kilometres) on a fully charged battery,,,,,,,,,,,,,,,,,,,,,,,,,,,,,,,,,,,,,,,,,,\n",
    "Recharge time,the estimated time (in hours) to fully recharge the battery at 240 volts,,,,,,,,,,,,,,,,,,,,,,,,,,,,,"
   ]
  },
  {
   "cell_type": "code",
   "execution_count": null,
   "metadata": {},
   "outputs": [],
   "source": [
    "# Lee el archivo CSV omitiendo la segunda fila\n",
    "#df = pd.read_csv('archivo.csv', skiprows=[1])"
   ]
  },
  {
   "cell_type": "code",
   "execution_count": 3,
   "metadata": {},
   "outputs": [],
   "source": [
    "df=pd.read_csv('./Complementary/fuel_consumption_ratings/MY2012-2023 Battery Electric Vehicles.csv',skiprows=[1],encoding='latin1',sep=',')"
   ]
  },
  {
   "cell_type": "code",
   "execution_count": 4,
   "metadata": {},
   "outputs": [
    {
     "data": {
      "text/plain": [
       "Model              4\n",
       "Make               5\n",
       "Model.1           15\n",
       "Vehicle Class     15\n",
       "Motor             15\n",
       "                ... \n",
       "Unnamed: 216     460\n",
       "Unnamed: 217     460\n",
       "Unnamed: 218     460\n",
       "Unnamed: 219     460\n",
       "Unnamed: 220     460\n",
       "Length: 221, dtype: int64"
      ]
     },
     "execution_count": 4,
     "metadata": {},
     "output_type": "execute_result"
    }
   ],
   "source": [
    "df.isna().sum()"
   ]
  },
  {
   "cell_type": "code",
   "execution_count": 18,
   "metadata": {},
   "outputs": [
    {
     "data": {
      "text/plain": [
       "Index(['Model', 'Make', 'Model.1', 'Vehicle Class', 'Motor', 'Transmission',\n",
       "       'Fuel', 'Consumption', 'Unnamed: 8', 'Unnamed: 9', 'Unnamed: 10',\n",
       "       'Unnamed: 11', 'Unnamed: 12', 'Range', 'CO2 Emissions', 'CO2 ', 'Smog',\n",
       "       'Recharge'],\n",
       "      dtype='object')"
      ]
     },
     "execution_count": 18,
     "metadata": {},
     "output_type": "execute_result"
    }
   ],
   "source": [
    "df.columns"
   ]
  },
  {
   "cell_type": "code",
   "execution_count": 15,
   "metadata": {},
   "outputs": [],
   "source": [
    "\n",
    "start_col = 20  # Número de la columna de inicio del rango (inclusive)\n",
    "end_col = 171    # Número de la columna de fin del rango (exclusive)\n",
    "\n",
    "df.drop(df.columns[start_col:end_col], axis=1, inplace=True)\n"
   ]
  },
  {
   "cell_type": "code",
   "execution_count": 17,
   "metadata": {},
   "outputs": [],
   "source": [
    "df.drop(columns=['Unnamed: 18', 'Unnamed: 19'],inplace=True)"
   ]
  },
  {
   "cell_type": "code",
   "execution_count": 38,
   "metadata": {},
   "outputs": [
    {
     "name": "stdout",
     "output_type": "stream",
     "text": [
      "<class 'pandas.core.frame.DataFrame'>\n",
      "Index: 340 entries, 105 to 444\n",
      "Data columns (total 18 columns):\n",
      " #   Column                       Non-Null Count  Dtype  \n",
      "---  ------                       --------------  -----  \n",
      " 0   Model_year                   340 non-null    int32  \n",
      " 1   Make                         340 non-null    object \n",
      " 2   Model                        340 non-null    object \n",
      " 3   Vehicle Class                340 non-null    object \n",
      " 4   Motor(kw)                    340 non-null    float64\n",
      " 5   Transmission                 340 non-null    object \n",
      " 6   Fuel_type                    340 non-null    object \n",
      " 7   Consumption_city(kwh/100km)  340 non-null    float64\n",
      " 8   Unnamed: 8                   340 non-null    float64\n",
      " 9   Unnamed: 9                   340 non-null    float64\n",
      " 10  Unnamed: 10                  340 non-null    float64\n",
      " 11  Unnamed: 11                  340 non-null    float64\n",
      " 12  Unnamed: 12                  340 non-null    float64\n",
      " 13  Range                        340 non-null    float64\n",
      " 14  CO2 Emissions                340 non-null    float64\n",
      " 15  CO2                          340 non-null    float64\n",
      " 16  Smog                         340 non-null    float64\n",
      " 17  Recharge                     340 non-null    float64\n",
      "dtypes: float64(12), int32(1), object(5)\n",
      "memory usage: 49.1+ KB\n"
     ]
    }
   ],
   "source": [
    "df.info()"
   ]
  },
  {
   "cell_type": "code",
   "execution_count": 50,
   "metadata": {},
   "outputs": [
    {
     "data": {
      "text/html": [
       "<div>\n",
       "<style scoped>\n",
       "    .dataframe tbody tr th:only-of-type {\n",
       "        vertical-align: middle;\n",
       "    }\n",
       "\n",
       "    .dataframe tbody tr th {\n",
       "        vertical-align: top;\n",
       "    }\n",
       "\n",
       "    .dataframe thead th {\n",
       "        text-align: right;\n",
       "    }\n",
       "</style>\n",
       "<table border=\"1\" class=\"dataframe\">\n",
       "  <thead>\n",
       "    <tr style=\"text-align: right;\">\n",
       "      <th></th>\n",
       "      <th>Model_year</th>\n",
       "      <th>Make</th>\n",
       "      <th>Model</th>\n",
       "      <th>Vehicle Class</th>\n",
       "      <th>Motor(kw)</th>\n",
       "      <th>Transmission</th>\n",
       "      <th>Fuel_type</th>\n",
       "      <th>Consumption_city(kwh/100km)</th>\n",
       "      <th>Consumption_Hwy(kwh/100km)</th>\n",
       "      <th>Consumption_comb(kwh/100km)</th>\n",
       "      <th>Consumption_city(Le/100km)</th>\n",
       "      <th>Consumption_Hwy(Le/100km)</th>\n",
       "      <th>Consumption_comb(Le/100km)</th>\n",
       "      <th>Range(km)</th>\n",
       "      <th>CO2_Emissions(g/km)</th>\n",
       "      <th>CO2</th>\n",
       "      <th>Smog_rating</th>\n",
       "      <th>Recharge_time(h)</th>\n",
       "    </tr>\n",
       "  </thead>\n",
       "  <tbody>\n",
       "    <tr>\n",
       "      <th>440</th>\n",
       "      <td>2023</td>\n",
       "      <td>Volkswagen</td>\n",
       "      <td>ID.4</td>\n",
       "      <td>SUV: Small</td>\n",
       "      <td>150.0</td>\n",
       "      <td>A1</td>\n",
       "      <td>B</td>\n",
       "      <td>18.2</td>\n",
       "      <td>21.2</td>\n",
       "      <td>19.6</td>\n",
       "      <td>2.0</td>\n",
       "      <td>2.4</td>\n",
       "      <td>2.2</td>\n",
       "      <td>336.0</td>\n",
       "      <td>0.0</td>\n",
       "      <td>10.0</td>\n",
       "      <td>10.0</td>\n",
       "      <td>6.0</td>\n",
       "    </tr>\n",
       "    <tr>\n",
       "      <th>441</th>\n",
       "      <td>2023</td>\n",
       "      <td>Volkswagen</td>\n",
       "      <td>ID.4 Pro</td>\n",
       "      <td>SUV: Small</td>\n",
       "      <td>150.0</td>\n",
       "      <td>A1</td>\n",
       "      <td>B</td>\n",
       "      <td>18.2</td>\n",
       "      <td>21.3</td>\n",
       "      <td>19.6</td>\n",
       "      <td>2.0</td>\n",
       "      <td>2.4</td>\n",
       "      <td>2.2</td>\n",
       "      <td>443.0</td>\n",
       "      <td>0.0</td>\n",
       "      <td>10.0</td>\n",
       "      <td>10.0</td>\n",
       "      <td>7.5</td>\n",
       "    </tr>\n",
       "    <tr>\n",
       "      <th>442</th>\n",
       "      <td>2023</td>\n",
       "      <td>Volkswagen</td>\n",
       "      <td>ID.4 AWD Pro</td>\n",
       "      <td>SUV: Small</td>\n",
       "      <td>220.0</td>\n",
       "      <td>A1</td>\n",
       "      <td>B</td>\n",
       "      <td>20.1</td>\n",
       "      <td>22.6</td>\n",
       "      <td>21.2</td>\n",
       "      <td>2.3</td>\n",
       "      <td>2.5</td>\n",
       "      <td>2.4</td>\n",
       "      <td>410.0</td>\n",
       "      <td>0.0</td>\n",
       "      <td>10.0</td>\n",
       "      <td>10.0</td>\n",
       "      <td>7.5</td>\n",
       "    </tr>\n",
       "    <tr>\n",
       "      <th>443</th>\n",
       "      <td>2023</td>\n",
       "      <td>Volvo</td>\n",
       "      <td>C40 Recharge Twin</td>\n",
       "      <td>SUV: Small</td>\n",
       "      <td>300.0</td>\n",
       "      <td>A1</td>\n",
       "      <td>B</td>\n",
       "      <td>22.2</td>\n",
       "      <td>26.1</td>\n",
       "      <td>23.9</td>\n",
       "      <td>2.5</td>\n",
       "      <td>2.9</td>\n",
       "      <td>2.7</td>\n",
       "      <td>364.0</td>\n",
       "      <td>0.0</td>\n",
       "      <td>10.0</td>\n",
       "      <td>10.0</td>\n",
       "      <td>8.0</td>\n",
       "    </tr>\n",
       "    <tr>\n",
       "      <th>444</th>\n",
       "      <td>2023</td>\n",
       "      <td>Volvo</td>\n",
       "      <td>XC40 Recharge Twin</td>\n",
       "      <td>SUV: Small</td>\n",
       "      <td>300.0</td>\n",
       "      <td>A1</td>\n",
       "      <td>B</td>\n",
       "      <td>22.8</td>\n",
       "      <td>26.6</td>\n",
       "      <td>24.5</td>\n",
       "      <td>2.6</td>\n",
       "      <td>3.0</td>\n",
       "      <td>2.8</td>\n",
       "      <td>359.0</td>\n",
       "      <td>0.0</td>\n",
       "      <td>10.0</td>\n",
       "      <td>10.0</td>\n",
       "      <td>8.0</td>\n",
       "    </tr>\n",
       "  </tbody>\n",
       "</table>\n",
       "</div>"
      ],
      "text/plain": [
       "     Model_year        Make               Model Vehicle Class  Motor(kw)  \\\n",
       "440        2023  Volkswagen                ID.4    SUV: Small      150.0   \n",
       "441        2023  Volkswagen            ID.4 Pro    SUV: Small      150.0   \n",
       "442        2023  Volkswagen        ID.4 AWD Pro    SUV: Small      220.0   \n",
       "443        2023       Volvo   C40 Recharge Twin    SUV: Small      300.0   \n",
       "444        2023       Volvo  XC40 Recharge Twin    SUV: Small      300.0   \n",
       "\n",
       "    Transmission Fuel_type  Consumption_city(kwh/100km)  \\\n",
       "440           A1         B                         18.2   \n",
       "441           A1         B                         18.2   \n",
       "442           A1         B                         20.1   \n",
       "443           A1         B                         22.2   \n",
       "444           A1         B                         22.8   \n",
       "\n",
       "     Consumption_Hwy(kwh/100km)  Consumption_comb(kwh/100km)  \\\n",
       "440                        21.2                         19.6   \n",
       "441                        21.3                         19.6   \n",
       "442                        22.6                         21.2   \n",
       "443                        26.1                         23.9   \n",
       "444                        26.6                         24.5   \n",
       "\n",
       "     Consumption_city(Le/100km)  Consumption_Hwy(Le/100km)  \\\n",
       "440                         2.0                        2.4   \n",
       "441                         2.0                        2.4   \n",
       "442                         2.3                        2.5   \n",
       "443                         2.5                        2.9   \n",
       "444                         2.6                        3.0   \n",
       "\n",
       "     Consumption_comb(Le/100km)  Range(km)  CO2_Emissions(g/km)  CO2   \\\n",
       "440                         2.2      336.0                  0.0  10.0   \n",
       "441                         2.2      443.0                  0.0  10.0   \n",
       "442                         2.4      410.0                  0.0  10.0   \n",
       "443                         2.7      364.0                  0.0  10.0   \n",
       "444                         2.8      359.0                  0.0  10.0   \n",
       "\n",
       "     Smog_rating  Recharge_time(h)  \n",
       "440         10.0               6.0  \n",
       "441         10.0               7.5  \n",
       "442         10.0               7.5  \n",
       "443         10.0               8.0  \n",
       "444         10.0               8.0  "
      ]
     },
     "execution_count": 50,
     "metadata": {},
     "output_type": "execute_result"
    }
   ],
   "source": [
    "df.tail(5)"
   ]
  },
  {
   "cell_type": "code",
   "execution_count": 26,
   "metadata": {},
   "outputs": [],
   "source": [
    "# Eliminar un rango de filas, por ejemplo, de la fila 2 a la fila 3 (exclusivo)\n",
    "df.drop(df.index[445], inplace=True)\n",
    "# df.drop(df.index[445], inplace=True)"
   ]
  },
  {
   "cell_type": "code",
   "execution_count": 32,
   "metadata": {},
   "outputs": [],
   "source": [
    "# Convertir la columna 'Model_year' a tipo entero\n",
    "df['Model_year'] = df['Model_year'].astype(int)"
   ]
  },
  {
   "cell_type": "code",
   "execution_count": 33,
   "metadata": {},
   "outputs": [],
   "source": [
    "# Filtrar las filas con 'Model_Year' menor a 2019\n",
    "rows_to_drop = df[df['Model_year'] < 2019]\n",
    "\n",
    "# Eliminar las filas filtradas\n",
    "df.drop(rows_to_drop.index, inplace=True)"
   ]
  },
  {
   "cell_type": "code",
   "execution_count": 49,
   "metadata": {},
   "outputs": [],
   "source": [
    "# Cambiar el nombre de las columnas\n",
    "#df.rename(columns={'Unnamed: 10':'Consumption_city(Le/100km)','Unnamed: 11': 'Consumption_Hwy(Le/100km)','Unnamed: 12': 'Consumption_comb(Le/100km)'}, inplace=True)\n",
    "df.rename(columns={'Recharge':'Recharge_time(h)','Smog':'Smog_rating'}, inplace=True)"
   ]
  },
  {
   "cell_type": "code",
   "execution_count": 51,
   "metadata": {},
   "outputs": [],
   "source": [
    "#df.to_csv('./Complementary/fuel_consumption_ratings/MY2012-2023_Battery_Electric_Vehicles.csv',index=False)"
   ]
  },
  {
   "cell_type": "markdown",
   "metadata": {},
   "source": [
    "### MY2012-2023 Plug-in Hybrid Electric Vehicles.csv"
   ]
  },
  {
   "cell_type": "code",
   "execution_count": 53,
   "metadata": {},
   "outputs": [],
   "source": [
    "dfh=pd.read_csv('./Complementary/fuel_consumption_ratings/MY2012-2023 Plug-in Hybrid Electric Vehicles.csv',skiprows=[1],encoding='latin1',sep=',')"
   ]
  },
  {
   "cell_type": "code",
   "execution_count": 82,
   "metadata": {},
   "outputs": [
    {
     "name": "stdout",
     "output_type": "stream",
     "text": [
      "<class 'pandas.core.frame.DataFrame'>\n",
      "RangeIndex: 169 entries, 80 to 248\n",
      "Data columns (total 20 columns):\n",
      " #   Column                      Non-Null Count  Dtype  \n",
      "---  ------                      --------------  -----  \n",
      " 0   Model_year                  169 non-null    int32  \n",
      " 1   Make                        169 non-null    object \n",
      " 2   Model                       169 non-null    object \n",
      " 3   Vehicle_Class               169 non-null    object \n",
      " 4   Motor                       169 non-null    float64\n",
      " 5   Engine_Size                 169 non-null    float64\n",
      " 6   Cylinders                   169 non-null    float64\n",
      " 7   Transmission                169 non-null    object \n",
      " 8   Fuel_type_1                 169 non-null    object \n",
      " 9   Consumption_comb(Le/100km)  169 non-null    object \n",
      " 10  Range(km)                   169 non-null    float64\n",
      " 11  Recharge_time(h)            169 non-null    float64\n",
      " 12  Fuel_type_2                 169 non-null    object \n",
      " 13  Consumption_city(L/100km)   169 non-null    float64\n",
      " 14  Consumption_Hwy(L/100km)    169 non-null    float64\n",
      " 15  Consumption_comb(L/100km)   169 non-null    float64\n",
      " 16  Range_2(km)                 169 non-null    float64\n",
      " 17  CO2_Emissions(g/km)         169 non-null    float64\n",
      " 18  CO2_Rating                  169 non-null    float64\n",
      " 19  Smog_Rating                 169 non-null    float64\n",
      "dtypes: float64(12), int32(1), object(7)\n",
      "memory usage: 25.9+ KB\n"
     ]
    }
   ],
   "source": [
    "dfh.info()"
   ]
  },
  {
   "cell_type": "code",
   "execution_count": 62,
   "metadata": {},
   "outputs": [],
   "source": [
    "# Eliminar un rango de filas, por ejemplo, de la fila 2 a la fila 3 (exclusivo)\n",
    "dfh.drop(dfh.index[249:253], inplace=True)\n",
    "# df.drop(df.index[445], inplace=True)"
   ]
  },
  {
   "cell_type": "code",
   "execution_count": 81,
   "metadata": {},
   "outputs": [
    {
     "data": {
      "text/html": [
       "<div>\n",
       "<style scoped>\n",
       "    .dataframe tbody tr th:only-of-type {\n",
       "        vertical-align: middle;\n",
       "    }\n",
       "\n",
       "    .dataframe tbody tr th {\n",
       "        vertical-align: top;\n",
       "    }\n",
       "\n",
       "    .dataframe thead th {\n",
       "        text-align: right;\n",
       "    }\n",
       "</style>\n",
       "<table border=\"1\" class=\"dataframe\">\n",
       "  <thead>\n",
       "    <tr style=\"text-align: right;\">\n",
       "      <th></th>\n",
       "      <th>Model_year</th>\n",
       "      <th>Make</th>\n",
       "      <th>Model</th>\n",
       "      <th>Vehicle_Class</th>\n",
       "      <th>Motor</th>\n",
       "      <th>Engine_Size</th>\n",
       "      <th>Cylinders</th>\n",
       "      <th>Transmission</th>\n",
       "      <th>Fuel_type_1</th>\n",
       "      <th>Consumption_comb(Le/100km)</th>\n",
       "      <th>Range(km)</th>\n",
       "      <th>Recharge_time(h)</th>\n",
       "      <th>Fuel_type_2</th>\n",
       "      <th>Consumption_city(L/100km)</th>\n",
       "      <th>Consumption_Hwy(L/100km)</th>\n",
       "      <th>Consumption_comb(L/100km)</th>\n",
       "      <th>Range_2(km)</th>\n",
       "      <th>CO2_Emissions(g/km)</th>\n",
       "      <th>CO2_Rating</th>\n",
       "      <th>Smog_Rating</th>\n",
       "    </tr>\n",
       "  </thead>\n",
       "  <tbody>\n",
       "    <tr>\n",
       "      <th>244</th>\n",
       "      <td>2023</td>\n",
       "      <td>Volvo</td>\n",
       "      <td>S60 T8 AWD Recharge</td>\n",
       "      <td>Compact</td>\n",
       "      <td>107.0</td>\n",
       "      <td>2.0</td>\n",
       "      <td>4.0</td>\n",
       "      <td>AS8</td>\n",
       "      <td>B/Z*</td>\n",
       "      <td>3.0 ([27.2 kWh + 0.0 L]/100 km)</td>\n",
       "      <td>64.0</td>\n",
       "      <td>5.0</td>\n",
       "      <td>Z</td>\n",
       "      <td>8.0</td>\n",
       "      <td>7.2</td>\n",
       "      <td>7.6</td>\n",
       "      <td>792.0</td>\n",
       "      <td>58.0</td>\n",
       "      <td>10.0</td>\n",
       "      <td>7.0</td>\n",
       "    </tr>\n",
       "    <tr>\n",
       "      <th>245</th>\n",
       "      <td>2023</td>\n",
       "      <td>Volvo</td>\n",
       "      <td>S90 T8 AWD Recharge</td>\n",
       "      <td>Mid-size</td>\n",
       "      <td>107.0</td>\n",
       "      <td>2.0</td>\n",
       "      <td>4.0</td>\n",
       "      <td>AS8</td>\n",
       "      <td>B/Z*</td>\n",
       "      <td>3.4 ([30.0 kWh + 0.0 L]/100 km)</td>\n",
       "      <td>61.0</td>\n",
       "      <td>5.0</td>\n",
       "      <td>Z</td>\n",
       "      <td>8.5</td>\n",
       "      <td>7.6</td>\n",
       "      <td>8.1</td>\n",
       "      <td>748.0</td>\n",
       "      <td>65.0</td>\n",
       "      <td>10.0</td>\n",
       "      <td>7.0</td>\n",
       "    </tr>\n",
       "    <tr>\n",
       "      <th>246</th>\n",
       "      <td>2023</td>\n",
       "      <td>Volvo</td>\n",
       "      <td>V60 T8 AWD Recharge</td>\n",
       "      <td>Station wagon: Small</td>\n",
       "      <td>107.0</td>\n",
       "      <td>2.0</td>\n",
       "      <td>4.0</td>\n",
       "      <td>AS8</td>\n",
       "      <td>B/Z*</td>\n",
       "      <td>3.0 ([27.2 kWh + 0.0 L]/100 km)</td>\n",
       "      <td>64.0</td>\n",
       "      <td>5.0</td>\n",
       "      <td>Z</td>\n",
       "      <td>8.0</td>\n",
       "      <td>7.2</td>\n",
       "      <td>7.6</td>\n",
       "      <td>792.0</td>\n",
       "      <td>58.0</td>\n",
       "      <td>10.0</td>\n",
       "      <td>7.0</td>\n",
       "    </tr>\n",
       "    <tr>\n",
       "      <th>247</th>\n",
       "      <td>2023</td>\n",
       "      <td>Volvo</td>\n",
       "      <td>XC60 T8 AWD Recharge</td>\n",
       "      <td>SUV: Small</td>\n",
       "      <td>107.0</td>\n",
       "      <td>2.0</td>\n",
       "      <td>4.0</td>\n",
       "      <td>AS8</td>\n",
       "      <td>B/Z*</td>\n",
       "      <td>3.5 ([31.2 kWh + 0.0 L]/100 km)</td>\n",
       "      <td>58.0</td>\n",
       "      <td>5.0</td>\n",
       "      <td>Z</td>\n",
       "      <td>8.5</td>\n",
       "      <td>8.5</td>\n",
       "      <td>8.5</td>\n",
       "      <td>838.0</td>\n",
       "      <td>72.0</td>\n",
       "      <td>10.0</td>\n",
       "      <td>7.0</td>\n",
       "    </tr>\n",
       "    <tr>\n",
       "      <th>248</th>\n",
       "      <td>2023</td>\n",
       "      <td>Volvo</td>\n",
       "      <td>XC90 T8 AWD Recharge</td>\n",
       "      <td>SUV: Standard</td>\n",
       "      <td>107.0</td>\n",
       "      <td>2.0</td>\n",
       "      <td>4.0</td>\n",
       "      <td>AS8</td>\n",
       "      <td>B/Z*</td>\n",
       "      <td>3.8 ([34.4 kWh + 0.0 L]/100 km)</td>\n",
       "      <td>53.0</td>\n",
       "      <td>5.0</td>\n",
       "      <td>Z</td>\n",
       "      <td>9.1</td>\n",
       "      <td>8.6</td>\n",
       "      <td>8.9</td>\n",
       "      <td>803.0</td>\n",
       "      <td>82.0</td>\n",
       "      <td>9.0</td>\n",
       "      <td>7.0</td>\n",
       "    </tr>\n",
       "  </tbody>\n",
       "</table>\n",
       "</div>"
      ],
      "text/plain": [
       "     Model_year   Make                 Model         Vehicle_Class  Motor  \\\n",
       "244        2023  Volvo   S60 T8 AWD Recharge               Compact  107.0   \n",
       "245        2023  Volvo   S90 T8 AWD Recharge              Mid-size  107.0   \n",
       "246        2023  Volvo   V60 T8 AWD Recharge  Station wagon: Small  107.0   \n",
       "247        2023  Volvo  XC60 T8 AWD Recharge            SUV: Small  107.0   \n",
       "248        2023  Volvo  XC90 T8 AWD Recharge         SUV: Standard  107.0   \n",
       "\n",
       "     Engine_Size  Cylinders Transmission Fuel_type_1  \\\n",
       "244          2.0        4.0          AS8        B/Z*   \n",
       "245          2.0        4.0          AS8        B/Z*   \n",
       "246          2.0        4.0          AS8        B/Z*   \n",
       "247          2.0        4.0          AS8        B/Z*   \n",
       "248          2.0        4.0          AS8        B/Z*   \n",
       "\n",
       "          Consumption_comb(Le/100km)  Range(km)  Recharge_time(h) Fuel_type_2  \\\n",
       "244  3.0 ([27.2 kWh + 0.0 L]/100 km)       64.0               5.0           Z   \n",
       "245  3.4 ([30.0 kWh + 0.0 L]/100 km)       61.0               5.0           Z   \n",
       "246  3.0 ([27.2 kWh + 0.0 L]/100 km)       64.0               5.0           Z   \n",
       "247  3.5 ([31.2 kWh + 0.0 L]/100 km)       58.0               5.0           Z   \n",
       "248  3.8 ([34.4 kWh + 0.0 L]/100 km)       53.0               5.0           Z   \n",
       "\n",
       "     Consumption_city(L/100km)  Consumption_Hwy(L/100km)  \\\n",
       "244                        8.0                       7.2   \n",
       "245                        8.5                       7.6   \n",
       "246                        8.0                       7.2   \n",
       "247                        8.5                       8.5   \n",
       "248                        9.1                       8.6   \n",
       "\n",
       "     Consumption_comb(L/100km)  Range_2(km)  CO2_Emissions(g/km)  CO2_Rating  \\\n",
       "244                        7.6        792.0                 58.0        10.0   \n",
       "245                        8.1        748.0                 65.0        10.0   \n",
       "246                        7.6        792.0                 58.0        10.0   \n",
       "247                        8.5        838.0                 72.0        10.0   \n",
       "248                        8.9        803.0                 82.0         9.0   \n",
       "\n",
       "     Smog_Rating  \n",
       "244          7.0  \n",
       "245          7.0  \n",
       "246          7.0  \n",
       "247          7.0  \n",
       "248          7.0  "
      ]
     },
     "execution_count": 81,
     "metadata": {},
     "output_type": "execute_result"
    }
   ],
   "source": [
    "dfh.tail(5)"
   ]
  },
  {
   "cell_type": "code",
   "execution_count": 65,
   "metadata": {},
   "outputs": [],
   "source": [
    "# Convertir la columna 'Model_year' a tipo entero\n",
    "dfh['Model'] = dfh['Model'].astype(int)"
   ]
  },
  {
   "cell_type": "code",
   "execution_count": 67,
   "metadata": {},
   "outputs": [],
   "source": [
    "# Filtrar las filas con 'Model_Year' menor a 2019\n",
    "rows_to_drop = dfh[dfh['Model'] < 2019]\n",
    "\n",
    "# Eliminar las filas filtradas\n",
    "dfh.drop(rows_to_drop.index, inplace=True)"
   ]
  },
  {
   "cell_type": "code",
   "execution_count": null,
   "metadata": {},
   "outputs": [],
   "source": [
    "#dfh.reset_index()"
   ]
  },
  {
   "cell_type": "code",
   "execution_count": 127,
   "metadata": {},
   "outputs": [
    {
     "data": {
      "text/plain": [
       "Index(['Model_year', 'Make', 'Model', 'Vehicle_Class', 'Motor', 'Engine_Size',\n",
       "       'Cylinders', 'Transmission', 'Fuel_type_1',\n",
       "       'Consumption_comb(Le/100km)', 'Range(km)', 'Recharge_time(h)',\n",
       "       'Fuel_type_2', 'Consumption_city(L/100km)', 'Consumption_Hwy(L/100km)',\n",
       "       'Consumption_comb(L/100km)', 'Range_2(km)', 'CO2_Emissions(g/km)',\n",
       "       'CO2_Rating', 'Smog_Rating'],\n",
       "      dtype='object')"
      ]
     },
     "execution_count": 127,
     "metadata": {},
     "output_type": "execute_result"
    }
   ],
   "source": [
    "dfh.columns"
   ]
  },
  {
   "cell_type": "code",
   "execution_count": 79,
   "metadata": {},
   "outputs": [],
   "source": [
    "dfh.rename(columns={'Model':'Model_year', 'Model.1':'Model', 'Vehicle Class':'Vehicle_Class', 'Engine Size':'Engine_Size',\n",
    "       'Fuel':'Fuel_type_1', 'Consumption':'Consumption_comb(Le/100km)', 'Range 1':'Range(km)',\n",
    "       'Recharge':'Recharge_time(h)', 'Fuel.1':'Fuel_type_2', 'Consumption.1':'Consumption_city(L/100km)', 'Unnamed: 14':'Consumption_Hwy(L/100km)', 'Unnamed: 15':'Consumption_comb(L/100km)',\n",
    "       'Range 2':'Range_2(km)', 'CO2 Emissions':'CO2_Emissions(g/km)', 'CO2':'CO2_Rating', 'Smog':'Smog_Rating'},inplace=True)"
   ]
  },
  {
   "cell_type": "code",
   "execution_count": 83,
   "metadata": {},
   "outputs": [],
   "source": [
    "dfh.to_csv('./Complementary/fuel_consumption_ratings/MY2019-2023_Plug-in_Hybrid_Electric_Vehicles.csv',index=False)"
   ]
  },
  {
   "cell_type": "markdown",
   "metadata": {},
   "source": [
    "### MY2022 Fuel Consumption Ratings.csv"
   ]
  },
  {
   "cell_type": "markdown",
   "metadata": {},
   "source": []
  },
  {
   "cell_type": "code",
   "execution_count": 157,
   "metadata": {},
   "outputs": [
    {
     "name": "stderr",
     "output_type": "stream",
     "text": [
      "C:\\Users\\TheFercho\\AppData\\Local\\Temp\\ipykernel_6012\\827218057.py:1: DtypeWarning: Columns (0,1,2,3,6,7) have mixed types. Specify dtype option on import or set low_memory=False.\n",
      "  df_Fuel_Rating_2022=pd.read_csv('./Complementary/fuel_consumption_ratings/MY2022 Fuel Consumption Ratings.csv',sep=',',skiprows=[1],encoding='latin1')\n"
     ]
    }
   ],
   "source": [
    "df_Fuel_Rating_2022=pd.read_csv('./Complementary/fuel_consumption_ratings/MY2022 Fuel Consumption Ratings.csv',sep=',',skiprows=[1],encoding='latin1')"
   ]
  },
  {
   "cell_type": "code",
   "execution_count": 181,
   "metadata": {},
   "outputs": [
    {
     "name": "stdout",
     "output_type": "stream",
     "text": [
      "<class 'pandas.core.frame.DataFrame'>\n",
      "RangeIndex: 974 entries, 0 to 973\n",
      "Data columns (total 15 columns):\n",
      " #   Column                          Non-Null Count  Dtype  \n",
      "---  ------                          --------------  -----  \n",
      " 0   Model_year                      974 non-null    int32  \n",
      " 1   Make                            974 non-null    object \n",
      " 2   Model                           974 non-null    object \n",
      " 3   Vehicle_Class                   974 non-null    object \n",
      " 4   Engine_Size(L)                  974 non-null    float64\n",
      " 5   Cylinders                       974 non-null    float64\n",
      " 6   Transmission                    974 non-null    object \n",
      " 7   Fuel_type                       974 non-null    object \n",
      " 8   Fuel_Consumption_city(L/100km)  974 non-null    float64\n",
      " 9   Consumption_Hwy(L/100km)        974 non-null    float64\n",
      " 10  Consumption_comb(L/100km)       974 non-null    float64\n",
      " 11  Consumption_comb(mpg)           974 non-null    float64\n",
      " 12  CO2_Emissions(g/km)             974 non-null    float64\n",
      " 13  CO2_Rating                      974 non-null    float64\n",
      " 14  Smog_Rating                     974 non-null    float64\n",
      "dtypes: float64(9), int32(1), object(5)\n",
      "memory usage: 110.5+ KB\n"
     ]
    }
   ],
   "source": [
    "df_Fuel_Rating_2022.info()"
   ]
  },
  {
   "cell_type": "code",
   "execution_count": 180,
   "metadata": {},
   "outputs": [
    {
     "data": {
      "text/html": [
       "<div>\n",
       "<style scoped>\n",
       "    .dataframe tbody tr th:only-of-type {\n",
       "        vertical-align: middle;\n",
       "    }\n",
       "\n",
       "    .dataframe tbody tr th {\n",
       "        vertical-align: top;\n",
       "    }\n",
       "\n",
       "    .dataframe thead th {\n",
       "        text-align: right;\n",
       "    }\n",
       "</style>\n",
       "<table border=\"1\" class=\"dataframe\">\n",
       "  <thead>\n",
       "    <tr style=\"text-align: right;\">\n",
       "      <th></th>\n",
       "      <th>Model_year</th>\n",
       "      <th>Make</th>\n",
       "      <th>Model</th>\n",
       "      <th>Vehicle_Class</th>\n",
       "      <th>Engine_Size(L)</th>\n",
       "      <th>Cylinders</th>\n",
       "      <th>Transmission</th>\n",
       "      <th>Fuel_type</th>\n",
       "      <th>Fuel_Consumption_city(L/100km)</th>\n",
       "      <th>Consumption_Hwy(L/100km)</th>\n",
       "      <th>Consumption_comb(L/100km)</th>\n",
       "      <th>Consumption_comb(mpg)</th>\n",
       "      <th>CO2_Emissions(g/km)</th>\n",
       "      <th>CO2_Rating</th>\n",
       "      <th>Smog_Rating</th>\n",
       "    </tr>\n",
       "  </thead>\n",
       "  <tbody>\n",
       "    <tr>\n",
       "      <th>969</th>\n",
       "      <td>2022</td>\n",
       "      <td>Volvo</td>\n",
       "      <td>XC40 T5 AWD</td>\n",
       "      <td>SUV: Small</td>\n",
       "      <td>2.0</td>\n",
       "      <td>4.0</td>\n",
       "      <td>AS8</td>\n",
       "      <td>Z</td>\n",
       "      <td>10.7</td>\n",
       "      <td>7.7</td>\n",
       "      <td>9.4</td>\n",
       "      <td>30.0</td>\n",
       "      <td>219.0</td>\n",
       "      <td>5.0</td>\n",
       "      <td>5.0</td>\n",
       "    </tr>\n",
       "    <tr>\n",
       "      <th>970</th>\n",
       "      <td>2022</td>\n",
       "      <td>Volvo</td>\n",
       "      <td>XC60 B5 AWD</td>\n",
       "      <td>SUV: Small</td>\n",
       "      <td>2.0</td>\n",
       "      <td>4.0</td>\n",
       "      <td>AS8</td>\n",
       "      <td>Z</td>\n",
       "      <td>10.5</td>\n",
       "      <td>8.1</td>\n",
       "      <td>9.4</td>\n",
       "      <td>30.0</td>\n",
       "      <td>219.0</td>\n",
       "      <td>5.0</td>\n",
       "      <td>5.0</td>\n",
       "    </tr>\n",
       "    <tr>\n",
       "      <th>971</th>\n",
       "      <td>2022</td>\n",
       "      <td>Volvo</td>\n",
       "      <td>XC60 B6 AWD</td>\n",
       "      <td>SUV: Small</td>\n",
       "      <td>2.0</td>\n",
       "      <td>4.0</td>\n",
       "      <td>AS8</td>\n",
       "      <td>Z</td>\n",
       "      <td>11.0</td>\n",
       "      <td>8.7</td>\n",
       "      <td>9.9</td>\n",
       "      <td>29.0</td>\n",
       "      <td>232.0</td>\n",
       "      <td>5.0</td>\n",
       "      <td>7.0</td>\n",
       "    </tr>\n",
       "    <tr>\n",
       "      <th>972</th>\n",
       "      <td>2022</td>\n",
       "      <td>Volvo</td>\n",
       "      <td>XC90 T5 AWD</td>\n",
       "      <td>SUV: Standard</td>\n",
       "      <td>2.0</td>\n",
       "      <td>4.0</td>\n",
       "      <td>AS8</td>\n",
       "      <td>Z</td>\n",
       "      <td>11.5</td>\n",
       "      <td>8.4</td>\n",
       "      <td>10.1</td>\n",
       "      <td>28.0</td>\n",
       "      <td>236.0</td>\n",
       "      <td>5.0</td>\n",
       "      <td>5.0</td>\n",
       "    </tr>\n",
       "    <tr>\n",
       "      <th>973</th>\n",
       "      <td>2022</td>\n",
       "      <td>Volvo</td>\n",
       "      <td>XC90 T6 AWD</td>\n",
       "      <td>SUV: Standard</td>\n",
       "      <td>2.0</td>\n",
       "      <td>4.0</td>\n",
       "      <td>AS8</td>\n",
       "      <td>Z</td>\n",
       "      <td>12.4</td>\n",
       "      <td>8.9</td>\n",
       "      <td>10.8</td>\n",
       "      <td>26.0</td>\n",
       "      <td>252.0</td>\n",
       "      <td>5.0</td>\n",
       "      <td>7.0</td>\n",
       "    </tr>\n",
       "  </tbody>\n",
       "</table>\n",
       "</div>"
      ],
      "text/plain": [
       "     Model_year   Make        Model  Vehicle_Class  Engine_Size(L)  Cylinders  \\\n",
       "969        2022  Volvo  XC40 T5 AWD     SUV: Small             2.0        4.0   \n",
       "970        2022  Volvo  XC60 B5 AWD     SUV: Small             2.0        4.0   \n",
       "971        2022  Volvo  XC60 B6 AWD     SUV: Small             2.0        4.0   \n",
       "972        2022  Volvo  XC90 T5 AWD  SUV: Standard             2.0        4.0   \n",
       "973        2022  Volvo  XC90 T6 AWD  SUV: Standard             2.0        4.0   \n",
       "\n",
       "    Transmission Fuel_type  Fuel_Consumption_city(L/100km)  \\\n",
       "969          AS8         Z                            10.7   \n",
       "970          AS8         Z                            10.5   \n",
       "971          AS8         Z                            11.0   \n",
       "972          AS8         Z                            11.5   \n",
       "973          AS8         Z                            12.4   \n",
       "\n",
       "     Consumption_Hwy(L/100km)  Consumption_comb(L/100km)  \\\n",
       "969                       7.7                        9.4   \n",
       "970                       8.1                        9.4   \n",
       "971                       8.7                        9.9   \n",
       "972                       8.4                       10.1   \n",
       "973                       8.9                       10.8   \n",
       "\n",
       "     Consumption_comb(mpg)  CO2_Emissions(g/km)  CO2_Rating  Smog_Rating  \n",
       "969                   30.0                219.0         5.0          5.0  \n",
       "970                   30.0                219.0         5.0          5.0  \n",
       "971                   29.0                232.0         5.0          7.0  \n",
       "972                   28.0                236.0         5.0          5.0  \n",
       "973                   26.0                252.0         5.0          7.0  "
      ]
     },
     "execution_count": 180,
     "metadata": {},
     "output_type": "execute_result"
    }
   ],
   "source": [
    "df_Fuel_Rating_2022.tail(5)"
   ]
  },
  {
   "cell_type": "code",
   "execution_count": 175,
   "metadata": {},
   "outputs": [],
   "source": [
    "# Eliminar un rango de filas, por ejemplo, de la fila 2 a la fila 3 (exclusivo)\n",
    "df_Fuel_Rating_2022.drop(df_Fuel_Rating_2022.index[974:6999], inplace=True)\n",
    "# df.drop(df.index[445], inplace=True)"
   ]
  },
  {
   "cell_type": "code",
   "execution_count": 179,
   "metadata": {},
   "outputs": [
    {
     "data": {
      "text/plain": [
       "Index(['Model_year', 'Make', 'Model', 'Vehicle_Class', 'Engine_Size(L)',\n",
       "       'Cylinders', 'Transmission', 'Fuel_type',\n",
       "       'Fuel_Consumption_city(L/100km)', 'Consumption_Hwy(L/100km)',\n",
       "       'Consumption_comb(L/100km)', 'Consumption_comb(mpg)',\n",
       "       'CO2_Emissions(g/km)', 'CO2_Rating', 'Smog_Rating'],\n",
       "      dtype='object')"
      ]
     },
     "execution_count": 179,
     "metadata": {},
     "output_type": "execute_result"
    }
   ],
   "source": [
    "df_Fuel_Rating_2022.columns"
   ]
  },
  {
   "cell_type": "code",
   "execution_count": 164,
   "metadata": {},
   "outputs": [],
   "source": [
    "start_col = 16  # Número de la columna de inicio del rango (inclusive)\n",
    "end_col = 221    # Número de la columna de fin del rango (exclusive)\n",
    "\n",
    "df_Fuel_Rating_2022.drop(df_Fuel_Rating_2022.columns[start_col:end_col], axis=1, inplace=True)\n"
   ]
  },
  {
   "cell_type": "code",
   "execution_count": 167,
   "metadata": {},
   "outputs": [],
   "source": [
    "df_Fuel_Rating_2022.drop(columns={'Unnamed: 221'},inplace=True)"
   ]
  },
  {
   "cell_type": "code",
   "execution_count": 169,
   "metadata": {},
   "outputs": [],
   "source": [
    "df_Fuel_Rating_2022.rename(columns={'Model':'Model_year','Model.1':'Model', 'Vehicle Class':'Vehicle_Class', 'Engine Size':'Engine_Size(L)',\n",
    "       'Fuel':'Fuel_type', 'Fuel Consumption':'Fuel_Consumption_city(L/100km)', 'Unnamed: 9':'Consumption_Hwy(L/100km)',\n",
    "       'Unnamed: 10':'Consumption_comb(L/100km)', 'Unnamed: 11':'Consumption_comb(mpg)','CO2 Emissions':'CO2_Emissions(g/km)',\n",
    "       'CO2':'CO2_Rating', 'Smog':'Smog_Rating'},inplace=True)"
   ]
  },
  {
   "cell_type": "code",
   "execution_count": 111,
   "metadata": {},
   "outputs": [],
   "source": [
    "#df_Fuel_Rating_2022.rename(columns={df_Fuel_Rating_2022.columns[0]: 'Model_year'}, inplace=True)"
   ]
  },
  {
   "cell_type": "code",
   "execution_count": 178,
   "metadata": {},
   "outputs": [],
   "source": [
    "df_Fuel_Rating_2022['Model_year']=df_Fuel_Rating_2022['Model_year'].astype(int)"
   ]
  },
  {
   "cell_type": "code",
   "execution_count": 183,
   "metadata": {},
   "outputs": [],
   "source": [
    "df_Fuel_Rating_2022.to_csv('./Complementary/fuel_consumption_ratings/MY2022_Fuel_Consumption_Ratings.csv',index=False)"
   ]
  },
  {
   "cell_type": "markdown",
   "metadata": {},
   "source": [
    "### MY2023 Fuel Consumption Ratings.csv\n",
    "Entendiendo la tabla:\n",
    "\n",
    "Model: 4WD/4X4 = Four-wheel drive, AWD = All-wheel drive, FFV = Flexible-fuel vehicle, LWB = Long wheelbase, EWB = Extended wheelbase\n",
    "Transmission: A=automatic ,AM = automated manual ,AS = automatic with select shift ,AV = continuously variable ,M = manual, 3/10 = Numbers of gears.\n",
    "Fuel type: ,X = regular gasoline, Z = premium gasoline, D = diesel, E = Ethanol(E85), N Natural gas.\n",
    "Fuel consumption: is shown in L/100 km and in miles per imperial gallon (mpg)\n",
    "\n",
    "                                                                                                                                                         \n"
   ]
  },
  {
   "cell_type": "code",
   "execution_count": 184,
   "metadata": {},
   "outputs": [
    {
     "name": "stderr",
     "output_type": "stream",
     "text": [
      "C:\\Users\\TheFercho\\AppData\\Local\\Temp\\ipykernel_6012\\3511544118.py:1: DtypeWarning: Columns (0,1,2,3,6,7) have mixed types. Specify dtype option on import or set low_memory=False.\n",
      "  df_Fuel_Rating_2023=pd.read_csv('./Complementary/fuel_consumption_ratings/MY2023 Fuel Consumption Ratings.csv',skiprows=[1],sep=',',encoding='latin1')\n"
     ]
    }
   ],
   "source": [
    "df_Fuel_Rating_2023=pd.read_csv('./Complementary/fuel_consumption_ratings/MY2023 Fuel Consumption Ratings.csv',skiprows=[1],sep=',',encoding='latin1')"
   ]
  },
  {
   "cell_type": "code",
   "execution_count": 203,
   "metadata": {},
   "outputs": [
    {
     "name": "stdout",
     "output_type": "stream",
     "text": [
      "<class 'pandas.core.frame.DataFrame'>\n",
      "RangeIndex: 823 entries, 0 to 822\n",
      "Data columns (total 15 columns):\n",
      " #   Column                          Non-Null Count  Dtype  \n",
      "---  ------                          --------------  -----  \n",
      " 0   Model_year                      823 non-null    int32  \n",
      " 1   Make                            823 non-null    object \n",
      " 2   Model                           823 non-null    object \n",
      " 3   Vehicle_Class                   823 non-null    object \n",
      " 4   Engine_Size(L)                  823 non-null    float64\n",
      " 5   Cylinders                       823 non-null    float64\n",
      " 6   Transmission                    823 non-null    object \n",
      " 7   Fuel_type                       823 non-null    object \n",
      " 8   Fuel_Consumption_city(L/100km)  823 non-null    float64\n",
      " 9   Consumption_Hwy(L/100km)        823 non-null    float64\n",
      " 10  Consumption_comb(L/100km)       823 non-null    float64\n",
      " 11  Consumption_comb(mpg)           823 non-null    float64\n",
      " 12  CO2_Emissions(g/km)             823 non-null    float64\n",
      " 13  CO2_Rating                      823 non-null    float64\n",
      " 14  Smog_Rating                     823 non-null    float64\n",
      "dtypes: float64(9), int32(1), object(5)\n",
      "memory usage: 93.4+ KB\n"
     ]
    }
   ],
   "source": [
    "df_Fuel_Rating_2023.info()"
   ]
  },
  {
   "cell_type": "code",
   "execution_count": 186,
   "metadata": {},
   "outputs": [],
   "source": [
    "df_Fuel_Rating_2023.rename(columns={'Model':'Model_year','Model.1':'Model', 'Vehicle Class':'Vehicle_Class', 'Engine Size':'Engine_Size(L)',\n",
    "       'Fuel':'Fuel_type', 'Fuel Consumption':'Fuel_Consumption_city(L/100km)', 'Unnamed: 9':'Consumption_Hwy(L/100km)',\n",
    "       'Unnamed: 10':'Consumption_comb(L/100km)', 'Unnamed: 11':'Consumption_comb(mpg)','CO2 Emissions':'CO2_Emissions(g/km)',\n",
    "       'CO2':'CO2_Rating', 'Smog':'Smog_Rating'},inplace=True)"
   ]
  },
  {
   "cell_type": "code",
   "execution_count": 195,
   "metadata": {},
   "outputs": [
    {
     "data": {
      "text/plain": [
       "Index(['Model_year', 'Make', 'Model', 'Vehicle_Class', 'Engine_Size(L)',\n",
       "       'Cylinders', 'Transmission', 'Fuel_type',\n",
       "       'Fuel_Consumption_city(L/100km)', 'Consumption_Hwy(L/100km)',\n",
       "       'Consumption_comb(L/100km)', 'Consumption_comb(mpg)',\n",
       "       'CO2_Emissions(g/km)', 'CO2_Rating', 'Smog_Rating'],\n",
       "      dtype='object')"
      ]
     },
     "execution_count": 195,
     "metadata": {},
     "output_type": "execute_result"
    }
   ],
   "source": [
    "df_Fuel_Rating_2023.columns"
   ]
  },
  {
   "cell_type": "code",
   "execution_count": 191,
   "metadata": {},
   "outputs": [],
   "source": [
    "start_col = 15  # Número de la columna de inicio del rango (inclusive)\n",
    "end_col = 224    # Número de la columna de fin del rango (exclusive)\n",
    "\n",
    "df_Fuel_Rating_2023.drop(df_Fuel_Rating_2023.columns[start_col:end_col], axis=1, inplace=True)\n"
   ]
  },
  {
   "cell_type": "code",
   "execution_count": 198,
   "metadata": {},
   "outputs": [],
   "source": [
    "# Eliminar un rango de filas, por ejemplo, de la fila 2 a la fila 3 (exclusivo)\n",
    "df_Fuel_Rating_2023.drop(df_Fuel_Rating_2023.index[823:7350], inplace=True)\n",
    "# df.drop(df.index[445], inplace=True)"
   ]
  },
  {
   "cell_type": "code",
   "execution_count": 200,
   "metadata": {},
   "outputs": [
    {
     "data": {
      "text/html": [
       "<div>\n",
       "<style scoped>\n",
       "    .dataframe tbody tr th:only-of-type {\n",
       "        vertical-align: middle;\n",
       "    }\n",
       "\n",
       "    .dataframe tbody tr th {\n",
       "        vertical-align: top;\n",
       "    }\n",
       "\n",
       "    .dataframe thead th {\n",
       "        text-align: right;\n",
       "    }\n",
       "</style>\n",
       "<table border=\"1\" class=\"dataframe\">\n",
       "  <thead>\n",
       "    <tr style=\"text-align: right;\">\n",
       "      <th></th>\n",
       "      <th>Model_year</th>\n",
       "      <th>Make</th>\n",
       "      <th>Model</th>\n",
       "      <th>Vehicle_Class</th>\n",
       "      <th>Engine_Size(L)</th>\n",
       "      <th>Cylinders</th>\n",
       "      <th>Transmission</th>\n",
       "      <th>Fuel_type</th>\n",
       "      <th>Fuel_Consumption_city(L/100km)</th>\n",
       "      <th>Consumption_Hwy(L/100km)</th>\n",
       "      <th>Consumption_comb(L/100km)</th>\n",
       "      <th>Consumption_comb(mpg)</th>\n",
       "      <th>CO2_Emissions(g/km)</th>\n",
       "      <th>CO2_Rating</th>\n",
       "      <th>Smog_Rating</th>\n",
       "    </tr>\n",
       "  </thead>\n",
       "  <tbody>\n",
       "    <tr>\n",
       "      <th>820</th>\n",
       "      <td>2023</td>\n",
       "      <td>Volvo</td>\n",
       "      <td>XC60 B6 AWD</td>\n",
       "      <td>SUV: Small</td>\n",
       "      <td>2.0</td>\n",
       "      <td>4.0</td>\n",
       "      <td>AS8</td>\n",
       "      <td>Z</td>\n",
       "      <td>11.1</td>\n",
       "      <td>8.7</td>\n",
       "      <td>10.0</td>\n",
       "      <td>28.0</td>\n",
       "      <td>233.0</td>\n",
       "      <td>5.0</td>\n",
       "      <td>7.0</td>\n",
       "    </tr>\n",
       "    <tr>\n",
       "      <th>821</th>\n",
       "      <td>2023</td>\n",
       "      <td>Volvo</td>\n",
       "      <td>XC90 B5 AWD</td>\n",
       "      <td>SUV: Standard</td>\n",
       "      <td>2.0</td>\n",
       "      <td>4.0</td>\n",
       "      <td>AS8</td>\n",
       "      <td>Z</td>\n",
       "      <td>10.5</td>\n",
       "      <td>8.4</td>\n",
       "      <td>9.6</td>\n",
       "      <td>29.0</td>\n",
       "      <td>223.0</td>\n",
       "      <td>5.0</td>\n",
       "      <td>5.0</td>\n",
       "    </tr>\n",
       "    <tr>\n",
       "      <th>822</th>\n",
       "      <td>2023</td>\n",
       "      <td>Volvo</td>\n",
       "      <td>XC90 B6 AWD</td>\n",
       "      <td>SUV: Standard</td>\n",
       "      <td>2.0</td>\n",
       "      <td>4.0</td>\n",
       "      <td>AS8</td>\n",
       "      <td>Z</td>\n",
       "      <td>11.9</td>\n",
       "      <td>9.1</td>\n",
       "      <td>10.6</td>\n",
       "      <td>27.0</td>\n",
       "      <td>249.0</td>\n",
       "      <td>5.0</td>\n",
       "      <td>7.0</td>\n",
       "    </tr>\n",
       "  </tbody>\n",
       "</table>\n",
       "</div>"
      ],
      "text/plain": [
       "    Model_year   Make        Model  Vehicle_Class  Engine_Size(L)  Cylinders  \\\n",
       "820       2023  Volvo  XC60 B6 AWD     SUV: Small             2.0        4.0   \n",
       "821       2023  Volvo  XC90 B5 AWD  SUV: Standard             2.0        4.0   \n",
       "822       2023  Volvo  XC90 B6 AWD  SUV: Standard             2.0        4.0   \n",
       "\n",
       "    Transmission Fuel_type  Fuel_Consumption_city(L/100km)  \\\n",
       "820          AS8         Z                            11.1   \n",
       "821          AS8         Z                            10.5   \n",
       "822          AS8         Z                            11.9   \n",
       "\n",
       "     Consumption_Hwy(L/100km)  Consumption_comb(L/100km)  \\\n",
       "820                       8.7                       10.0   \n",
       "821                       8.4                        9.6   \n",
       "822                       9.1                       10.6   \n",
       "\n",
       "     Consumption_comb(mpg)  CO2_Emissions(g/km)  CO2_Rating  Smog_Rating  \n",
       "820                   28.0                233.0         5.0          7.0  \n",
       "821                   29.0                223.0         5.0          5.0  \n",
       "822                   27.0                249.0         5.0          7.0  "
      ]
     },
     "execution_count": 200,
     "metadata": {},
     "output_type": "execute_result"
    }
   ],
   "source": [
    "df_Fuel_Rating_2023.tail(3)"
   ]
  },
  {
   "cell_type": "code",
   "execution_count": 201,
   "metadata": {},
   "outputs": [],
   "source": [
    "df_Fuel_Rating_2023['Model_year']=df_Fuel_Rating_2023['Model_year'].astype(int)"
   ]
  },
  {
   "cell_type": "code",
   "execution_count": 204,
   "metadata": {},
   "outputs": [],
   "source": [
    "df_Fuel_Rating_2023.to_csv('./Complementary/fuel_consumption_ratings/MY2023_Fuel_Consumption_Ratings.csv',index=False)"
   ]
  }
 ],
 "metadata": {
  "kernelspec": {
   "display_name": "Python 3",
   "language": "python",
   "name": "python3"
  },
  "language_info": {
   "codemirror_mode": {
    "name": "ipython",
    "version": 3
   },
   "file_extension": ".py",
   "mimetype": "text/x-python",
   "name": "python",
   "nbconvert_exporter": "python",
   "pygments_lexer": "ipython3",
   "version": "3.11.3"
  },
  "orig_nbformat": 4
 },
 "nbformat": 4,
 "nbformat_minor": 2
}
