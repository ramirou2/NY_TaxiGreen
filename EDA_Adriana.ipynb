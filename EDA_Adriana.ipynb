{
 "cells": [
  {
   "cell_type": "markdown",
   "metadata": {},
   "source": [
    "# EDA de Electric and Alternative Fuel Charging Station"
   ]
  },
  {
   "cell_type": "markdown",
   "metadata": {},
   "source": [
    "## Importamos las librerias necesarias"
   ]
  },
  {
   "cell_type": "code",
   "execution_count": 1,
   "metadata": {},
   "outputs": [],
   "source": [
    "import os\n",
    "import pandas as pd\n",
    "import numpy as np\n",
    "import missingno as msno\n",
    "import matplotlib.pyplot as plt\n",
    "import seaborn as sns"
   ]
  },
  {
   "cell_type": "markdown",
   "metadata": {},
   "source": [
    "## Cargamos el archivo a analizar"
   ]
  },
  {
   "cell_type": "code",
   "execution_count": 10,
   "metadata": {},
   "outputs": [],
   "source": [
    "df = pd.read_csv(\".\\Datasets_clean\\Electric_and_Alternative_Fuel_Charging_Stations.csv\")"
   ]
  },
  {
   "cell_type": "markdown",
   "metadata": {},
   "source": [
    "### Revisión del dataset"
   ]
  },
  {
   "cell_type": "code",
   "execution_count": 11,
   "metadata": {},
   "outputs": [
    {
     "name": "stdout",
     "output_type": "stream",
     "text": [
      "<class 'pandas.core.frame.DataFrame'>\n",
      "RangeIndex: 70406 entries, 0 to 70405\n",
      "Data columns (total 25 columns):\n",
      " #   Column                            Non-Null Count  Dtype  \n",
      "---  ------                            --------------  -----  \n",
      " 0   Unnamed: 0                        70406 non-null  int64  \n",
      " 1   Fuel Type Code                    70406 non-null  object \n",
      " 2   Station Name                      70406 non-null  object \n",
      " 3   Street Address                    70405 non-null  object \n",
      " 4   City                              70406 non-null  object \n",
      " 5   State                             70406 non-null  object \n",
      " 6   ZIP                               70405 non-null  object \n",
      " 7   Station Phone                     65204 non-null  object \n",
      " 8   Status Code                       70406 non-null  object \n",
      " 9   Groups With Access Code           70406 non-null  object \n",
      " 10  Access Days Time                  66628 non-null  object \n",
      " 11  EV Level2 EVSE Num                54144 non-null  float64\n",
      " 12  EV Network                        60907 non-null  object \n",
      " 13  EV Network Web                    50305 non-null  object \n",
      " 14  Geocode Status                    70391 non-null  object \n",
      " 15  Latitude                          70406 non-null  float64\n",
      " 16  Longitude                         70406 non-null  float64\n",
      " 17  Date Last Confirmed               70188 non-null  object \n",
      " 18  ID                                70406 non-null  int64  \n",
      " 19  Updated At                        70406 non-null  object \n",
      " 20  Open Date                         69310 non-null  object \n",
      " 21  EV Connector Types                60690 non-null  object \n",
      " 22  Country                           70406 non-null  object \n",
      " 23  Groups With Access Code (French)  70406 non-null  object \n",
      " 24  Access Code                       70406 non-null  object \n",
      "dtypes: float64(3), int64(2), object(20)\n",
      "memory usage: 13.4+ MB\n"
     ]
    }
   ],
   "source": [
    "# Mostrar información general sobre el DataFrame\n",
    "df.info()\n"
   ]
  },
  {
   "cell_type": "code",
   "execution_count": 12,
   "metadata": {},
   "outputs": [
    {
     "data": {
      "text/html": [
       "<div>\n",
       "<style scoped>\n",
       "    .dataframe tbody tr th:only-of-type {\n",
       "        vertical-align: middle;\n",
       "    }\n",
       "\n",
       "    .dataframe tbody tr th {\n",
       "        vertical-align: top;\n",
       "    }\n",
       "\n",
       "    .dataframe thead th {\n",
       "        text-align: right;\n",
       "    }\n",
       "</style>\n",
       "<table border=\"1\" class=\"dataframe\">\n",
       "  <thead>\n",
       "    <tr style=\"text-align: right;\">\n",
       "      <th></th>\n",
       "      <th>Unnamed: 0</th>\n",
       "      <th>EV Level2 EVSE Num</th>\n",
       "      <th>Latitude</th>\n",
       "      <th>Longitude</th>\n",
       "      <th>ID</th>\n",
       "    </tr>\n",
       "  </thead>\n",
       "  <tbody>\n",
       "    <tr>\n",
       "      <th>count</th>\n",
       "      <td>70406.000000</td>\n",
       "      <td>54144.000000</td>\n",
       "      <td>70406.000000</td>\n",
       "      <td>70406.000000</td>\n",
       "      <td>70406.000000</td>\n",
       "    </tr>\n",
       "    <tr>\n",
       "      <th>mean</th>\n",
       "      <td>35202.500000</td>\n",
       "      <td>2.315289</td>\n",
       "      <td>38.929309</td>\n",
       "      <td>-96.061447</td>\n",
       "      <td>148730.326066</td>\n",
       "    </tr>\n",
       "    <tr>\n",
       "      <th>std</th>\n",
       "      <td>20324.605863</td>\n",
       "      <td>3.157387</td>\n",
       "      <td>5.628458</td>\n",
       "      <td>19.545273</td>\n",
       "      <td>54261.672118</td>\n",
       "    </tr>\n",
       "    <tr>\n",
       "      <th>min</th>\n",
       "      <td>0.000000</td>\n",
       "      <td>1.000000</td>\n",
       "      <td>0.000000</td>\n",
       "      <td>-159.788556</td>\n",
       "      <td>17.000000</td>\n",
       "    </tr>\n",
       "    <tr>\n",
       "      <th>25%</th>\n",
       "      <td>17601.250000</td>\n",
       "      <td>2.000000</td>\n",
       "      <td>34.182981</td>\n",
       "      <td>-117.860563</td>\n",
       "      <td>113723.250000</td>\n",
       "    </tr>\n",
       "    <tr>\n",
       "      <th>50%</th>\n",
       "      <td>35202.500000</td>\n",
       "      <td>2.000000</td>\n",
       "      <td>39.105989</td>\n",
       "      <td>-92.002897</td>\n",
       "      <td>165247.500000</td>\n",
       "    </tr>\n",
       "    <tr>\n",
       "      <th>75%</th>\n",
       "      <td>52803.750000</td>\n",
       "      <td>2.000000</td>\n",
       "      <td>42.702185</td>\n",
       "      <td>-78.881493</td>\n",
       "      <td>190653.750000</td>\n",
       "    </tr>\n",
       "    <tr>\n",
       "      <th>max</th>\n",
       "      <td>70405.000000</td>\n",
       "      <td>311.000000</td>\n",
       "      <td>64.852466</td>\n",
       "      <td>40.432278</td>\n",
       "      <td>224382.000000</td>\n",
       "    </tr>\n",
       "  </tbody>\n",
       "</table>\n",
       "</div>"
      ],
      "text/plain": [
       "         Unnamed: 0  EV Level2 EVSE Num      Latitude     Longitude  \\\n",
       "count  70406.000000        54144.000000  70406.000000  70406.000000   \n",
       "mean   35202.500000            2.315289     38.929309    -96.061447   \n",
       "std    20324.605863            3.157387      5.628458     19.545273   \n",
       "min        0.000000            1.000000      0.000000   -159.788556   \n",
       "25%    17601.250000            2.000000     34.182981   -117.860563   \n",
       "50%    35202.500000            2.000000     39.105989    -92.002897   \n",
       "75%    52803.750000            2.000000     42.702185    -78.881493   \n",
       "max    70405.000000          311.000000     64.852466     40.432278   \n",
       "\n",
       "                  ID  \n",
       "count   70406.000000  \n",
       "mean   148730.326066  \n",
       "std     54261.672118  \n",
       "min        17.000000  \n",
       "25%    113723.250000  \n",
       "50%    165247.500000  \n",
       "75%    190653.750000  \n",
       "max    224382.000000  "
      ]
     },
     "execution_count": 12,
     "metadata": {},
     "output_type": "execute_result"
    }
   ],
   "source": [
    "# Mostrar un resumen estadístico del DataFrame\n",
    "df.describe()"
   ]
  }
 ],
 "metadata": {
  "kernelspec": {
   "display_name": "Python 3",
   "language": "python",
   "name": "python3"
  },
  "language_info": {
   "codemirror_mode": {
    "name": "ipython",
    "version": 3
   },
   "file_extension": ".py",
   "mimetype": "text/x-python",
   "name": "python",
   "nbconvert_exporter": "python",
   "pygments_lexer": "ipython3",
   "version": "3.11.4"
  },
  "orig_nbformat": 4
 },
 "nbformat": 4,
 "nbformat_minor": 2
}
