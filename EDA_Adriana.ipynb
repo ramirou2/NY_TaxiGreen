{
 "cells": [
  {
   "cell_type": "markdown",
   "metadata": {},
   "source": [
    "# EDA de Electric and Alternative Fuel Charging Station"
   ]
  },
  {
   "cell_type": "markdown",
   "metadata": {},
   "source": [
    "## Importamos las librerias necesarias"
   ]
  },
  {
   "cell_type": "code",
   "execution_count": 1,
   "metadata": {},
   "outputs": [],
   "source": [
    "import os\n",
    "import pandas as pd\n",
    "import numpy as np\n",
    "import missingno as msno\n",
    "import matplotlib.pyplot as plt\n",
    "import seaborn as sns"
   ]
  },
  {
   "cell_type": "markdown",
   "metadata": {},
   "source": [
    "## Cargamos el archivo a analizar"
   ]
  },
  {
   "cell_type": "code",
   "execution_count": 91,
   "metadata": {},
   "outputs": [],
   "source": [
    "df = pd.read_csv(\".\\Datasets_clean\\Electric_and_Alternative_Fuel_Charging_Stations.csv\")"
   ]
  },
  {
   "cell_type": "markdown",
   "metadata": {},
   "source": [
    "### Revisión del dataset"
   ]
  },
  {
   "cell_type": "code",
   "execution_count": 92,
   "metadata": {},
   "outputs": [
    {
     "name": "stdout",
     "output_type": "stream",
     "text": [
      "<class 'pandas.core.frame.DataFrame'>\n",
      "RangeIndex: 70406 entries, 0 to 70405\n",
      "Data columns (total 23 columns):\n",
      " #   Column                   Non-Null Count  Dtype  \n",
      "---  ------                   --------------  -----  \n",
      " 0   Fuel Type Code           70406 non-null  object \n",
      " 1   Station Name             70406 non-null  object \n",
      " 2   Street Address           70405 non-null  object \n",
      " 3   City                     70406 non-null  object \n",
      " 4   State                    70406 non-null  object \n",
      " 5   ZIP                      70405 non-null  object \n",
      " 6   Station Phone            65204 non-null  object \n",
      " 7   Status Code              70406 non-null  object \n",
      " 8   Groups With Access Code  70406 non-null  object \n",
      " 9   Access Days Time         66628 non-null  object \n",
      " 10  EV Level2 EVSE Num       54144 non-null  float64\n",
      " 11  EV Network               60907 non-null  object \n",
      " 12  EV Network Web           50305 non-null  object \n",
      " 13  Geocode Status           70391 non-null  object \n",
      " 14  Latitude                 70406 non-null  float64\n",
      " 15  Longitude                70406 non-null  float64\n",
      " 16  Date Last Confirmed      70188 non-null  object \n",
      " 17  ID                       70406 non-null  int64  \n",
      " 18  Updated At               70406 non-null  object \n",
      " 19  Open Date                69310 non-null  object \n",
      " 20  EV Connector Types       60690 non-null  object \n",
      " 21  Country                  70406 non-null  object \n",
      " 22  Access Code              70406 non-null  object \n",
      "dtypes: float64(3), int64(1), object(19)\n",
      "memory usage: 12.4+ MB\n"
     ]
    }
   ],
   "source": [
    "# Mostrar información general sobre el DataFrame\n",
    "df.info()\n"
   ]
  },
  {
   "cell_type": "code",
   "execution_count": 85,
   "metadata": {},
   "outputs": [
    {
     "data": {
      "text/html": [
       "<div>\n",
       "<style scoped>\n",
       "    .dataframe tbody tr th:only-of-type {\n",
       "        vertical-align: middle;\n",
       "    }\n",
       "\n",
       "    .dataframe tbody tr th {\n",
       "        vertical-align: top;\n",
       "    }\n",
       "\n",
       "    .dataframe thead th {\n",
       "        text-align: right;\n",
       "    }\n",
       "</style>\n",
       "<table border=\"1\" class=\"dataframe\">\n",
       "  <thead>\n",
       "    <tr style=\"text-align: right;\">\n",
       "      <th></th>\n",
       "      <th>Fuel Type Code</th>\n",
       "      <th>Station Name</th>\n",
       "      <th>Street Address</th>\n",
       "      <th>City</th>\n",
       "      <th>State</th>\n",
       "      <th>ZIP</th>\n",
       "      <th>Station Phone</th>\n",
       "      <th>Status Code</th>\n",
       "      <th>Groups With Access Code</th>\n",
       "      <th>Access Days Time</th>\n",
       "      <th>...</th>\n",
       "      <th>Geocode Status</th>\n",
       "      <th>Latitude</th>\n",
       "      <th>Longitude</th>\n",
       "      <th>Date Last Confirmed</th>\n",
       "      <th>ID</th>\n",
       "      <th>Updated At</th>\n",
       "      <th>Open Date</th>\n",
       "      <th>EV Connector Types</th>\n",
       "      <th>Country</th>\n",
       "      <th>Access Code</th>\n",
       "    </tr>\n",
       "  </thead>\n",
       "  <tbody>\n",
       "    <tr>\n",
       "      <th>30181</th>\n",
       "      <td>ELEC</td>\n",
       "      <td>Union College - 50 Yard Line Lot</td>\n",
       "      <td>1261 Lenox Rd</td>\n",
       "      <td>Schenectady</td>\n",
       "      <td>NY</td>\n",
       "      <td>12308</td>\n",
       "      <td>866-816-7584</td>\n",
       "      <td>E</td>\n",
       "      <td>Public</td>\n",
       "      <td>24 hours daily</td>\n",
       "      <td>...</td>\n",
       "      <td>GPS</td>\n",
       "      <td>42.816642</td>\n",
       "      <td>-73.924801</td>\n",
       "      <td>2021-05-06</td>\n",
       "      <td>156046</td>\n",
       "      <td>2021-12-06 18:36:15 UTC</td>\n",
       "      <td>2020-05-01</td>\n",
       "      <td>J1772</td>\n",
       "      <td>US</td>\n",
       "      <td>public</td>\n",
       "    </tr>\n",
       "    <tr>\n",
       "      <th>69384</th>\n",
       "      <td>ELEC</td>\n",
       "      <td>BEAVERTON CNTRL GRIFFITH #1</td>\n",
       "      <td>4755 SW Griffith Dr</td>\n",
       "      <td>Beaverton</td>\n",
       "      <td>OR</td>\n",
       "      <td>97005</td>\n",
       "      <td>888-758-4389</td>\n",
       "      <td>E</td>\n",
       "      <td>Public</td>\n",
       "      <td>24 hours daily</td>\n",
       "      <td>...</td>\n",
       "      <td>GPS</td>\n",
       "      <td>45.485592</td>\n",
       "      <td>-122.798089</td>\n",
       "      <td>2022-07-25</td>\n",
       "      <td>222555</td>\n",
       "      <td>2022-07-25 01:28:07 UTC</td>\n",
       "      <td>2022-07-07</td>\n",
       "      <td>J1772</td>\n",
       "      <td>US</td>\n",
       "      <td>public</td>\n",
       "    </tr>\n",
       "    <tr>\n",
       "      <th>29188</th>\n",
       "      <td>ELEC</td>\n",
       "      <td>CPU EC 2</td>\n",
       "      <td>1200 Fort Vancouver Way Southside Public Park</td>\n",
       "      <td>Vancouver</td>\n",
       "      <td>WA</td>\n",
       "      <td>98663</td>\n",
       "      <td>888-758-4389</td>\n",
       "      <td>E</td>\n",
       "      <td>Public</td>\n",
       "      <td>24 hours daily</td>\n",
       "      <td>...</td>\n",
       "      <td>GPS</td>\n",
       "      <td>45.629460</td>\n",
       "      <td>-122.663366</td>\n",
       "      <td>2022-07-25</td>\n",
       "      <td>154099</td>\n",
       "      <td>2022-07-25 01:05:23 UTC</td>\n",
       "      <td>2020-02-27</td>\n",
       "      <td>J1772</td>\n",
       "      <td>US</td>\n",
       "      <td>public</td>\n",
       "    </tr>\n",
       "  </tbody>\n",
       "</table>\n",
       "<p>3 rows × 23 columns</p>\n",
       "</div>"
      ],
      "text/plain": [
       "      Fuel Type Code                      Station Name  \\\n",
       "30181           ELEC  Union College - 50 Yard Line Lot   \n",
       "69384           ELEC       BEAVERTON CNTRL GRIFFITH #1   \n",
       "29188           ELEC                          CPU EC 2   \n",
       "\n",
       "                                      Street Address         City State  \\\n",
       "30181                                  1261 Lenox Rd  Schenectady    NY   \n",
       "69384                            4755 SW Griffith Dr    Beaverton    OR   \n",
       "29188  1200 Fort Vancouver Way Southside Public Park    Vancouver    WA   \n",
       "\n",
       "         ZIP Station Phone Status Code Groups With Access Code  \\\n",
       "30181  12308  866-816-7584           E                  Public   \n",
       "69384  97005  888-758-4389           E                  Public   \n",
       "29188  98663  888-758-4389           E                  Public   \n",
       "\n",
       "      Access Days Time  ...  Geocode Status   Latitude   Longitude  \\\n",
       "30181   24 hours daily  ...             GPS  42.816642  -73.924801   \n",
       "69384   24 hours daily  ...             GPS  45.485592 -122.798089   \n",
       "29188   24 hours daily  ...             GPS  45.629460 -122.663366   \n",
       "\n",
       "      Date Last Confirmed      ID               Updated At   Open Date  \\\n",
       "30181          2021-05-06  156046  2021-12-06 18:36:15 UTC  2020-05-01   \n",
       "69384          2022-07-25  222555  2022-07-25 01:28:07 UTC  2022-07-07   \n",
       "29188          2022-07-25  154099  2022-07-25 01:05:23 UTC  2020-02-27   \n",
       "\n",
       "       EV Connector Types Country Access Code  \n",
       "30181               J1772      US      public  \n",
       "69384               J1772      US      public  \n",
       "29188               J1772      US      public  \n",
       "\n",
       "[3 rows x 23 columns]"
      ]
     },
     "execution_count": 85,
     "metadata": {},
     "output_type": "execute_result"
    }
   ],
   "source": [
    "df.sample(3)"
   ]
  },
  {
   "cell_type": "code",
   "execution_count": 86,
   "metadata": {},
   "outputs": [
    {
     "name": "stdout",
     "output_type": "stream",
     "text": [
      "       EV Level2 EVSE Num         EV Network  \\\n",
      "2749                  1.0      Non-Networked   \n",
      "35157                 NaN  Electrify America   \n",
      "36851                 2.0      Non-Networked   \n",
      "\n",
      "                          EV Network Web Geocode Status   Latitude   Longitude  \n",
      "2749                                 NaN          200-9  32.802475 -117.215269  \n",
      "35157  https://www.electrifyamerica.com/            GPS  37.753967 -122.488667  \n",
      "36851                                NaN            GPS  34.221087 -118.451275  \n"
     ]
    }
   ],
   "source": [
    "# Visualizamos las columnas que no se incluyen en la visualización anterior\n",
    "columnas = ['EV Level2 EVSE Num', 'EV Network', 'EV Network Web', 'Geocode Status', 'Latitude', 'Longitude']\n",
    "print(df[columnas].sample(3))"
   ]
  },
  {
   "cell_type": "markdown",
   "metadata": {},
   "source": [
    "Es posible convertir algunas columnas a otro formato de variable para facilitar los análisis estadísticos al formato int:\n",
    "- ZIP \n",
    "- Station Phone\n",
    "- EV Level2 EVSE Num\n",
    "- ID   "
   ]
  },
  {
   "cell_type": "code",
   "execution_count": 103,
   "metadata": {},
   "outputs": [],
   "source": [
    "# Se genera una copia del df original\n",
    "df2 = df.copy()"
   ]
  },
  {
   "cell_type": "code",
   "execution_count": 88,
   "metadata": {},
   "outputs": [
    {
     "name": "stdout",
     "output_type": "stream",
     "text": [
      "Valores únicos en la columna 'ZIP': ['36107' '30303' '30324' ... 'H2Z 1A4' '07732' 'V9A 2A3']\n",
      "Valores únicos en la columna 'Station Phone': [nan '770-350-3000' '479-783-3188' ... '512-930-6150' '512-228-3428'\n",
      " '204-704-5000']\n",
      "Valores únicos en la columna 'EV Level2 EVSE Num': [ nan  39.   4.  12. 311.  19.  10.   2.  46.  13.   3.   1.  16.  20.\n",
      "   6.   5.   8.  21.  67.  56.  17.   7.   9.  14.  26.  24.  11.  18.\n",
      "  32.  44.  51.  38.  28. 156. 123.  40.  25.  37.  41.  30.  15. 100.\n",
      "  42.  34.  22. 108.  60.  70.  27.  48.  50.  52.  23.  31. 106.  66.\n",
      "  29.  36. 128.  73.  49.  81.  91.  62.]\n",
      "Valores únicos en la columna 'ID': [    17     42     45 ... 224380 224381 224382]\n"
     ]
    }
   ],
   "source": [
    "columnas_int = ['ZIP', 'Station Phone', 'EV Level2 EVSE Num', 'ID']\n",
    "\n",
    "for column in columnas_int:\n",
    "    valores_unicos = df2[column].unique()\n",
    "    print(f\"Valores únicos en la columna '{column}': {valores_unicos}\")"
   ]
  },
  {
   "cell_type": "markdown",
   "metadata": {},
   "source": [
    "La columna 'ZIP' contiene valores numericos y alfanuméricos por lo que no es posible trasformarla a int. \n",
    "Los valores de 'Station Phone' contienen un separador, por otro lado se considera por el momento innecesario transformar dichos valores."
   ]
  },
  {
   "cell_type": "code",
   "execution_count": 104,
   "metadata": {},
   "outputs": [
    {
     "name": "stdout",
     "output_type": "stream",
     "text": [
      "Cantidad de NaN en cada columna:\n",
      "ZIP                       1\n",
      "Station Phone          5202\n",
      "EV Level2 EVSE Num    16262\n",
      "ID                        0\n",
      "dtype: int64\n"
     ]
    }
   ],
   "source": [
    "# Revisamos los Nan en las columnas seleccionadas\n",
    "cuenta_nan = df2[columnas_int].isnull().sum()\n",
    "print(\"Cantidad de NaN en cada columna:\")\n",
    "print(cuenta_nan)"
   ]
  },
  {
   "cell_type": "code",
   "execution_count": 105,
   "metadata": {},
   "outputs": [],
   "source": [
    "columnas_int2 = ['EV Level2 EVSE Num', 'ID']\n",
    "\n",
    "# Reemplazar NaN con 0 en las columnas seleccionadas\n",
    "df2[columnas_int2] = df2[columnas_int2].fillna(0)\n",
    "\n",
    "# Convertir las columnas a tipo int\n",
    "df2[columnas_int2] = df2[columnas_int2].astype(int)"
   ]
  },
  {
   "cell_type": "code",
   "execution_count": 82,
   "metadata": {},
   "outputs": [
    {
     "name": "stdout",
     "output_type": "stream",
     "text": [
      "<class 'pandas.core.frame.DataFrame'>\n",
      "RangeIndex: 70406 entries, 0 to 70405\n",
      "Data columns (total 24 columns):\n",
      " #   Column                            Non-Null Count  Dtype  \n",
      "---  ------                            --------------  -----  \n",
      " 0   Fuel Type Code                    70406 non-null  object \n",
      " 1   Station Name                      70406 non-null  object \n",
      " 2   Street Address                    70405 non-null  object \n",
      " 3   City                              70406 non-null  object \n",
      " 4   State                             70406 non-null  object \n",
      " 5   ZIP                               70405 non-null  object \n",
      " 6   Station Phone                     65204 non-null  object \n",
      " 7   Status Code                       70406 non-null  object \n",
      " 8   Groups With Access Code           70406 non-null  object \n",
      " 9   Access Days Time                  66628 non-null  object \n",
      " 10  EV Level2 EVSE Num                70406 non-null  int32  \n",
      " 11  EV Network                        60907 non-null  object \n",
      " 12  EV Network Web                    50305 non-null  object \n",
      " 13  Geocode Status                    70391 non-null  object \n",
      " 14  Latitude                          70406 non-null  float64\n",
      " 15  Longitude                         70406 non-null  float64\n",
      " 16  Date Last Confirmed               70188 non-null  object \n",
      " 17  ID                                70406 non-null  int32  \n",
      " 18  Updated At                        70406 non-null  object \n",
      " 19  Open Date                         69310 non-null  object \n",
      " 20  EV Connector Types                60690 non-null  object \n",
      " 21  Country                           70406 non-null  object \n",
      " 22  Groups With Access Code (French)  70406 non-null  object \n",
      " 23  Access Code                       70406 non-null  object \n",
      "dtypes: float64(2), int32(2), object(20)\n",
      "memory usage: 12.4+ MB\n"
     ]
    }
   ],
   "source": [
    "df2.info()"
   ]
  },
  {
   "cell_type": "markdown",
   "metadata": {},
   "source": [
    "Podria ser de interés evaluar la conversión a formato de fecha las columnas 'Date Last Confirmed', 'Open Date'"
   ]
  },
  {
   "cell_type": "code",
   "execution_count": 106,
   "metadata": {},
   "outputs": [],
   "source": [
    "columnas_date = ['Date Last Confirmed', 'Open Date']"
   ]
  },
  {
   "cell_type": "code",
   "execution_count": 107,
   "metadata": {},
   "outputs": [
    {
     "name": "stdout",
     "output_type": "stream",
     "text": [
      "Cantidad de NaN en cada columna:\n",
      "Date Last Confirmed     218\n",
      "Open Date              1096\n",
      "dtype: int64\n"
     ]
    }
   ],
   "source": [
    "cuenta_nan = df2[columnas_date].isnull().sum()\n",
    "print(\"Cantidad de NaN en cada columna:\")\n",
    "print(cuenta_nan)"
   ]
  },
  {
   "cell_type": "code",
   "execution_count": 108,
   "metadata": {},
   "outputs": [],
   "source": [
    "df2[columnas_date] = df2[columnas_date].fillna(0)"
   ]
  },
  {
   "cell_type": "code",
   "execution_count": 109,
   "metadata": {},
   "outputs": [],
   "source": [
    "# Convertir las columnas de fecha a formato de fecha\n",
    "date_columns = ['Date Last Confirmed', 'Open Date']\n",
    "df2[date_columns] = df2[date_columns].apply(pd.to_datetime, errors='coerce')"
   ]
  },
  {
   "cell_type": "code",
   "execution_count": 112,
   "metadata": {},
   "outputs": [],
   "source": [
    "# Es posible crear las columnas separadas para el año y el mes de \"Date Last Confirmed\"\n",
    "df2['Year Date Last Confirmed'] = df2['Date Last Confirmed'].dt.year.fillna(0).astype(int)\n",
    "df2['Month Date Last Confirmed'] = df2['Date Last Confirmed'].dt.month.fillna(0).astype(int)"
   ]
  },
  {
   "cell_type": "code",
   "execution_count": 113,
   "metadata": {},
   "outputs": [],
   "source": [
    "# De forma análoga para el año y el mes de \"Open Date\"\n",
    "df2['Year Open Date'] = df2['Open Date'].dt.year.fillna(0).astype(int)\n",
    "df2['Month Open Date'] = df2['Open Date'].dt.month.fillna(0).astype(int)"
   ]
  },
  {
   "cell_type": "code",
   "execution_count": 114,
   "metadata": {},
   "outputs": [
    {
     "name": "stdout",
     "output_type": "stream",
     "text": [
      "<class 'pandas.core.frame.DataFrame'>\n",
      "RangeIndex: 70406 entries, 0 to 70405\n",
      "Data columns (total 27 columns):\n",
      " #   Column                     Non-Null Count  Dtype         \n",
      "---  ------                     --------------  -----         \n",
      " 0   Fuel Type Code             70406 non-null  object        \n",
      " 1   Station Name               70406 non-null  object        \n",
      " 2   Street Address             70405 non-null  object        \n",
      " 3   City                       70406 non-null  object        \n",
      " 4   State                      70406 non-null  object        \n",
      " 5   ZIP                        70405 non-null  object        \n",
      " 6   Station Phone              65204 non-null  object        \n",
      " 7   Status Code                70406 non-null  object        \n",
      " 8   Groups With Access Code    70406 non-null  object        \n",
      " 9   Access Days Time           66628 non-null  object        \n",
      " 10  EV Level2 EVSE Num         70406 non-null  int32         \n",
      " 11  EV Network                 60907 non-null  object        \n",
      " 12  EV Network Web             50305 non-null  object        \n",
      " 13  Geocode Status             70391 non-null  object        \n",
      " 14  Latitude                   70406 non-null  float64       \n",
      " 15  Longitude                  70406 non-null  float64       \n",
      " 16  Date Last Confirmed        70188 non-null  datetime64[ns]\n",
      " 17  ID                         70406 non-null  int32         \n",
      " 18  Updated At                 70406 non-null  object        \n",
      " 19  Open Date                  69310 non-null  datetime64[ns]\n",
      " 20  EV Connector Types         60690 non-null  object        \n",
      " 21  Country                    70406 non-null  object        \n",
      " 22  Access Code                70406 non-null  object        \n",
      " 23  Year Date Last Confirmed   70406 non-null  int32         \n",
      " 24  Month Date Last Confirmed  70406 non-null  int32         \n",
      " 25  Year Open Date             70406 non-null  int32         \n",
      " 26  Month Open Date            70406 non-null  int32         \n",
      "dtypes: datetime64[ns](2), float64(2), int32(6), object(17)\n",
      "memory usage: 12.9+ MB\n"
     ]
    }
   ],
   "source": [
    "df2.info()"
   ]
  },
  {
   "cell_type": "code",
   "execution_count": 117,
   "metadata": {},
   "outputs": [
    {
     "name": "stdout",
     "output_type": "stream",
     "text": [
      "\n",
      "Valores únicos en columnas categóricas:\n",
      "Fuel Type Code: ['CNG' 'E85' 'ELEC' 'LNG' 'LPG' 'BD' 'HY']\n",
      "Status Code: ['E' 'T' 'P']\n",
      "Groups With Access Code: ['Private' 'Public - Card key at all times' 'Private - Government only'\n",
      " 'Public - Credit card at all times' 'TEMPORARILY UNAVAILABLE (Public)'\n",
      " 'TEMPORARILY UNAVAILABLE (Public - Credit card at all times)'\n",
      " 'Private - Fleet customers only' 'Public'\n",
      " 'Public - Credit card after hours' 'TEMPORARILY UNAVAILABLE (Private)'\n",
      " 'Private - Card key at all times' 'Public - Call ahead'\n",
      " 'Public - Card key after hours'\n",
      " 'TEMPORARILY UNAVAILABLE (Public - Credit card after hours)'\n",
      " 'TEMPORARILY UNAVAILABLE (Public - Call ahead)'\n",
      " 'TEMPORARILY UNAVAILABLE (Private - Government only)'\n",
      " 'PLANNED - not yet accessible (Public - Credit card at all times)'\n",
      " 'PLANNED - not yet accessible (Private - Government only)'\n",
      " 'Public - Limited hours' 'PLANNED - not yet accessible (Public)'\n",
      " 'PLANNED - not yet accessible (Public - Call ahead)'\n",
      " 'Private - Call ahead' 'Private - Credit card at all times'\n",
      " 'PLANNED - not yet accessible (Private)' 'Public - Fleet customers only'\n",
      " 'TEMPORARILY UNAVAILABLE (Public - Card key at all times)'\n",
      " 'Private - Credit card after hours' 'Private - Residential']\n",
      "EV Network: [nan 'Non-Networked' 'Volta' 'EV Connect' 'POWERFLEX'\n",
      " 'ChargePoint Network' 'OpConnect' 'SemaCharge Network'\n",
      " 'Tesla Destination' 'Greenlots' 'EVGATEWAY' 'eVgo Network' 'Webasto'\n",
      " 'CHARGELAB' 'AMPUP' 'PETROCAN' 'FLO' 'Sun Country Highway'\n",
      " 'AddÉnergie Technologies' 'Tesla' 'BCHYDRO' 'SWTCH' 'EVCS'\n",
      " 'Blink Network' 'FCN' 'Electrify America' 'Circuit électrique'\n",
      " 'eCharge Network' 'IVY' 'Electrify Canada' 'FPLEV' 'ZEFNET' 'LIVINGSTON'\n",
      " 'RIVIAN_WAYPOINTS' 'RIVIAN_ADVENTURE']\n",
      "Geocode Status: ['200-9' '200-8' 'GPS' '200-6' '200-7' nan '200-5' '200-4']\n",
      "Country: ['US' 'CA']\n",
      "Access Code: ['private' 'public']\n"
     ]
    }
   ],
   "source": [
    "# Obtener los valores únicos en las columnas categóricas\n",
    "categorical_columns = ['Fuel Type Code', 'Status Code', 'Groups With Access Code',\n",
    "                       'EV Network', 'Geocode Status', 'Country', 'Access Code']\n",
    "categorical_unique = {col: df2[col].unique() for col in categorical_columns}\n",
    "print(\"\\nValores únicos en columnas categóricas:\")\n",
    "for col, unique_values in categorical_unique.items():\n",
    "    print(f\"{col}: {unique_values}\")\n"
   ]
  },
  {
   "cell_type": "code",
   "execution_count": null,
   "metadata": {},
   "outputs": [],
   "source": []
  },
  {
   "cell_type": "code",
   "execution_count": null,
   "metadata": {},
   "outputs": [],
   "source": []
  },
  {
   "cell_type": "code",
   "execution_count": 116,
   "metadata": {},
   "outputs": [
    {
     "data": {
      "text/html": [
       "<div>\n",
       "<style scoped>\n",
       "    .dataframe tbody tr th:only-of-type {\n",
       "        vertical-align: middle;\n",
       "    }\n",
       "\n",
       "    .dataframe tbody tr th {\n",
       "        vertical-align: top;\n",
       "    }\n",
       "\n",
       "    .dataframe thead th {\n",
       "        text-align: right;\n",
       "    }\n",
       "</style>\n",
       "<table border=\"1\" class=\"dataframe\">\n",
       "  <thead>\n",
       "    <tr style=\"text-align: right;\">\n",
       "      <th></th>\n",
       "      <th>EV Level2 EVSE Num</th>\n",
       "      <th>Latitude</th>\n",
       "      <th>Longitude</th>\n",
       "      <th>Date Last Confirmed</th>\n",
       "      <th>ID</th>\n",
       "      <th>Open Date</th>\n",
       "      <th>Year Date Last Confirmed</th>\n",
       "      <th>Month Date Last Confirmed</th>\n",
       "      <th>Year Open Date</th>\n",
       "      <th>Month Open Date</th>\n",
       "    </tr>\n",
       "  </thead>\n",
       "  <tbody>\n",
       "    <tr>\n",
       "      <th>count</th>\n",
       "      <td>70406.000000</td>\n",
       "      <td>70406.000000</td>\n",
       "      <td>70406.000000</td>\n",
       "      <td>70188</td>\n",
       "      <td>70406.000000</td>\n",
       "      <td>69310</td>\n",
       "      <td>70406.000000</td>\n",
       "      <td>70406.000000</td>\n",
       "      <td>70406.000000</td>\n",
       "      <td>70406.000000</td>\n",
       "    </tr>\n",
       "    <tr>\n",
       "      <th>mean</th>\n",
       "      <td>1.780516</td>\n",
       "      <td>38.929309</td>\n",
       "      <td>-96.061447</td>\n",
       "      <td>2022-02-26 08:14:09.375962112</td>\n",
       "      <td>148730.326066</td>\n",
       "      <td>2019-01-15 22:20:58.831337472</td>\n",
       "      <td>2015.354856</td>\n",
       "      <td>6.940886</td>\n",
       "      <td>1987.196674</td>\n",
       "      <td>5.500156</td>\n",
       "    </tr>\n",
       "    <tr>\n",
       "      <th>min</th>\n",
       "      <td>0.000000</td>\n",
       "      <td>0.000000</td>\n",
       "      <td>-159.788556</td>\n",
       "      <td>2017-05-11 00:00:00</td>\n",
       "      <td>17.000000</td>\n",
       "      <td>1974-11-15 00:00:00</td>\n",
       "      <td>0.000000</td>\n",
       "      <td>0.000000</td>\n",
       "      <td>0.000000</td>\n",
       "      <td>0.000000</td>\n",
       "    </tr>\n",
       "    <tr>\n",
       "      <th>25%</th>\n",
       "      <td>1.000000</td>\n",
       "      <td>34.182981</td>\n",
       "      <td>-117.860563</td>\n",
       "      <td>2021-11-04 00:00:00</td>\n",
       "      <td>113723.250000</td>\n",
       "      <td>2017-12-15 00:00:00</td>\n",
       "      <td>2021.000000</td>\n",
       "      <td>7.000000</td>\n",
       "      <td>2017.000000</td>\n",
       "      <td>2.000000</td>\n",
       "    </tr>\n",
       "    <tr>\n",
       "      <th>50%</th>\n",
       "      <td>2.000000</td>\n",
       "      <td>39.105989</td>\n",
       "      <td>-92.002897</td>\n",
       "      <td>2022-07-25 00:00:00</td>\n",
       "      <td>165247.500000</td>\n",
       "      <td>2020-07-10 00:00:00</td>\n",
       "      <td>2022.000000</td>\n",
       "      <td>7.000000</td>\n",
       "      <td>2020.000000</td>\n",
       "      <td>6.000000</td>\n",
       "    </tr>\n",
       "    <tr>\n",
       "      <th>75%</th>\n",
       "      <td>2.000000</td>\n",
       "      <td>42.702185</td>\n",
       "      <td>-78.881493</td>\n",
       "      <td>2022-07-25 00:00:00</td>\n",
       "      <td>190653.750000</td>\n",
       "      <td>2021-05-15 00:00:00</td>\n",
       "      <td>2022.000000</td>\n",
       "      <td>7.000000</td>\n",
       "      <td>2021.000000</td>\n",
       "      <td>9.000000</td>\n",
       "    </tr>\n",
       "    <tr>\n",
       "      <th>max</th>\n",
       "      <td>311.000000</td>\n",
       "      <td>64.852466</td>\n",
       "      <td>40.432278</td>\n",
       "      <td>2022-07-25 00:00:00</td>\n",
       "      <td>224382.000000</td>\n",
       "      <td>2022-10-15 00:00:00</td>\n",
       "      <td>2022.000000</td>\n",
       "      <td>12.000000</td>\n",
       "      <td>2022.000000</td>\n",
       "      <td>12.000000</td>\n",
       "    </tr>\n",
       "    <tr>\n",
       "      <th>std</th>\n",
       "      <td>2.935752</td>\n",
       "      <td>5.628458</td>\n",
       "      <td>19.545273</td>\n",
       "      <td>NaN</td>\n",
       "      <td>54261.672118</td>\n",
       "      <td>NaN</td>\n",
       "      <td>112.320682</td>\n",
       "      <td>2.200399</td>\n",
       "      <td>249.923499</td>\n",
       "      <td>3.699276</td>\n",
       "    </tr>\n",
       "  </tbody>\n",
       "</table>\n",
       "</div>"
      ],
      "text/plain": [
       "       EV Level2 EVSE Num      Latitude     Longitude  \\\n",
       "count        70406.000000  70406.000000  70406.000000   \n",
       "mean             1.780516     38.929309    -96.061447   \n",
       "min              0.000000      0.000000   -159.788556   \n",
       "25%              1.000000     34.182981   -117.860563   \n",
       "50%              2.000000     39.105989    -92.002897   \n",
       "75%              2.000000     42.702185    -78.881493   \n",
       "max            311.000000     64.852466     40.432278   \n",
       "std              2.935752      5.628458     19.545273   \n",
       "\n",
       "                 Date Last Confirmed             ID  \\\n",
       "count                          70188   70406.000000   \n",
       "mean   2022-02-26 08:14:09.375962112  148730.326066   \n",
       "min              2017-05-11 00:00:00      17.000000   \n",
       "25%              2021-11-04 00:00:00  113723.250000   \n",
       "50%              2022-07-25 00:00:00  165247.500000   \n",
       "75%              2022-07-25 00:00:00  190653.750000   \n",
       "max              2022-07-25 00:00:00  224382.000000   \n",
       "std                              NaN   54261.672118   \n",
       "\n",
       "                           Open Date  Year Date Last Confirmed  \\\n",
       "count                          69310              70406.000000   \n",
       "mean   2019-01-15 22:20:58.831337472               2015.354856   \n",
       "min              1974-11-15 00:00:00                  0.000000   \n",
       "25%              2017-12-15 00:00:00               2021.000000   \n",
       "50%              2020-07-10 00:00:00               2022.000000   \n",
       "75%              2021-05-15 00:00:00               2022.000000   \n",
       "max              2022-10-15 00:00:00               2022.000000   \n",
       "std                              NaN                112.320682   \n",
       "\n",
       "       Month Date Last Confirmed  Year Open Date  Month Open Date  \n",
       "count               70406.000000    70406.000000     70406.000000  \n",
       "mean                    6.940886     1987.196674         5.500156  \n",
       "min                     0.000000        0.000000         0.000000  \n",
       "25%                     7.000000     2017.000000         2.000000  \n",
       "50%                     7.000000     2020.000000         6.000000  \n",
       "75%                     7.000000     2021.000000         9.000000  \n",
       "max                    12.000000     2022.000000        12.000000  \n",
       "std                     2.200399      249.923499         3.699276  "
      ]
     },
     "execution_count": 116,
     "metadata": {},
     "output_type": "execute_result"
    }
   ],
   "source": [
    "df2.describe()"
   ]
  },
  {
   "cell_type": "code",
   "execution_count": 25,
   "metadata": {},
   "outputs": [
    {
     "name": "stdout",
     "output_type": "stream",
     "text": [
      "Fuel Type Code                       object\n",
      "Station Name                         object\n",
      "Street Address                       object\n",
      "City                                 object\n",
      "State                                object\n",
      "ZIP                                  object\n",
      "Station Phone                        object\n",
      "Status Code                          object\n",
      "Groups With Access Code              object\n",
      "Access Days Time                     object\n",
      "EV Level2 EVSE Num                  float64\n",
      "EV Network                           object\n",
      "EV Network Web                       object\n",
      "Geocode Status                       object\n",
      "Latitude                            float64\n",
      "Longitude                           float64\n",
      "Date Last Confirmed                  object\n",
      "ID                                    int32\n",
      "Updated At                           object\n",
      "Open Date                            object\n",
      "EV Connector Types                   object\n",
      "Country                              object\n",
      "Groups With Access Code (French)     object\n",
      "Access Code                          object\n",
      "Year                                float64\n",
      "Month                               float64\n",
      "dtype: object\n"
     ]
    }
   ],
   "source": [
    "# Columnas a convertir a int\n",
    "int_columns = ['ID', 'Station Phone']\n",
    "df[int_columns] = df[int_columns].astype(int)\n",
    "\n",
    "# Columnas a convertir a float\n",
    "float_columns = ['EV Level2 EVSE Num', 'Latitude', 'Longitude']\n",
    "df[float_columns] = df[float_columns].astype(float)\n",
    "\n",
    "# Mostrar los tipos de datos después de la conversión\n",
    "print(df.dtypes)"
   ]
  },
  {
   "cell_type": "code",
   "execution_count": 27,
   "metadata": {},
   "outputs": [
    {
     "data": {
      "text/html": [
       "<div>\n",
       "<style scoped>\n",
       "    .dataframe tbody tr th:only-of-type {\n",
       "        vertical-align: middle;\n",
       "    }\n",
       "\n",
       "    .dataframe tbody tr th {\n",
       "        vertical-align: top;\n",
       "    }\n",
       "\n",
       "    .dataframe thead th {\n",
       "        text-align: right;\n",
       "    }\n",
       "</style>\n",
       "<table border=\"1\" class=\"dataframe\">\n",
       "  <thead>\n",
       "    <tr style=\"text-align: right;\">\n",
       "      <th></th>\n",
       "      <th>EV Level2 EVSE Num</th>\n",
       "      <th>Latitude</th>\n",
       "      <th>Longitude</th>\n",
       "      <th>ID</th>\n",
       "      <th>Year</th>\n",
       "      <th>Month</th>\n",
       "    </tr>\n",
       "  </thead>\n",
       "  <tbody>\n",
       "    <tr>\n",
       "      <th>count</th>\n",
       "      <td>54144.000000</td>\n",
       "      <td>70406.000000</td>\n",
       "      <td>70406.000000</td>\n",
       "      <td>70406.000000</td>\n",
       "      <td>69310.000000</td>\n",
       "      <td>69310.000000</td>\n",
       "    </tr>\n",
       "    <tr>\n",
       "      <th>mean</th>\n",
       "      <td>2.315289</td>\n",
       "      <td>38.929309</td>\n",
       "      <td>-96.061447</td>\n",
       "      <td>148730.326066</td>\n",
       "      <td>2018.620242</td>\n",
       "      <td>5.587130</td>\n",
       "    </tr>\n",
       "    <tr>\n",
       "      <th>std</th>\n",
       "      <td>3.157387</td>\n",
       "      <td>5.628458</td>\n",
       "      <td>19.545273</td>\n",
       "      <td>54261.672118</td>\n",
       "      <td>4.038681</td>\n",
       "      <td>3.662663</td>\n",
       "    </tr>\n",
       "    <tr>\n",
       "      <th>min</th>\n",
       "      <td>1.000000</td>\n",
       "      <td>0.000000</td>\n",
       "      <td>-159.788556</td>\n",
       "      <td>17.000000</td>\n",
       "      <td>1974.000000</td>\n",
       "      <td>1.000000</td>\n",
       "    </tr>\n",
       "    <tr>\n",
       "      <th>25%</th>\n",
       "      <td>2.000000</td>\n",
       "      <td>34.182981</td>\n",
       "      <td>-117.860563</td>\n",
       "      <td>113723.250000</td>\n",
       "      <td>2017.000000</td>\n",
       "      <td>2.000000</td>\n",
       "    </tr>\n",
       "    <tr>\n",
       "      <th>50%</th>\n",
       "      <td>2.000000</td>\n",
       "      <td>39.105989</td>\n",
       "      <td>-92.002897</td>\n",
       "      <td>165247.500000</td>\n",
       "      <td>2020.000000</td>\n",
       "      <td>6.000000</td>\n",
       "    </tr>\n",
       "    <tr>\n",
       "      <th>75%</th>\n",
       "      <td>2.000000</td>\n",
       "      <td>42.702185</td>\n",
       "      <td>-78.881493</td>\n",
       "      <td>190653.750000</td>\n",
       "      <td>2021.000000</td>\n",
       "      <td>9.000000</td>\n",
       "    </tr>\n",
       "    <tr>\n",
       "      <th>max</th>\n",
       "      <td>311.000000</td>\n",
       "      <td>64.852466</td>\n",
       "      <td>40.432278</td>\n",
       "      <td>224382.000000</td>\n",
       "      <td>2022.000000</td>\n",
       "      <td>12.000000</td>\n",
       "    </tr>\n",
       "  </tbody>\n",
       "</table>\n",
       "</div>"
      ],
      "text/plain": [
       "       EV Level2 EVSE Num      Latitude     Longitude             ID  \\\n",
       "count        54144.000000  70406.000000  70406.000000   70406.000000   \n",
       "mean             2.315289     38.929309    -96.061447  148730.326066   \n",
       "std              3.157387      5.628458     19.545273   54261.672118   \n",
       "min              1.000000      0.000000   -159.788556      17.000000   \n",
       "25%              2.000000     34.182981   -117.860563  113723.250000   \n",
       "50%              2.000000     39.105989    -92.002897  165247.500000   \n",
       "75%              2.000000     42.702185    -78.881493  190653.750000   \n",
       "max            311.000000     64.852466     40.432278  224382.000000   \n",
       "\n",
       "               Year         Month  \n",
       "count  69310.000000  69310.000000  \n",
       "mean    2018.620242      5.587130  \n",
       "std        4.038681      3.662663  \n",
       "min     1974.000000      1.000000  \n",
       "25%     2017.000000      2.000000  \n",
       "50%     2020.000000      6.000000  \n",
       "75%     2021.000000      9.000000  \n",
       "max     2022.000000     12.000000  "
      ]
     },
     "execution_count": 27,
     "metadata": {},
     "output_type": "execute_result"
    }
   ],
   "source": [
    "# Mostrar un resumen estadístico del DataFrame\n",
    "df.describe()"
   ]
  },
  {
   "cell_type": "code",
   "execution_count": 16,
   "metadata": {},
   "outputs": [
    {
     "name": "stdout",
     "output_type": "stream",
     "text": [
      "Fuel Type Code\n",
      "ELEC    60907\n",
      "E85      4508\n",
      "LPG      1867\n",
      "CNG      1631\n",
      "BD       1218\n",
      "LNG       158\n",
      "HY        117\n",
      "Name: count, dtype: int64\n"
     ]
    }
   ],
   "source": [
    "# Conteo de valores únicos en la columna \"Fuel Type Code\"\n",
    "fuel_type_counts = df['Fuel Type Code'].value_counts()\n",
    "print(fuel_type_counts)"
   ]
  },
  {
   "cell_type": "code",
   "execution_count": 18,
   "metadata": {},
   "outputs": [
    {
     "name": "stdout",
     "output_type": "stream",
     "text": [
      "                                       Station Name         City State\n",
      "0              Spire - Montgomery Operations Center   Montgomery    AL\n",
      "1                               PS Energy - Atlanta      Atlanta    GA\n",
      "2      Metropolitan Atlanta Rapid Transit Authority      Atlanta    GA\n",
      "3                             United Parcel Service      Atlanta    GA\n",
      "4                        Arkansas Oklahoma Gas Corp   Fort Smith    AR\n",
      "...                                             ...          ...   ...\n",
      "70401                     SCHLITZ PARK SCHLITZ PARK    Milwaukee    WI\n",
      "70402                          NEXUS EAST STATION 2       Austin    TX\n",
      "70403                                       Raley's       Loomis    CA\n",
      "70404                           13601 Glenoaks blvd  Los Angeles    CA\n",
      "70405                            6723 Van Nuys blvd  Los Angeles    CA\n",
      "\n",
      "[70406 rows x 3 columns]\n"
     ]
    }
   ],
   "source": [
    "# Filtrar filas donde el Estado sea \"CA\" (California)\n",
    "#ca_stations = df[df['State'] == 'CA']\n",
    "#print(ca_stations)\n",
    "\n",
    "# Seleccionar columnas específicas\n",
    "selected_columns = ['Station Name', 'City', 'State']\n",
    "selected_data = df[selected_columns]\n",
    "print(selected_data)\n"
   ]
  },
  {
   "cell_type": "code",
   "execution_count": 20,
   "metadata": {},
   "outputs": [
    {
     "name": "stdout",
     "output_type": "stream",
     "text": [
      "State\n",
      "AB     480\n",
      "AK      58\n",
      "AL     409\n",
      "AR     312\n",
      "AZ    1104\n",
      "      ... \n",
      "WA    1916\n",
      "WI     796\n",
      "WV     156\n",
      "WY      93\n",
      "YT      30\n",
      "Name: Station Name, Length: 65, dtype: int64\n",
      "State\n",
      "AB    2.166667\n",
      "AK    1.617021\n",
      "AL    2.181132\n",
      "AR    2.556818\n",
      "AZ    2.259694\n",
      "        ...   \n",
      "WA    2.164627\n",
      "WI    1.997436\n",
      "WV    2.315789\n",
      "WY    1.925926\n",
      "YT    2.500000\n",
      "Name: EV Level2 EVSE Num, Length: 65, dtype: float64\n"
     ]
    }
   ],
   "source": [
    "# Agrupar por Estado y contar la cantidad de estaciones en cada Estado\n",
    "stations_by_state = df.groupby('State')['Station Name'].count()\n",
    "print(stations_by_state)\n",
    "\n",
    "# Calcular el promedio de EV Level2 EVSE Num por Estado\n",
    "avg_ev_level2_per_state = df.groupby('State')['EV Level2 EVSE Num'].mean()\n",
    "print(avg_ev_level2_per_state)\n"
   ]
  },
  {
   "cell_type": "code",
   "execution_count": 21,
   "metadata": {},
   "outputs": [
    {
     "data": {
      "image/png": "[encoded data removed]",
      "text/plain": [
       "<Figure size 640x480 with 1 Axes>"
      ]
     },
     "metadata": {},
     "output_type": "display_data"
    },
    {
     "data": {
      "image/png": "[encoded data removed]",
      "text/plain": [
       "<Figure size 640x480 with 1 Axes>"
      ]
     },
     "metadata": {},
     "output_type": "display_data"
    }
   ],
   "source": [
    "import matplotlib.pyplot as plt\n",
    "\n",
    "# Graficar la distribución de tipos de combustible\n",
    "fuel_type_counts.plot(kind='bar')\n",
    "plt.title('Distribución de Tipos de Combustible')\n",
    "plt.xlabel('Tipo de Combustible')\n",
    "plt.ylabel('Cantidad')\n",
    "plt.show()\n",
    "\n",
    "# Graficar la ubicación de las estaciones en un scatter plot\n",
    "plt.scatter(df['Longitude'], df['Latitude'], alpha=0.5)\n",
    "plt.title('Ubicación de Estaciones')\n",
    "plt.xlabel('Longitud')\n",
    "plt.ylabel('Latitud')\n",
    "plt.show()\n"
   ]
  },
  {
   "cell_type": "code",
   "execution_count": 22,
   "metadata": {},
   "outputs": [
    {
     "data": {
      "image/png": "[encoded data removed]",
      "text/plain": [
       "<Figure size 1000x600 with 1 Axes>"
      ]
     },
     "metadata": {},
     "output_type": "display_data"
    }
   ],
   "source": [
    "import matplotlib.pyplot as plt\n",
    "import seaborn as sns\n",
    "\n",
    "# Histograma de puntos de carga de nivel 2\n",
    "plt.figure(figsize=(10, 6))\n",
    "sns.histplot(data=df, x='EV Level2 EVSE Num', bins=20)\n",
    "plt.xlabel('Cantidad de Puntos de Carga de Nivel 2')\n",
    "plt.ylabel('Frecuencia')\n",
    "plt.title('Distribución de Puntos de Carga de Nivel 2')\n",
    "plt.show()\n"
   ]
  },
  {
   "cell_type": "code",
   "execution_count": 19,
   "metadata": {},
   "outputs": [
    {
     "name": "stdout",
     "output_type": "stream",
     "text": [
      "Fuel Type Code                          0\n",
      "Station Name                            0\n",
      "Street Address                          1\n",
      "City                                    0\n",
      "State                                   0\n",
      "ZIP                                     1\n",
      "Station Phone                        5202\n",
      "Status Code                             0\n",
      "Groups With Access Code                 0\n",
      "Access Days Time                     3778\n",
      "EV Level2 EVSE Num                  16262\n",
      "EV Network                           9499\n",
      "EV Network Web                      20101\n",
      "Geocode Status                         15\n",
      "Latitude                                0\n",
      "Longitude                               0\n",
      "Date Last Confirmed                   218\n",
      "ID                                      0\n",
      "Updated At                              0\n",
      "Open Date                            1096\n",
      "EV Connector Types                   9716\n",
      "Country                                 0\n",
      "Groups With Access Code (French)        0\n",
      "Access Code                             0\n",
      "dtype: int64\n"
     ]
    }
   ],
   "source": [
    "# Conteo de valores faltantes por columna\n",
    "missing_values = df.isnull().sum()\n",
    "print(missing_values)\n"
   ]
  },
  {
   "cell_type": "code",
   "execution_count": 26,
   "metadata": {},
   "outputs": [
    {
     "data": {
      "text/html": [
       "<div>\n",
       "<style scoped>\n",
       "    .dataframe tbody tr th:only-of-type {\n",
       "        vertical-align: middle;\n",
       "    }\n",
       "\n",
       "    .dataframe tbody tr th {\n",
       "        vertical-align: top;\n",
       "    }\n",
       "\n",
       "    .dataframe thead th {\n",
       "        text-align: right;\n",
       "    }\n",
       "</style>\n",
       "<table border=\"1\" class=\"dataframe\">\n",
       "  <thead>\n",
       "    <tr style=\"text-align: right;\">\n",
       "      <th></th>\n",
       "      <th>EV Level2 EVSE Num</th>\n",
       "      <th>Latitude</th>\n",
       "      <th>Longitude</th>\n",
       "      <th>ID</th>\n",
       "      <th>Year</th>\n",
       "      <th>Month</th>\n",
       "    </tr>\n",
       "  </thead>\n",
       "  <tbody>\n",
       "    <tr>\n",
       "      <th>count</th>\n",
       "      <td>54144.000000</td>\n",
       "      <td>70406.000000</td>\n",
       "      <td>70406.000000</td>\n",
       "      <td>70406.000000</td>\n",
       "      <td>69310.000000</td>\n",
       "      <td>69310.000000</td>\n",
       "    </tr>\n",
       "    <tr>\n",
       "      <th>mean</th>\n",
       "      <td>2.315289</td>\n",
       "      <td>38.929309</td>\n",
       "      <td>-96.061447</td>\n",
       "      <td>148730.326066</td>\n",
       "      <td>2018.620242</td>\n",
       "      <td>5.587130</td>\n",
       "    </tr>\n",
       "    <tr>\n",
       "      <th>std</th>\n",
       "      <td>3.157387</td>\n",
       "      <td>5.628458</td>\n",
       "      <td>19.545273</td>\n",
       "      <td>54261.672118</td>\n",
       "      <td>4.038681</td>\n",
       "      <td>3.662663</td>\n",
       "    </tr>\n",
       "    <tr>\n",
       "      <th>min</th>\n",
       "      <td>1.000000</td>\n",
       "      <td>0.000000</td>\n",
       "      <td>-159.788556</td>\n",
       "      <td>17.000000</td>\n",
       "      <td>1974.000000</td>\n",
       "      <td>1.000000</td>\n",
       "    </tr>\n",
       "    <tr>\n",
       "      <th>25%</th>\n",
       "      <td>2.000000</td>\n",
       "      <td>34.182981</td>\n",
       "      <td>-117.860563</td>\n",
       "      <td>113723.250000</td>\n",
       "      <td>2017.000000</td>\n",
       "      <td>2.000000</td>\n",
       "    </tr>\n",
       "    <tr>\n",
       "      <th>50%</th>\n",
       "      <td>2.000000</td>\n",
       "      <td>39.105989</td>\n",
       "      <td>-92.002897</td>\n",
       "      <td>165247.500000</td>\n",
       "      <td>2020.000000</td>\n",
       "      <td>6.000000</td>\n",
       "    </tr>\n",
       "    <tr>\n",
       "      <th>75%</th>\n",
       "      <td>2.000000</td>\n",
       "      <td>42.702185</td>\n",
       "      <td>-78.881493</td>\n",
       "      <td>190653.750000</td>\n",
       "      <td>2021.000000</td>\n",
       "      <td>9.000000</td>\n",
       "    </tr>\n",
       "    <tr>\n",
       "      <th>max</th>\n",
       "      <td>311.000000</td>\n",
       "      <td>64.852466</td>\n",
       "      <td>40.432278</td>\n",
       "      <td>224382.000000</td>\n",
       "      <td>2022.000000</td>\n",
       "      <td>12.000000</td>\n",
       "    </tr>\n",
       "  </tbody>\n",
       "</table>\n",
       "</div>"
      ],
      "text/plain": [
       "       EV Level2 EVSE Num      Latitude     Longitude             ID  \\\n",
       "count        54144.000000  70406.000000  70406.000000   70406.000000   \n",
       "mean             2.315289     38.929309    -96.061447  148730.326066   \n",
       "std              3.157387      5.628458     19.545273   54261.672118   \n",
       "min              1.000000      0.000000   -159.788556      17.000000   \n",
       "25%              2.000000     34.182981   -117.860563  113723.250000   \n",
       "50%              2.000000     39.105989    -92.002897  165247.500000   \n",
       "75%              2.000000     42.702185    -78.881493  190653.750000   \n",
       "max            311.000000     64.852466     40.432278  224382.000000   \n",
       "\n",
       "               Year         Month  \n",
       "count  69310.000000  69310.000000  \n",
       "mean    2018.620242      5.587130  \n",
       "std        4.038681      3.662663  \n",
       "min     1974.000000      1.000000  \n",
       "25%     2017.000000      2.000000  \n",
       "50%     2020.000000      6.000000  \n",
       "75%     2021.000000      9.000000  \n",
       "max     2022.000000     12.000000  "
      ]
     },
     "execution_count": 26,
     "metadata": {},
     "output_type": "execute_result"
    }
   ],
   "source": [
    "# Mostrar un resumen estadístico del DataFrame\n",
    "df.describe()"
   ]
  },
  {
   "cell_type": "code",
   "execution_count": 23,
   "metadata": {},
   "outputs": [],
   "source": [
    "# Convertir la columna 'Open Date' a formato de fecha\n",
    "df['Open Date'] = pd.to_datetime(df['Open Date'])\n",
    "\n",
    "# Convertir la columna 'Status Code' a categoría\n",
    "df['Status Code'] = df['Status Code'].astype('category')\n"
   ]
  },
  {
   "cell_type": "code",
   "execution_count": 24,
   "metadata": {},
   "outputs": [
    {
     "name": "stdout",
     "output_type": "stream",
     "text": [
      "Year\n",
      "1974.0        1\n",
      "1978.0        1\n",
      "1980.0        2\n",
      "1983.0        1\n",
      "1984.0        1\n",
      "1985.0        2\n",
      "1986.0        1\n",
      "1987.0       12\n",
      "1988.0        4\n",
      "1989.0        5\n",
      "1990.0        4\n",
      "1991.0        9\n",
      "1992.0       11\n",
      "1993.0       12\n",
      "1994.0       10\n",
      "1995.0       25\n",
      "1996.0       88\n",
      "1997.0       38\n",
      "1998.0       38\n",
      "1999.0      146\n",
      "2000.0      316\n",
      "2001.0       49\n",
      "2002.0       69\n",
      "2003.0      111\n",
      "2004.0       65\n",
      "2005.0      157\n",
      "2006.0      216\n",
      "2007.0      262\n",
      "2008.0      304\n",
      "2009.0      329\n",
      "2010.0      305\n",
      "2011.0     1325\n",
      "2012.0     1984\n",
      "2013.0     1148\n",
      "2014.0     1589\n",
      "2015.0     2778\n",
      "2016.0     2944\n",
      "2017.0     3048\n",
      "2018.0     3864\n",
      "2019.0     7026\n",
      "2020.0    10170\n",
      "2021.0    22048\n",
      "2022.0     8792\n",
      "Name: count, dtype: int64\n"
     ]
    }
   ],
   "source": [
    "# Extraer el año y el mes de la columna 'Open Date'\n",
    "df['Year'] = df['Open Date'].dt.year\n",
    "df['Month'] = df['Open Date'].dt.month\n",
    "\n",
    "# Conteo de estaciones abiertas por año\n",
    "stations_per_year = df['Year'].value_counts().sort_index()\n",
    "print(stations_per_year)\n"
   ]
  }
 ],
 "metadata": {
  "kernelspec": {
   "display_name": "Python 3",
   "language": "python",
   "name": "python3"
  },
  "language_info": {
   "codemirror_mode": {
    "name": "ipython",
    "version": 3
   },
   "file_extension": ".py",
   "mimetype": "text/x-python",
   "name": "python",
   "nbconvert_exporter": "python",
   "pygments_lexer": "ipython3",
   "version": "3.11.4"
  },
  "orig_nbformat": 4
 },
 "nbformat": 4,
 "nbformat_minor": 2
}
